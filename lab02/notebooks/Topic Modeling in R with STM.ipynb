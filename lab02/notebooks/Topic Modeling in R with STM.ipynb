{
 "cells": [
  {
   "cell_type": "markdown",
   "metadata": {},
   "source": [
    "# STM R\n",
    "\n",
    "Dans ce deuxieme lab, nous allons reprendre le corpus de l'est republicain mais avec le package STM en R.\n",
    "\n",
    "Meme dataset que pour le lab 01\n",
    "\n",
    "Pourquoi le package STM en R?\n",
    "\n",
    "http://www.structuraltopicmodel.com/\n",
    "\n",
    "* Facile à utiliser\n",
    "* Beaucoup de fonctionnalités: preparation du corpus, visualization, ...\n",
    "* Nombre de topics suggérés et analysable\n"
   ]
  },
  {
   "cell_type": "markdown",
   "metadata": {},
   "source": [
    "# Le code R :\n",
    "\n",
    "1. Chargement du dataset dans une dataframe\n",
    "2. Nettoyage du code\n",
    "3. Filtrage des mots en fonction de leur fréquence\n",
    "4. STM / LDA\n",
    "5. Résultats\n",
    "6. Bonheur / Bliss \n",
    "\n"
   ]
  },
  {
   "cell_type": "code",
   "execution_count": 2,
   "metadata": {},
   "outputs": [
    {
     "ename": "ERROR",
     "evalue": "Error in library(\"stm\"): there is no package called ‘stm’\n",
     "output_type": "error",
     "traceback": [
      "Error in library(\"stm\"): there is no package called ‘stm’\nTraceback:\n",
      "1. source(\"initialize.R\")",
      "2. withVisible(eval(ei, envir))",
      "3. eval(ei, envir)",
      "4. eval(expr, envir, enclos)",
      "5. library(\"stm\")",
      "6. stop(txt, domain = NA)"
     ]
    }
   ],
   "source": [
    "# set working directory\n",
    "setwd(\"~/UPEM-NUMI/lab02/notebooks/\")\n",
    "\n",
    "# Chargement des packages\n",
    "source('initialize.R')\n",
    "\n",
    "# initialisation des parametres de l'experience\n",
    "source('config.R')"
   ]
  },
  {
   "cell_type": "code",
   "execution_count": 2,
   "metadata": {},
   "outputs": [
    {
     "name": "stdout",
     "output_type": "stream",
     "text": [
      "\n",
      "[05:52:52] Load data from /Users/alexis/amcp/upem/UPEM-NUMI/lab02/data/estrepublicain_annee_1999.csv\n",
      "[05:52:56] dimensions:"
     ]
    },
    {
     "data": {
      "text/html": [
       "<ol class=list-inline>\n",
       "\t<li>10000</li>\n",
       "\t<li>1</li>\n",
       "</ol>\n"
      ],
      "text/latex": [
       "\\begin{enumerate*}\n",
       "\\item 10000\n",
       "\\item 1\n",
       "\\end{enumerate*}\n"
      ],
      "text/markdown": [
       "1. 10000\n",
       "2. 1\n",
       "\n",
       "\n"
      ],
      "text/plain": [
       "[1] 10000     1"
      ]
     },
     "metadata": {},
     "output_type": "display_data"
    },
    {
     "name": "stdout",
     "output_type": "stream",
     "text": [
      "\n",
      "[05:52:56]  2 premiers paragraphes"
     ]
    },
    {
     "data": {
      "text/html": [
       "<ol class=list-inline>\n",
       "\t<li>André Bauer, le Bonhomme de St-Dié ; Alain Dagosto, Bières de Vézelize (54) ; Paulette Gay, Pieds de cochons de Dommartin ; Corinne Dexemple, Tourte néocastrienne ; Bernadette Paulin, Pâté lorrain de Châtenois ; Andrée Labrux, Pétrou de Senones ; Marie-Thérèse Muller, Cochonneux de la Seille de Sillegny (57) ; Ginette Laporte, Eau de Contrexéville ; Danièle Richard, Framboise saulxuronne ; Josette Pouchucq, Cuisses de grenouilles de Vittel ; Daniel Léonard, Nostre damme de Chiney (Belgique) ; Sophie Valdenaire, Pissenlit de Xertigny ; Simone Leick, Cochon d'autrefois de Sierck les Bains (57) ; Yves Lievens, Kuulkappers de St-Gilles (Belgique) ; Brigitte Lievens, Miel de montagne de Plombières ; Louise Fallot, Madeleine de Commercy ; Claude Himbert, Macaron et bergamote de Nancy ; Robert Fuchs, Marmite d'or ; Jean-Pierre Ruspini, Saumon de Salm ; Jean-Marie Mougel, Andouille du Val d'Ajol ; Jean-François Ancel, Rognons blancs de Raon aux Bois ; Evelyne Bailleux, Fine coquille de Poseïdon de Recey sur Ource (21) ; Dominique Thaller, Tête de veau de Rambervillers ; Nicole Dubois, Boudin noir de Soissons (02) ; Martine Pattey, Image d'Epinal.</li>\n",
       "\t<li>Le Smash Entente Club de Lunéville (SECL) a repris ses activités au complexe Berte. Les séances d'entraînement du mercredi soir, de 20 h à 22 h, sont ouvertes à toute personne adulte désirant pratiquer le volley-ball dans un esprit de loisir et de détente. Pour ceux ou celles qui souhaitent participer au championnat loisir, un entraînement spécifique leur est proposé le lundi soir, aux mêmes horaires. L'assemblée générale du club aura lieu le mercredi 29 septembre, à 20 h, dans la salle de réunion de la maison des sports. Tous les membres du club y sont conviés ainsi que toutes les personnes intéressées. Pour tout renseignement complémentaire, s'adresser au président J. Ravaine (03.83.74.12.28).</li>\n",
       "</ol>\n"
      ],
      "text/latex": [
       "\\begin{enumerate*}\n",
       "\\item André Bauer, le Bonhomme de St-Dié ; Alain Dagosto, Bières de Vézelize (54) ; Paulette Gay, Pieds de cochons de Dommartin ; Corinne Dexemple, Tourte néocastrienne ; Bernadette Paulin, Pâté lorrain de Châtenois ; Andrée Labrux, Pétrou de Senones ; Marie-Thérèse Muller, Cochonneux de la Seille de Sillegny (57) ; Ginette Laporte, Eau de Contrexéville ; Danièle Richard, Framboise saulxuronne ; Josette Pouchucq, Cuisses de grenouilles de Vittel ; Daniel Léonard, Nostre damme de Chiney (Belgique) ; Sophie Valdenaire, Pissenlit de Xertigny ; Simone Leick, Cochon d'autrefois de Sierck les Bains (57) ; Yves Lievens, Kuulkappers de St-Gilles (Belgique) ; Brigitte Lievens, Miel de montagne de Plombières ; Louise Fallot, Madeleine de Commercy ; Claude Himbert, Macaron et bergamote de Nancy ; Robert Fuchs, Marmite d'or ; Jean-Pierre Ruspini, Saumon de Salm ; Jean-Marie Mougel, Andouille du Val d'Ajol ; Jean-François Ancel, Rognons blancs de Raon aux Bois ; Evelyne Bailleux, Fine coquille de Poseïdon de Recey sur Ource (21) ; Dominique Thaller, Tête de veau de Rambervillers ; Nicole Dubois, Boudin noir de Soissons (02) ; Martine Pattey, Image d'Epinal.\n",
       "\\item Le Smash Entente Club de Lunéville (SECL) a repris ses activités au complexe Berte. Les séances d'entraînement du mercredi soir, de 20 h à 22 h, sont ouvertes à toute personne adulte désirant pratiquer le volley-ball dans un esprit de loisir et de détente. Pour ceux ou celles qui souhaitent participer au championnat loisir, un entraînement spécifique leur est proposé le lundi soir, aux mêmes horaires. L'assemblée générale du club aura lieu le mercredi 29 septembre, à 20 h, dans la salle de réunion de la maison des sports. Tous les membres du club y sont conviés ainsi que toutes les personnes intéressées. Pour tout renseignement complémentaire, s'adresser au président J. Ravaine (03.83.74.12.28).\n",
       "\\end{enumerate*}\n"
      ],
      "text/markdown": [
       "1. André Bauer, le Bonhomme de St-Dié ; Alain Dagosto, Bières de Vézelize (54) ; Paulette Gay, Pieds de cochons de Dommartin ; Corinne Dexemple, Tourte néocastrienne ; Bernadette Paulin, Pâté lorrain de Châtenois ; Andrée Labrux, Pétrou de Senones ; Marie-Thérèse Muller, Cochonneux de la Seille de Sillegny (57) ; Ginette Laporte, Eau de Contrexéville ; Danièle Richard, Framboise saulxuronne ; Josette Pouchucq, Cuisses de grenouilles de Vittel ; Daniel Léonard, Nostre damme de Chiney (Belgique) ; Sophie Valdenaire, Pissenlit de Xertigny ; Simone Leick, Cochon d'autrefois de Sierck les Bains (57) ; Yves Lievens, Kuulkappers de St-Gilles (Belgique) ; Brigitte Lievens, Miel de montagne de Plombières ; Louise Fallot, Madeleine de Commercy ; Claude Himbert, Macaron et bergamote de Nancy ; Robert Fuchs, Marmite d'or ; Jean-Pierre Ruspini, Saumon de Salm ; Jean-Marie Mougel, Andouille du Val d'Ajol ; Jean-François Ancel, Rognons blancs de Raon aux Bois ; Evelyne Bailleux, Fine coquille de Poseïdon de Recey sur Ource (21) ; Dominique Thaller, Tête de veau de Rambervillers ; Nicole Dubois, Boudin noir de Soissons (02) ; Martine Pattey, Image d'Epinal.\n",
       "2. Le Smash Entente Club de Lunéville (SECL) a repris ses activités au complexe Berte. Les séances d'entraînement du mercredi soir, de 20 h à 22 h, sont ouvertes à toute personne adulte désirant pratiquer le volley-ball dans un esprit de loisir et de détente. Pour ceux ou celles qui souhaitent participer au championnat loisir, un entraînement spécifique leur est proposé le lundi soir, aux mêmes horaires. L'assemblée générale du club aura lieu le mercredi 29 septembre, à 20 h, dans la salle de réunion de la maison des sports. Tous les membres du club y sont conviés ainsi que toutes les personnes intéressées. Pour tout renseignement complémentaire, s'adresser au président J. Ravaine (03.83.74.12.28).\n",
       "\n",
       "\n"
      ],
      "text/plain": [
       "[1] André Bauer, le Bonhomme de St-Dié ; Alain Dagosto, Bières de Vézelize (54) ; Paulette Gay, Pieds de cochons de Dommartin ; Corinne Dexemple, Tourte néocastrienne ; Bernadette Paulin, Pâté lorrain de Châtenois ; Andrée Labrux, Pétrou de Senones ; Marie-Thérèse Muller, Cochonneux de la Seille de Sillegny (57) ; Ginette Laporte, Eau de Contrexéville ; Danièle Richard, Framboise saulxuronne ; Josette Pouchucq, Cuisses de grenouilles de Vittel ; Daniel Léonard, Nostre damme de Chiney (Belgique) ; Sophie Valdenaire, Pissenlit de Xertigny ; Simone Leick, Cochon d'autrefois de Sierck les Bains (57) ; Yves Lievens, Kuulkappers de St-Gilles (Belgique) ; Brigitte Lievens, Miel de montagne de Plombières ; Louise Fallot, Madeleine de Commercy ; Claude Himbert, Macaron et bergamote de Nancy ; Robert Fuchs, Marmite d'or ; Jean-Pierre Ruspini, Saumon de Salm ; Jean-Marie Mougel, Andouille du Val d'Ajol ; Jean-François Ancel, Rognons blancs de Raon aux Bois ; Evelyne Bailleux, Fine coquille de Poseïdon de Recey sur Ource (21) ; Dominique Thaller, Tête de veau de Rambervillers ; Nicole Dubois, Boudin noir de Soissons (02) ; Martine Pattey, Image d'Epinal.\n",
       "[2] Le Smash Entente Club de Lunéville (SECL) a repris ses activités au complexe Berte. Les séances d'entraînement du mercredi soir, de 20 h à 22 h, sont ouvertes à toute personne adulte désirant pratiquer le volley-ball dans un esprit de loisir et de détente. Pour ceux ou celles qui souhaitent participer au championnat loisir, un entraînement spécifique leur est proposé le lundi soir, aux mêmes horaires. L'assemblée générale du club aura lieu le mercredi 29 septembre, à 20 h, dans la salle de réunion de la maison des sports. Tous les membres du club y sont conviés ainsi que toutes les personnes intéressées. Pour tout renseignement complémentaire, s'adresser au président J. Ravaine (03.83.74.12.28).                                                                                                                                                                                                                                                                                                                                                                                                                                                                    \n",
       "10000 Levels: _ « Je protège toujours mon entraîneur et son staff. Nous sommes tous sur le même bateau et on doit ramer dans le même sens en compagnie des joueurs. Maintenant, vu les moyens engagés et les installations mises à disposition, je ne peux rien donner de plus. Il faut que le doute disparaisse, que le groupe se stabilise, prenne des points et se montre plus conquérant. Quant au recrutement d'un libero, nous n'avons pas trouvé l'élément susceptible de remplacer Jean-Guy Wallemme. Si les techniciens tombent d'accord sur un nom, je ne cracherai pas dessus. Mais j'estime que nous disposons pour la D2 d'un effectif suffisamment bien armé. Maintenant, je le répète, c'est aux joueurs d'aller chercher une victoire impérative face à Caen samedi ». ..."
      ]
     },
     "metadata": {},
     "output_type": "display_data"
    }
   ],
   "source": [
    "# ------------------------------------------------------------------------------\n",
    "#  Load data\n",
    "# ------------------------------------------------------------------------------\n",
    "qqcat(\"Load data from @{s.input_file}\")\n",
    "\n",
    "# Chargement du corpus dans une dataframe\n",
    "df <- read.csv(s.input_file, nrows = s.max_rows, col.names = c(s.text_feature))\n",
    "\n",
    "# combien de rows\n",
    "qqcat(\"dimensions:\")\n",
    "dim(df)\n",
    "\n",
    "# Vérifier le contenu\n",
    "qqcat(\" 2 premiers paragraphes\")\n",
    "df$text[0:2]"
   ]
  },
  {
   "cell_type": "markdown",
   "metadata": {},
   "source": [
    "# Pre processing\n",
    "\n",
    "\n",
    "Le package stm fait tout!\n",
    "\n",
    "\n",
    "```processed``` contient\n",
    "\n",
    "* ```processed$documents``` la matrice mots -documents\n",
    "* ```processed$vocab``` la liste des mots\n",
    "\n",
    "\n",
    "### Parametres\n",
    "\n",
    "* lowercase\n",
    "* removestopwords: utilise le snowball stemmer (meme que NLTK) cf: http://snowball.tartarus.org/algorithms/french/stop.txt\n",
    "* ajouter des mots avec customstopwords\n",
    "* stem: stemming transforme le mot en sa racine != lematization\n",
    "\n"
   ]
  },
  {
   "cell_type": "code",
   "execution_count": 4,
   "metadata": {},
   "outputs": [
    {
     "name": "stdout",
     "output_type": "stream",
     "text": [
      "\n",
      "[05:55:30] pre processing\n",
      "A text corpus with 10000 documents, and an 123532 word dictionary.\n"
     ]
    }
   ],
   "source": [
    "# ------------------------------------------------------------------------------\n",
    "# 1) pre process the text with basic NLP massaging\n",
    "# ------------------------------------------------------------------------------\n",
    "qqcat(\"pre processing\\n\")\n",
    "processed <- textProcessor(df[,s.text_feature],\n",
    "                           language         = \"fr\",\n",
    "                           lowercase        = FALSE,\n",
    "                           removestopwords  = FALSE,\n",
    "                           # customstopwords  = c('des'),\n",
    "                           removenumbers    = FALSE,\n",
    "                           removepunctuation = FALSE,\n",
    "                           wordLengths      = c(s.min_wordlen,Inf),\n",
    "                           striphtml        = FALSE,\n",
    "                           stem             = FALSE,\n",
    "                           verbose          = FALSE,\n",
    "                           metadata         = df)\n",
    "print(processed)\n",
    "\n",
    "\n"
   ]
  },
  {
   "cell_type": "markdown",
   "metadata": {},
   "source": [
    "## Reduire le corpus\n",
    "\n",
    "Exclure les mots trop frequents ou pas assez avec ```lower.thresh``` et ```upper.thresh```\n",
    "\n"
   ]
  },
  {
   "cell_type": "code",
   "execution_count": 5,
   "metadata": {},
   "outputs": [
    {
     "name": "stdout",
     "output_type": "stream",
     "text": [
      "Removing 118463 of 123532 terms (282553 of 798531 tokens) due to frequency \n",
      "Removing 1 Documents with No Words \n",
      "Your corpus now has 9999 documents, 5069 terms and 515978 tokens."
     ]
    }
   ],
   "source": [
    "out   <- prepDocuments(processed$documents,\n",
    "                       processed$vocab,\n",
    "                       processed$meta,\n",
    "                       lower.thresh = s.thresh.lower,\n",
    "                       upper.thresh = s.thresh.upper\n",
    "                   )\n",
    "\n",
    "docs  <- out$documents\n",
    "vocab <- out$vocab\n",
    "meta  <- out$meta\n"
   ]
  },
  {
   "cell_type": "markdown",
   "metadata": {},
   "source": [
    "# Le topic model\n",
    "\n",
    "On peut specifier un nombre de topic comme avec Gensim\n",
    "\n",
    "Mais aussi laisser le modele trouver le nombre de topic optimal en donnant la valeur 0\n",
    "\n",
    "\n"
   ]
  },
  {
   "cell_type": "code",
   "execution_count": 6,
   "metadata": {},
   "outputs": [
    {
     "name": "stdout",
     "output_type": "stream",
     "text": [
      "\n",
      "[05:56:15] fit stm\n",
      "Beginning Spectral Initialization \n",
      "\t Calculating the gram matrix...\n",
      "\t Finding anchor words...\n",
      " \t\n",
      "\t Recovering initialization...\n",
      " \t..................................................\n",
      "Initialization complete.\n",
      ".....................................................................................................\n",
      "Completed E-Step (20 seconds). \n",
      "Completed M-Step. \n",
      "Completing Iteration 1 (approx. per word bound = -6.949) \n",
      ".....................................................................................................\n",
      "Completed E-Step (17 seconds). \n",
      "Completed M-Step. \n",
      "Completing Iteration 2 (approx. per word bound = -6.815, relative change = 1.928e-02) \n",
      ".....................................................................................................\n",
      "Completed E-Step (16 seconds). \n",
      "Completed M-Step. \n",
      "Completing Iteration 3 (approx. per word bound = -6.769, relative change = 6.718e-03) \n",
      ".....................................................................................................\n",
      "Completed E-Step (15 seconds). \n",
      "Completed M-Step. \n",
      "Completing Iteration 4 (approx. per word bound = -6.748, relative change = 3.217e-03) \n",
      ".....................................................................................................\n",
      "Completed E-Step (13 seconds). \n",
      "Completed M-Step. \n",
      "Completing Iteration 5 (approx. per word bound = -6.735, relative change = 1.816e-03) \n",
      ".....................................................................................................\n",
      "Completed E-Step (13 seconds). \n",
      "Completed M-Step. \n",
      "Completing Iteration 6 (approx. per word bound = -6.728, relative change = 1.121e-03) \n",
      ".....................................................................................................\n",
      "Completed E-Step (12 seconds). \n",
      "Completed M-Step. \n",
      "Completing Iteration 7 (approx. per word bound = -6.722, relative change = 8.085e-04) \n",
      ".....................................................................................................\n",
      "Completed E-Step (12 seconds). \n",
      "Completed M-Step. \n",
      "Completing Iteration 8 (approx. per word bound = -6.718, relative change = 5.692e-04) \n",
      ".....................................................................................................\n",
      "Completed E-Step (11 seconds). \n",
      "Completed M-Step. \n",
      "Completing Iteration 9 (approx. per word bound = -6.716, relative change = 4.374e-04) \n",
      ".....................................................................................................\n",
      "Completed E-Step (11 seconds). \n",
      "Completed M-Step. \n",
      "Completing Iteration 10 (approx. per word bound = -6.713, relative change = 3.324e-04) \n",
      "Topic 1: (ind), philippe, roland, (psa, dtat) \n",
      " Topic 2: 10., 15., 11., 13., 12. \n",
      " Topic 3: des, chacun, est, chef, française \n",
      " Topic 4: elle, est, club, une, mme \n",
      " Topic 5: 30., tri, 24., 26., 28. \n",
      " Topic 6: pays, groupe, sud, 34., montbéliard \n",
      " Topic 7: (vc, (asptt, nancy), (cc, 38. \n",
      " Topic 8: 30,, vendredi, lundi, jeudi, mardi \n",
      " Topic 9: (la, antoine, bresse), henry, (les \n",
      " Topic 10: police, les, commerce, des, qui \n",
      " Topic 11: nancy, nancy,, nancy., metz, strasbourg \n",
      " Topic 12: général, conseiller, daniel, président, gérard \n",
      " Topic 13: bureau, les, (le, des, titulaire \n",
      " Topic 14: maurice, yves, etienne, 98., bertrand \n",
      " Topic 15: que, les, des, l'on, qui \n",
      " Topic 16: rue, des, place, route, sur \n",
      " Topic 17: ans,, née, olivier, marie, stéphane \n",
      " Topic 18: des, été, ont, les, par \n",
      " Topic 19: sur, des, par, pour, une \n",
      " Topic 20: son, avait, que, pas, qui \n",
      " Topic 21: les, avec, feu, l'office, pour \n",
      " Topic 22: moins, contre, ans, les, stade \n",
      " Topic 23: france, qu'on, (r), journal, journal-météo \n",
      " Topic 24: france, titre, les, coupe, championnat \n",
      " Topic 25: été, pour, par, dans, des \n",
      " Topic 26: les, sur, des, pour, est \n",
      " Topic 27: les, sur, par, pour, qui \n",
      " Topic 28: sur, une, les, était, dans \n",
      " Topic 29: les, ont, enfants, des, élèves \n",
      " Topic 30: des, musique, les, par, dans \n",
      " Topic 31: qui, les, des, leur, pas \n",
      " Topic 32: des, avec, les, aux, sur \n",
      " Topic 33: les, qui, cette, des, plus \n",
      " Topic 34: des, les, pour, sont, pas \n",
      " Topic 35: des, conseil, pour, communes, projet \n",
      " Topic 36: une, l'école, les, avec, 100 \n",
      " Topic 37: des, travaux, une, cette, été \n",
      " Topic 38: les, nous, des, plus, pour \n",
      " Topic 39: par, des, une, les, pour \n",
      " Topic 40: des, qui, que, dans, l'ensemble \n",
      " Topic 41: pour, une, sur, avec, son \n",
      " Topic 42: autres, les, lancer, juillet,, thierry \n",
      " Topic 43: pierre,, nicolas,, didier, emilie,, marie, \n",
      " Topic 44: vous, pour, les, une, votre \n",
      " Topic 45: pour, son, une, qui, est \n",
      " Topic 46: section, ses, jean-paul, des, vendredi, \n",
      " Topic 47: des, les, pour, centre, activités \n",
      " Topic 48: nicolas, julien, collège, sébastien, david \n",
      " Topic 49: les, des, club, ont, président \n",
      " Topic 50: les, dans, des, par, pour \n",
      " Topic 51: dimanche, samedi, une, château, les \n",
      " Topic 52: j'ai, pas, suis, que, mon \n",
      " Topic 53: nous, pas, avons, que, sommes \n",
      " Topic 54: les, seront, sont, toutes, chez \n",
      " Topic 55: par, dans, sur, deux, une \n",
      " Topic 56: pas, est, que, n'est, une \n",
      " Topic 57: des, les, dans, une, qui \n",
      " Topic 58: des, sur, par, les, une \n",
      " Topic 59: les, pour, ans, septembre, cours \n",
      " Topic 60: nous, notre, nos, que, par \n",
      " Topic 61: les, ils, dans, ont, deux \n",
      " Topic 62: son, est, qui, dans, elle \n",
      " Topic 63: pour, les, soit, par, une \n",
      " Topic 64: pour, saison, que, qui, pas \n",
      " Topic 65: pierre, jean, jacques, bernard, michel \n",
      " Topic 66: que, c'est, qui, plus, tout \n",
      " Topic 67: tour, bat, andré, simple, raymond \n",
      " Topic 68: richard, blanc, toul, les, par \n",
      " Topic 69: les, leur, ont, pour, ils \n",
      " Topic 70: une, sur, salle, les, spectacle \n",
      " Topic 71: son, elle, dans, ans, famille \n",
      " Topic 72: les, des, par, amis, portes \n",
      " Topic 73: des, les, par, dans, une \n",
      ".....................................................................................................\n",
      "Completed E-Step (11 seconds). \n",
      "Completed M-Step. \n",
      "Completing Iteration 11 (approx. per word bound = -6.712, relative change = 2.678e-04) \n",
      ".....................................................................................................\n",
      "Completed E-Step (11 seconds). \n",
      "Completed M-Step. \n",
      "Completing Iteration 12 (approx. per word bound = -6.710, relative change = 2.038e-04) \n",
      ".....................................................................................................\n",
      "Completed E-Step (11 seconds). \n",
      "Completed M-Step. \n",
      "Model Converged \n",
      "\n",
      "[06:01:47] stm done\n"
     ]
    }
   ],
   "source": [
    "qqcat(\"fit stm\\n\")\n",
    "\n",
    "num_topics <- 0\n",
    "fit <- stm(out$documents, out$vocab, \n",
    "           num_topics,\n",
    "           reportevery = 10,\n",
    "           max.em.its  = 100,\n",
    "           emtol       = 1.5e-4,\n",
    "           init.type   = \"Spectral\",\n",
    "           seed        = 1\n",
    "       )\n",
    "\n",
    "# Sauver l'environnement\n",
    "qqcat(\"stm done\\n\")\n",
    "if (s.save_envt){\n",
    "  qqcat(\"saving to @{s.envt_filename}\")\n",
    "  save.image(s.envt_filename)\n",
    "}\n"
   ]
  },
  {
   "cell_type": "markdown",
   "metadata": {
    "collapsed": true
   },
   "source": [
    "# Explorer les resultats\n",
    "\n",
    "* plot(fit, labeltype=c(\"frex\"), main = 'Topic Most Frequent Words',bty=\"n\")\n",
    "\n"
   ]
  },
  {
   "cell_type": "code",
   "execution_count": null,
   "metadata": {
    "collapsed": true
   },
   "outputs": [],
   "source": [
    "plot(fit, labeltype=c(\"frex\"), main = 'Topic Most Frequent Words',bty=\"n\")"
   ]
  }
 ],
 "metadata": {
  "kernelspec": {
   "display_name": "R",
   "language": "R",
   "name": "ir"
  },
  "language_info": {
   "codemirror_mode": "r",
   "file_extension": ".r",
   "mimetype": "text/x-r-source",
   "name": "R",
   "pygments_lexer": "r",
   "version": "3.3.3"
  }
 },
 "nbformat": 4,
 "nbformat_minor": 2
}
