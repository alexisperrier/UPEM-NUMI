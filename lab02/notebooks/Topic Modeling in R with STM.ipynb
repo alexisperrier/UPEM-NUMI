{
 "cells": [
  {
   "cell_type": "markdown",
   "metadata": {},
   "source": [
    "# STM R\n",
    "\n",
    "\n"
   ]
  },
  {
   "cell_type": "markdown",
   "metadata": {},
   "source": [
    "## Initialization\n",
    "\n",
    "\n",
    "\n",
    "\n"
   ]
  },
  {
   "cell_type": "code",
   "execution_count": null,
   "metadata": {
    "collapsed": true
   },
   "outputs": [],
   "source": [
    "setwd(\"~/alexis/amcp/upem/UPEM-NUMI/lab02\")\n",
    "# ----------------------------------------------------------------------------\n",
    "#  Data source created by the prepare.py script\n",
    "# ----------------------------------------------------------------------------\n",
    "s.source        <- 'stm_ready'\n",
    "s.experiment    <- '01'\n",
    "# ----------------------------------------------------------------------------\n",
    "#  Path and files\n",
    "# ----------------------------------------------------------------------------\n",
    "s.data_path     <- '/Users/alexis/amcp/upem/muni/data/'\n",
    "s.img_path      <- '/Users/alexis/amcp/upem/muni/R/images/'\n",
    "s.wd_path       <- '/Users/alexis/amcp/upem/muni/R'\n",
    "\n",
    "# Input File\n",
    "s.input_file    <- qq(\"@{s.data_path}@{s.source}.csv\")\n",
    "\n",
    "# Output Files\n",
    "s.envt_filename <- qq(\"@{s.data_path}@{s.source}_@{s.experiment}.RData\")\n",
    "s.topic_file    <- qq(\"@{s.img_path}@{s.source}_@{s.experiment}.png\")\n",
    "\n",
    "# ----------------------------------------------------------------------------\n",
    "#  Workflow, session and stm parameters\n",
    "# ----------------------------------------------------------------------------\n",
    "\n",
    "# Workflow: Save environment at the end (.Rdata files are not in git)\n",
    "s.save_envt     <- TRUE\n",
    "\n",
    "# Workflow: Perform grid search on number of topics\n",
    "s.gridsearch    <- FALSE\n",
    "\n",
    "# Session: Limit number of rows in dataframe. 0 for no limit.\n",
    "s.max_rows      <- 20000\n",
    "\n",
    "# STM: Name of the content column in the input csv file\n",
    "s.text_feature  <- 'text'\n",
    "\n",
    "# STM: Minimum / Maximum length of words to be included in the corpus\n",
    "s.min_wordlen   <- 3\n",
    "# max_wordlen   <- Inf\n",
    "\n",
    "# STM: lower.thresh: Words not in a number of documents > lower.thresh will be dropped.\n",
    "s.thresh.lower  <- 20 # Words must be at least in N documents\n",
    "# STM: upper.thresh: Words in at least this number of documents will be dropped.\n",
    "s.thresh.upper  <- Inf\n"
   ]
  },
  {
   "cell_type": "code",
   "execution_count": 2,
   "metadata": {},
   "outputs": [
    {
     "data": {
      "text/html": [
       "'stm_ready'"
      ],
      "text/latex": [
       "'stm\\_ready'"
      ],
      "text/markdown": [
       "'stm_ready'"
      ],
      "text/plain": [
       "[1] \"stm_ready\""
      ]
     },
     "metadata": {},
     "output_type": "display_data"
    }
   ],
   "source": [
    "s.source\n"
   ]
  },
  {
   "cell_type": "code",
   "execution_count": 4,
   "metadata": {},
   "outputs": [
    {
     "data": {
      "text/html": [
       "'/home/alexis/UPEM-NUMI/lundi/R'"
      ],
      "text/latex": [
       "'/home/alexis/UPEM-NUMI/lundi/R'"
      ],
      "text/markdown": [
       "'/home/alexis/UPEM-NUMI/lundi/R'"
      ],
      "text/plain": [
       "[1] \"/home/alexis/UPEM-NUMI/lundi/R\""
      ]
     },
     "metadata": {},
     "output_type": "display_data"
    }
   ],
   "source": [
    "getwd()\n"
   ]
  },
  {
   "cell_type": "code",
   "execution_count": null,
   "metadata": {
    "collapsed": true
   },
   "outputs": [],
   "source": []
  }
 ],
 "metadata": {
  "kernelspec": {
   "display_name": "R",
   "language": "R",
   "name": "ir"
  },
  "language_info": {
   "codemirror_mode": "r",
   "file_extension": ".r",
   "mimetype": "text/x-r-source",
   "name": "R",
   "pygments_lexer": "r",
   "version": "3.4.2"
  }
 },
 "nbformat": 4,
 "nbformat_minor": 2
}
