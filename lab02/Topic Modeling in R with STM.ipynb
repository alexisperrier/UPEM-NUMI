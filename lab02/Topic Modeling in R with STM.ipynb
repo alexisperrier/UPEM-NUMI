{
 "cells": [
  {
   "cell_type": "markdown",
   "metadata": {},
   "source": [
    "# STM R\n",
    "\n",
    "\n"
   ]
  },
  {
   "cell_type": "markdown",
   "metadata": {},
   "source": [
    "## Initialization\n",
    "\n",
    "\n",
    "\n",
    "\n"
   ]
  },
  {
   "cell_type": "code",
   "execution_count": 62,
   "metadata": {},
   "outputs": [
    {
     "name": "stdout",
     "output_type": "stream",
     "text": [
      "\n",
      "[16:34:43] Config loaded: \n",
      "\texperiment: 01\n",
      "\ton source: estrepublicain_annee_1999.csv \n"
     ]
    }
   ],
   "source": [
    "setwd(\"~/amcp/upem/UPEM-NUMI/lab02/notebooks/\")\n",
    "# setwd(\"~/UPEM-NUMI/lab02/notebooks/\")\n",
    "source('initialize.R')\n",
    "source('../config/config.R')\n"
   ]
  },
  {
   "cell_type": "code",
   "execution_count": 63,
   "metadata": {},
   "outputs": [
    {
     "name": "stdout",
     "output_type": "stream",
     "text": [
      "\n",
      "[16:34:47] Load data from /Users/alexis/amcp/upem/UPEM-NUMI/lab02/data/estrepublicain_annee_1999.csv\n",
      "[16:34:52] dimensions:"
     ]
    },
    {
     "data": {
      "text/html": [
       "<ol class=list-inline>\n",
       "\t<li>10000</li>\n",
       "\t<li>1</li>\n",
       "</ol>\n"
      ],
      "text/latex": [
       "\\begin{enumerate*}\n",
       "\\item 10000\n",
       "\\item 1\n",
       "\\end{enumerate*}\n"
      ],
      "text/markdown": [
       "1. 10000\n",
       "2. 1\n",
       "\n",
       "\n"
      ],
      "text/plain": [
       "[1] 10000     1"
      ]
     },
     "metadata": {},
     "output_type": "display_data"
    },
    {
     "name": "stdout",
     "output_type": "stream",
     "text": [
      "\n",
      "[16:34:52]  2 premiers paragraphes"
     ]
    },
    {
     "data": {
      "text/html": [
       "<ol class=list-inline>\n",
       "\t<li>André Bauer, le Bonhomme de St-Dié ; Alain Dagosto, Bières de Vézelize (54) ; Paulette Gay, Pieds de cochons de Dommartin ; Corinne Dexemple, Tourte néocastrienne ; Bernadette Paulin, Pâté lorrain de Châtenois ; Andrée Labrux, Pétrou de Senones ; Marie-Thérèse Muller, Cochonneux de la Seille de Sillegny (57) ; Ginette Laporte, Eau de Contrexéville ; Danièle Richard, Framboise saulxuronne ; Josette Pouchucq, Cuisses de grenouilles de Vittel ; Daniel Léonard, Nostre damme de Chiney (Belgique) ; Sophie Valdenaire, Pissenlit de Xertigny ; Simone Leick, Cochon d'autrefois de Sierck les Bains (57) ; Yves Lievens, Kuulkappers de St-Gilles (Belgique) ; Brigitte Lievens, Miel de montagne de Plombières ; Louise Fallot, Madeleine de Commercy ; Claude Himbert, Macaron et bergamote de Nancy ; Robert Fuchs, Marmite d'or ; Jean-Pierre Ruspini, Saumon de Salm ; Jean-Marie Mougel, Andouille du Val d'Ajol ; Jean-François Ancel, Rognons blancs de Raon aux Bois ; Evelyne Bailleux, Fine coquille de Poseïdon de Recey sur Ource (21) ; Dominique Thaller, Tête de veau de Rambervillers ; Nicole Dubois, Boudin noir de Soissons (02) ; Martine Pattey, Image d'Epinal.</li>\n",
       "\t<li>Le Smash Entente Club de Lunéville (SECL) a repris ses activités au complexe Berte. Les séances d'entraînement du mercredi soir, de 20 h à 22 h, sont ouvertes à toute personne adulte désirant pratiquer le volley-ball dans un esprit de loisir et de détente. Pour ceux ou celles qui souhaitent participer au championnat loisir, un entraînement spécifique leur est proposé le lundi soir, aux mêmes horaires. L'assemblée générale du club aura lieu le mercredi 29 septembre, à 20 h, dans la salle de réunion de la maison des sports. Tous les membres du club y sont conviés ainsi que toutes les personnes intéressées. Pour tout renseignement complémentaire, s'adresser au président J. Ravaine (03.83.74.12.28).</li>\n",
       "</ol>\n"
      ],
      "text/latex": [
       "\\begin{enumerate*}\n",
       "\\item André Bauer, le Bonhomme de St-Dié ; Alain Dagosto, Bières de Vézelize (54) ; Paulette Gay, Pieds de cochons de Dommartin ; Corinne Dexemple, Tourte néocastrienne ; Bernadette Paulin, Pâté lorrain de Châtenois ; Andrée Labrux, Pétrou de Senones ; Marie-Thérèse Muller, Cochonneux de la Seille de Sillegny (57) ; Ginette Laporte, Eau de Contrexéville ; Danièle Richard, Framboise saulxuronne ; Josette Pouchucq, Cuisses de grenouilles de Vittel ; Daniel Léonard, Nostre damme de Chiney (Belgique) ; Sophie Valdenaire, Pissenlit de Xertigny ; Simone Leick, Cochon d'autrefois de Sierck les Bains (57) ; Yves Lievens, Kuulkappers de St-Gilles (Belgique) ; Brigitte Lievens, Miel de montagne de Plombières ; Louise Fallot, Madeleine de Commercy ; Claude Himbert, Macaron et bergamote de Nancy ; Robert Fuchs, Marmite d'or ; Jean-Pierre Ruspini, Saumon de Salm ; Jean-Marie Mougel, Andouille du Val d'Ajol ; Jean-François Ancel, Rognons blancs de Raon aux Bois ; Evelyne Bailleux, Fine coquille de Poseïdon de Recey sur Ource (21) ; Dominique Thaller, Tête de veau de Rambervillers ; Nicole Dubois, Boudin noir de Soissons (02) ; Martine Pattey, Image d'Epinal.\n",
       "\\item Le Smash Entente Club de Lunéville (SECL) a repris ses activités au complexe Berte. Les séances d'entraînement du mercredi soir, de 20 h à 22 h, sont ouvertes à toute personne adulte désirant pratiquer le volley-ball dans un esprit de loisir et de détente. Pour ceux ou celles qui souhaitent participer au championnat loisir, un entraînement spécifique leur est proposé le lundi soir, aux mêmes horaires. L'assemblée générale du club aura lieu le mercredi 29 septembre, à 20 h, dans la salle de réunion de la maison des sports. Tous les membres du club y sont conviés ainsi que toutes les personnes intéressées. Pour tout renseignement complémentaire, s'adresser au président J. Ravaine (03.83.74.12.28).\n",
       "\\end{enumerate*}\n"
      ],
      "text/markdown": [
       "1. André Bauer, le Bonhomme de St-Dié ; Alain Dagosto, Bières de Vézelize (54) ; Paulette Gay, Pieds de cochons de Dommartin ; Corinne Dexemple, Tourte néocastrienne ; Bernadette Paulin, Pâté lorrain de Châtenois ; Andrée Labrux, Pétrou de Senones ; Marie-Thérèse Muller, Cochonneux de la Seille de Sillegny (57) ; Ginette Laporte, Eau de Contrexéville ; Danièle Richard, Framboise saulxuronne ; Josette Pouchucq, Cuisses de grenouilles de Vittel ; Daniel Léonard, Nostre damme de Chiney (Belgique) ; Sophie Valdenaire, Pissenlit de Xertigny ; Simone Leick, Cochon d'autrefois de Sierck les Bains (57) ; Yves Lievens, Kuulkappers de St-Gilles (Belgique) ; Brigitte Lievens, Miel de montagne de Plombières ; Louise Fallot, Madeleine de Commercy ; Claude Himbert, Macaron et bergamote de Nancy ; Robert Fuchs, Marmite d'or ; Jean-Pierre Ruspini, Saumon de Salm ; Jean-Marie Mougel, Andouille du Val d'Ajol ; Jean-François Ancel, Rognons blancs de Raon aux Bois ; Evelyne Bailleux, Fine coquille de Poseïdon de Recey sur Ource (21) ; Dominique Thaller, Tête de veau de Rambervillers ; Nicole Dubois, Boudin noir de Soissons (02) ; Martine Pattey, Image d'Epinal.\n",
       "2. Le Smash Entente Club de Lunéville (SECL) a repris ses activités au complexe Berte. Les séances d'entraînement du mercredi soir, de 20 h à 22 h, sont ouvertes à toute personne adulte désirant pratiquer le volley-ball dans un esprit de loisir et de détente. Pour ceux ou celles qui souhaitent participer au championnat loisir, un entraînement spécifique leur est proposé le lundi soir, aux mêmes horaires. L'assemblée générale du club aura lieu le mercredi 29 septembre, à 20 h, dans la salle de réunion de la maison des sports. Tous les membres du club y sont conviés ainsi que toutes les personnes intéressées. Pour tout renseignement complémentaire, s'adresser au président J. Ravaine (03.83.74.12.28).\n",
       "\n",
       "\n"
      ],
      "text/plain": [
       "[1] André Bauer, le Bonhomme de St-Dié ; Alain Dagosto, Bières de Vézelize (54) ; Paulette Gay, Pieds de cochons de Dommartin ; Corinne Dexemple, Tourte néocastrienne ; Bernadette Paulin, Pâté lorrain de Châtenois ; Andrée Labrux, Pétrou de Senones ; Marie-Thérèse Muller, Cochonneux de la Seille de Sillegny (57) ; Ginette Laporte, Eau de Contrexéville ; Danièle Richard, Framboise saulxuronne ; Josette Pouchucq, Cuisses de grenouilles de Vittel ; Daniel Léonard, Nostre damme de Chiney (Belgique) ; Sophie Valdenaire, Pissenlit de Xertigny ; Simone Leick, Cochon d'autrefois de Sierck les Bains (57) ; Yves Lievens, Kuulkappers de St-Gilles (Belgique) ; Brigitte Lievens, Miel de montagne de Plombières ; Louise Fallot, Madeleine de Commercy ; Claude Himbert, Macaron et bergamote de Nancy ; Robert Fuchs, Marmite d'or ; Jean-Pierre Ruspini, Saumon de Salm ; Jean-Marie Mougel, Andouille du Val d'Ajol ; Jean-François Ancel, Rognons blancs de Raon aux Bois ; Evelyne Bailleux, Fine coquille de Poseïdon de Recey sur Ource (21) ; Dominique Thaller, Tête de veau de Rambervillers ; Nicole Dubois, Boudin noir de Soissons (02) ; Martine Pattey, Image d'Epinal.\n",
       "[2] Le Smash Entente Club de Lunéville (SECL) a repris ses activités au complexe Berte. Les séances d'entraînement du mercredi soir, de 20 h à 22 h, sont ouvertes à toute personne adulte désirant pratiquer le volley-ball dans un esprit de loisir et de détente. Pour ceux ou celles qui souhaitent participer au championnat loisir, un entraînement spécifique leur est proposé le lundi soir, aux mêmes horaires. L'assemblée générale du club aura lieu le mercredi 29 septembre, à 20 h, dans la salle de réunion de la maison des sports. Tous les membres du club y sont conviés ainsi que toutes les personnes intéressées. Pour tout renseignement complémentaire, s'adresser au président J. Ravaine (03.83.74.12.28).                                                                                                                                                                                                                                                                                                                                                                                                                                                                    \n",
       "10000 Levels: _ « Je protège toujours mon entraîneur et son staff. Nous sommes tous sur le même bateau et on doit ramer dans le même sens en compagnie des joueurs. Maintenant, vu les moyens engagés et les installations mises à disposition, je ne peux rien donner de plus. Il faut que le doute disparaisse, que le groupe se stabilise, prenne des points et se montre plus conquérant. Quant au recrutement d'un libero, nous n'avons pas trouvé l'élément susceptible de remplacer Jean-Guy Wallemme. Si les techniciens tombent d'accord sur un nom, je ne cracherai pas dessus. Mais j'estime que nous disposons pour la D2 d'un effectif suffisamment bien armé. Maintenant, je le répète, c'est aux joueurs d'aller chercher une victoire impérative face à Caen samedi ». ..."
      ]
     },
     "metadata": {},
     "output_type": "display_data"
    }
   ],
   "source": [
    "# ------------------------------------------------------------------------------\n",
    "#  Load data\n",
    "# ------------------------------------------------------------------------------\n",
    "qqcat(\"Load data from @{s.input_file}\")\n",
    "\n",
    "df        <- read.csv(s.input_file, nrows = 10000, col.names = c('text'))\n",
    "qqcat(\"dimensions:\")\n",
    "dim(df)\n",
    "qqcat(\" 2 premiers paragraphes\")\n",
    "df$text[0:2]"
   ]
  },
  {
   "cell_type": "markdown",
   "metadata": {},
   "source": [
    "# Pre processing\n",
    "\n",
    "\n",
    "```processed``` contient\n",
    "\n",
    "* ```processed$documents``` la matrice mots -documents\n",
    "* ```processed$vocab``` la liste des mots\n",
    "\n"
   ]
  },
  {
   "cell_type": "code",
   "execution_count": 64,
   "metadata": {},
   "outputs": [
    {
     "name": "stdout",
     "output_type": "stream",
     "text": [
      "\n",
      "[16:35:02] pre processing\n",
      "Building corpus... \n",
      "Converting to Lower Case... \n",
      "Removing punctuation... \n",
      "Removing stopwords... \n",
      "Removing numbers... \n",
      "Creating Output... \n"
     ]
    },
    {
     "ename": "ERROR",
     "evalue": "Error in simple_triplet_matrix(i, j, v, nrow = length(terms), ncol = length(corpus), : 'i, j' invalid\n",
     "output_type": "error",
     "traceback": [
      "Error in simple_triplet_matrix(i, j, v, nrow = length(terms), ncol = length(corpus), : 'i, j' invalid\nTraceback:\n",
      "1. textProcessor(df[, s.text_feature], lowercase = TRUE, removestopwords = TRUE, \n .     removenumbers = TRUE, removepunctuation = TRUE, wordLengths = c(s.min_wordlen, \n .         Inf), striphtml = TRUE, stem = FALSE, metadata = df)",
      "2. tm::DocumentTermMatrix(txt, control = list(wordLengths = wordLengths))",
      "3. t(TermDocumentMatrix(x, control))",
      "4. TermDocumentMatrix(x, control)",
      "5. TermDocumentMatrix.VCorpus(x, control)",
      "6. .SimpleTripletMatrix(i, j, as.numeric(v), terms, x)",
      "7. simple_triplet_matrix(i, j, v, nrow = length(terms), ncol = length(corpus), \n .     dimnames = list(Terms = terms, Docs = docs))"
     ]
    }
   ],
   "source": [
    "# ------------------------------------------------------------------------------\n",
    "# 1) pre process the text with basic NLP massaging\n",
    "# ------------------------------------------------------------------------------\n",
    "qqcat(\"pre processing\\n\")\n",
    "\n",
    "processed <- textProcessor(df[,s.text_feature],\n",
    "                           lowercase        = TRUE,\n",
    "                           removestopwords  = TRUE,\n",
    "                           removenumbers    = TRUE,\n",
    "                           removepunctuation = TRUE,\n",
    "                           wordLengths      = c(s.min_wordlen,Inf),\n",
    "                           striphtml        = TRUE,\n",
    "                           stem             = FALSE,\n",
    "                           metadata         = df)\n",
    "print(processed)\n",
    "\n",
    "\n"
   ]
  },
  {
   "cell_type": "markdown",
   "metadata": {},
   "source": [
    "## Reduire le corpus\n",
    "\n",
    "Exclure les mots trop frequents ou pas assez avec ```lower.thresh``` et ```upper.thresh```\n",
    "\n"
   ]
  },
  {
   "cell_type": "code",
   "execution_count": 57,
   "metadata": {},
   "outputs": [
    {
     "name": "stdout",
     "output_type": "stream",
     "text": [
      "Removing 4138 of 4164 terms (6251 of 7241 tokens) due to frequency \n",
      "Removing 3 Documents with No Words \n",
      "Your corpus now has 97 documents, 26 terms and 990 tokens."
     ]
    }
   ],
   "source": [
    "    out   <- prepDocuments(processed$documents,\n",
    "                           processed$vocab,\n",
    "                           processed$meta,\n",
    "                           lower.thresh = s.thresh.lower,\n",
    "                           upper.thresh = s.thresh.upper\n",
    "                       )\n",
    "\n",
    "    docs  <- out$documents\n",
    "    vocab <- out$vocab\n",
    "    meta  <- out$meta\n"
   ]
  },
  {
   "cell_type": "markdown",
   "metadata": {},
   "source": [
    "# Le topic model\n"
   ]
  },
  {
   "cell_type": "code",
   "execution_count": 61,
   "metadata": {},
   "outputs": [
    {
     "name": "stdout",
     "output_type": "stream",
     "text": [
      "\n",
      "[16:34:15] fit stm\n",
      "Beginning Spectral Initialization \n",
      "\t Calculating the gram matrix...\n",
      "\t Finding anchor words...\n",
      " \t"
     ]
    },
    {
     "ename": "ERROR",
     "evalue": "Error in tsneAnchor(Q): an unknown error has occured in Rtsne\n",
     "output_type": "error",
     "traceback": [
      "Error in tsneAnchor(Q): an unknown error has occured in Rtsne\nTraceback:\n",
      "1. stm(out$documents, out$vocab, 0, reportevery = 10, emtol = 0.00015, \n .     init.type = \"Spectral\", seed = 1)",
      "2. stm.control(documents, vocab, settings, model)",
      "3. stm.init(documents, settings)",
      "4. tsneAnchor(Q)",
      "5. stop(\"an unknown error has occured in Rtsne\")"
     ]
    }
   ],
   "source": [
    "qqcat(\"fit stm\\n\")\n",
    "fit <- stm(out$documents, out$vocab, 0,\n",
    "           # prevalence  =~ cat_america ,\n",
    "           # prevalence  =~ cat_america + cat_donaldtrump,\n",
    "           # data        = meta,\n",
    "           reportevery = 10,\n",
    "           # max.em.its  = 100,\n",
    "           emtol       = 1.5e-4,\n",
    "           init.type   = \"Spectral\",\n",
    "           seed        = 1\n",
    "       )\n",
    "\n",
    "qqcat(\"stm done\\n\")\n",
    "if (save_envt){\n",
    "  qqcat(\"saving to @{s.envt_filename}\")\n",
    "  save.image(s.envt_filename)\n",
    "}\n"
   ]
  },
  {
   "cell_type": "code",
   "execution_count": null,
   "metadata": {
    "collapsed": true
   },
   "outputs": [],
   "source": []
  }
 ],
 "metadata": {
  "kernelspec": {
   "display_name": "R",
   "language": "R",
   "name": "ir"
  },
  "language_info": {
   "codemirror_mode": "r",
   "file_extension": ".r",
   "mimetype": "text/x-r-source",
   "name": "R",
   "pygments_lexer": "r",
   "version": "3.4.2"
  }
 },
 "nbformat": 4,
 "nbformat_minor": 2
}
