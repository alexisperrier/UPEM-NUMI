{
 "cells": [
  {
   "cell_type": "code",
   "execution_count": 1,
   "metadata": {},
   "outputs": [],
   "source": [
    "setwd(\"~/UPEM-NUMI/lundi/R\")\n",
    "source(\"initialize.R\")\n",
    "source(\"config/config.R\")\n",
    "\n"
   ]
  },
  {
   "cell_type": "code",
   "execution_count": 2,
   "metadata": {},
   "outputs": [
    {
     "data": {
      "text/html": [
       "'stm_ready'"
      ],
      "text/latex": [
       "'stm\\_ready'"
      ],
      "text/markdown": [
       "'stm_ready'"
      ],
      "text/plain": [
       "[1] \"stm_ready\""
      ]
     },
     "metadata": {},
     "output_type": "display_data"
    }
   ],
   "source": [
    "s.source\n"
   ]
  },
  {
   "cell_type": "code",
   "execution_count": 4,
   "metadata": {},
   "outputs": [
    {
     "data": {
      "text/html": [
       "'/home/alexis/UPEM-NUMI/lundi/R'"
      ],
      "text/latex": [
       "'/home/alexis/UPEM-NUMI/lundi/R'"
      ],
      "text/markdown": [
       "'/home/alexis/UPEM-NUMI/lundi/R'"
      ],
      "text/plain": [
       "[1] \"/home/alexis/UPEM-NUMI/lundi/R\""
      ]
     },
     "metadata": {},
     "output_type": "display_data"
    }
   ],
   "source": [
    "getwd()\n"
   ]
  },
  {
   "cell_type": "code",
   "execution_count": null,
   "metadata": {},
   "outputs": [],
   "source": []
  }
 ],
 "metadata": {
  "kernelspec": {
   "display_name": "R",
   "language": "R",
   "name": "ir"
  },
  "language_info": {
   "codemirror_mode": "r",
   "file_extension": ".r",
   "mimetype": "text/x-r-source",
   "name": "R",
   "pygments_lexer": "r",
   "version": "3.3.3"
  }
 },
 "nbformat": 4,
 "nbformat_minor": 2
}
