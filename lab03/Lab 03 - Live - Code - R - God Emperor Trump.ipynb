{
 "cells": [
  {
   "cell_type": "code",
   "execution_count": null,
   "metadata": {},
   "outputs": [],
   "source": [
    "LAB_PATH  <- '~/UPEM-NUMI/lab03/'\n",
    "setwd(LAB_PATH)\n",
    "\n",
    "\n",
    "\n",
    "# library('stm')\n",
    "# library('stringr')\n",
    "# library('wordcloud')\n",
    "# library('geometry')\n",
    "# library('Rtsne')\n",
    "# library('SnowballC')\n",
    "# library('GetoptLong')\n",
    "# library('stmBrowser')\n",
    "\n"
   ]
  },
  {
   "cell_type": "code",
   "execution_count": null,
   "metadata": {},
   "outputs": [],
   "source": [
    ".libPaths('/home/alexis/R-3.4.0/library')\n"
   ]
  },
  {
   "cell_type": "code",
   "execution_count": 4,
   "metadata": {},
   "outputs": [
    {
     "name": "stderr",
     "output_type": "stream",
     "text": [
      "Warning message:\n",
      "“package ‘stm’ was built under R version 3.4.0”Warning message in fun(libname, pkgname):\n",
      "“bytecode version mismatch; using eval”"
     ]
    },
    {
     "ename": "ERROR",
     "evalue": "Error: package or namespace load failed for ‘stm’\n",
     "output_type": "error",
     "traceback": [
      "Error: package or namespace load failed for ‘stm’\nTraceback:\n",
      "1. library(\"stm\")",
      "2. stop(gettextf(\"package or namespace load failed for %s\", sQuote(package)), \n .     call. = FALSE, domain = NA)"
     ]
    }
   ],
   "source": [
    "library('stm')"
   ]
  },
  {
   "cell_type": "code",
   "execution_count": null,
   "metadata": {},
   "outputs": [],
   "source": [
    "R.Version()"
   ]
  },
  {
   "cell_type": "code",
   "execution_count": null,
   "metadata": {},
   "outputs": [],
   "source": [
    ".libPaths()"
   ]
  },
  {
   "cell_type": "code",
   "execution_count": null,
   "metadata": {},
   "outputs": [],
   "source": []
  }
 ],
 "metadata": {
  "kernelspec": {
   "display_name": "R",
   "language": "R",
   "name": "ir"
  },
  "language_info": {
   "codemirror_mode": "r",
   "file_extension": ".r",
   "mimetype": "text/x-r-source",
   "name": "R",
   "pygments_lexer": "r",
   "version": "3.4.0"
  }
 },
 "nbformat": 4,
 "nbformat_minor": 2
}
