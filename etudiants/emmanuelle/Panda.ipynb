{
 "cells": [
  {
   "cell_type": "code",
   "execution_count": 7,
   "metadata": {},
   "outputs": [],
   "source": [
    "#importation du document \n",
    "import pandas as pd\n",
    "\n",
    "DATA_PATH = '../data/'\n",
    "filename  = 'estrepublicain_annee_1999.csv'\n",
    "\n",
    "df = pd.read_csv(DATA_PATH + filename)\n"
   ]
  },
  {
   "cell_type": "code",
   "execution_count": 8,
   "metadata": {},
   "outputs": [],
   "source": [
    "df\n",
    "df.shape # donne les lignes et les colonnes, \n",
    "df.head() #affiche les 5 premières lignes\n",
    "df.columns # affiche le noms de colonnes\n",
    "df = df[0:1000] #Prend les 1000 premières rangées "
   ]
  },
  {
   "cell_type": "code",
   "execution_count": 9,
   "metadata": {},
   "outputs": [
    {
     "name": "stdout",
     "output_type": "stream",
     "text": [
      "= dimensions\n",
      "(1000, 1)\n",
      "= 5 premieres rangés\n",
      "                                                text\n",
      "0  André Bauer, le Bonhomme de St-Dié ; Alain Dag...\n",
      "1  Le Smash Entente Club de Lunéville (SECL) a re...\n",
      "2  En tout cas, du côté du PS Dole qui reste en c...\n",
      "3  « Le nombre des donneurs était en légère baiss...\n",
      "4  ELOYES._ Les Ramoncenais n'auront tenu qu'une ...\n",
      "= Noms des colonnes\n",
      "Index(['text'], dtype='object')\n"
     ]
    }
   ],
   "source": [
    "df\n",
    "print(\"= dimensions\")\n",
    "print(df.shape)\n",
    "print(\"= 5 premieres rangés\")\n",
    "print(df.head())\n",
    "print(\"= Noms des colonnes\")\n",
    "print(df.columns)"
   ]
  },
  {
   "cell_type": "code",
   "execution_count": 10,
   "metadata": {},
   "outputs": [
    {
     "data": {
      "text/plain": [
       "Index(['paragraphe'], dtype='object')"
      ]
     },
     "execution_count": 10,
     "metadata": {},
     "output_type": "execute_result"
    }
   ],
   "source": [
    "# Changer le nom de la colonne\n",
    "df.columns = ['paragraphe']\n",
    "df.columns"
   ]
  },
  {
   "cell_type": "code",
   "execution_count": 11,
   "metadata": {},
   "outputs": [
    {
     "data": {
      "text/html": [
       "<div>\n",
       "<style scoped>\n",
       "    .dataframe tbody tr th:only-of-type {\n",
       "        vertical-align: middle;\n",
       "    }\n",
       "\n",
       "    .dataframe tbody tr th {\n",
       "        vertical-align: top;\n",
       "    }\n",
       "\n",
       "    .dataframe thead th {\n",
       "        text-align: right;\n",
       "    }\n",
       "</style>\n",
       "<table border=\"1\" class=\"dataframe\">\n",
       "  <thead>\n",
       "    <tr style=\"text-align: right;\">\n",
       "      <th></th>\n",
       "      <th>paragraphe</th>\n",
       "    </tr>\n",
       "  </thead>\n",
       "  <tbody>\n",
       "    <tr>\n",
       "      <th>0</th>\n",
       "      <td>André Bauer, le Bonhomme de St-Dié ; Alain Dag...</td>\n",
       "    </tr>\n",
       "    <tr>\n",
       "      <th>1</th>\n",
       "      <td>Le Smash Entente Club de Lunéville (SECL) a re...</td>\n",
       "    </tr>\n",
       "    <tr>\n",
       "      <th>2</th>\n",
       "      <td>En tout cas, du côté du PS Dole qui reste en c...</td>\n",
       "    </tr>\n",
       "    <tr>\n",
       "      <th>3</th>\n",
       "      <td>« Le nombre des donneurs était en légère baiss...</td>\n",
       "    </tr>\n",
       "    <tr>\n",
       "      <th>4</th>\n",
       "      <td>ELOYES._ Les Ramoncenais n'auront tenu qu'une ...</td>\n",
       "    </tr>\n",
       "  </tbody>\n",
       "</table>\n",
       "</div>"
      ],
      "text/plain": [
       "                                          paragraphe\n",
       "0  André Bauer, le Bonhomme de St-Dié ; Alain Dag...\n",
       "1  Le Smash Entente Club de Lunéville (SECL) a re...\n",
       "2  En tout cas, du côté du PS Dole qui reste en c...\n",
       "3  « Le nombre des donneurs était en légère baiss...\n",
       "4  ELOYES._ Les Ramoncenais n'auront tenu qu'une ..."
      ]
     },
     "execution_count": 11,
     "metadata": {},
     "output_type": "execute_result"
    }
   ],
   "source": [
    "df.head() #affiche les 5 premières lignes"
   ]
  },
  {
   "cell_type": "code",
   "execution_count": 12,
   "metadata": {},
   "outputs": [
    {
     "data": {
      "text/plain": [
       "(1000, 1)"
      ]
     },
     "execution_count": 12,
     "metadata": {},
     "output_type": "execute_result"
    }
   ],
   "source": [
    "df.shape # donne les lignes et les colonnes, "
   ]
  },
  {
   "cell_type": "code",
   "execution_count": 13,
   "metadata": {},
   "outputs": [
    {
     "data": {
      "text/plain": [
       "Index(['paragraphe'], dtype='object')"
      ]
     },
     "execution_count": 13,
     "metadata": {},
     "output_type": "execute_result"
    }
   ],
   "source": [
    "df.columns # affiche le noms de colonnes"
   ]
  },
  {
   "cell_type": "code",
   "execution_count": 14,
   "metadata": {},
   "outputs": [],
   "source": [
    "df = df[0:1000] #Prend les 1000 premières rangées "
   ]
  },
  {
   "cell_type": "code",
   "execution_count": 20,
   "metadata": {},
   "outputs": [
    {
     "name": "stdout",
     "output_type": "stream",
     "text": [
      "avant: (1000, 1)\n",
      "apres: (1000, 1)\n"
     ]
    }
   ],
   "source": [
    "# Changer le nom de la colonne\n",
    "df.columns = ['paragraphe']\n",
    "df.columns\n",
    "\n",
    "# puis renommer colonne en 'text'\n",
    "\n",
    "df.columns = ['text']\n",
    "df.columns\n",
    "\n",
    "# Ne prendre que les 1000 premieres rangées\n",
    "\n",
    "print(\"avant: {}\".format(df.shape))\n",
    "df = df[0:1000]\n",
    "\n",
    "print(\"apres: {}\".format(df.shape))\n",
    "\n",
    "\n"
   ]
  },
  {
   "cell_type": "code",
   "execution_count": 16,
   "metadata": {},
   "outputs": [
    {
     "name": "stdout",
     "output_type": "stream",
     "text": [
      "['les', 'médiateurs', 'confirment', '«', \"l'absence\", 'de', 'solution', 'parfaite', '»', '.']\n",
      "['les', 'médiateurs', 'confirment', '«', \"l'absence\", 'de', 'solution', 'parfaite', '».', '']\n"
     ]
    }
   ],
   "source": [
    "# Tokenization\n",
    "from nltk import word_tokenize\n",
    "\n",
    "# La phrase\n",
    "sentence = \"les médiateurs confirment « l'absence de solution parfaite ». \"\n",
    "\n",
    "tokens = word_tokenize(sentence)\n",
    "\n",
    "print(tokens)\n",
    "tokens_on_space = sentence.split(' ')\n",
    "print(tokens_on_space)"
   ]
  },
  {
   "cell_type": "code",
   "execution_count": 17,
   "metadata": {},
   "outputs": [
    {
     "name": "stdout",
     "output_type": "stream",
     "text": [
      "Liste original de signe de ponctuations\n",
      "\t!\"#$%&'()*+,-./:;<=>?@[\\]^_`{|}~\n",
      "{'!': ' ', '\"': ' ', '#': ' ', '$': ' ', '%': ' ', '&': ' ', \"'\": ' ', '(': ' ', ')': ' ', '*': ' ', '+': ' ', ',': ' ', '-': ' ', '.': ' ', '/': ' ', ':': ' ', ';': ' ', '<': ' ', '=': ' ', '>': ' ', '?': ' ', '@': ' ', '[': ' ', '\\\\': ' ', ']': ' ', '^': ' ', '_': ' ', '`': ' ', '{': ' ', '|': ' ', '}': ' ', '~': ' ', '«': ' ', '»': ' '}\n",
      "les médiateurs confirment « l'absence de solution parfaite ». \n",
      "les médiateurs confirment   l absence de solution parfaite    \n"
     ]
    }
   ],
   "source": [
    "# ponctuation\n",
    "\n",
    "import string\n",
    "\n",
    "print(\"Liste original de signe de ponctuations\")\n",
    "print(\"\\t{}\".format(string.punctuation))\n",
    "\n",
    "sentence = \"les médiateurs confirment « l'absence de solution parfaite ». \"\n",
    "punctuation_chars = string.punctuation + \"«»\"\n",
    "\n",
    "#  Construction d'un dict { '~':' ', '$': ' ', ... }\n",
    "d = {}\n",
    "for k in punctuation_chars:\n",
    "    d[k] = ' '\n",
    "\n",
    "print(d)\n",
    "\n",
    "# # L'operateur de translation\n",
    "translator = str.maketrans(d)\n",
    "\n",
    "new_sentence = sentence.translate(translator)\n",
    "print(sentence)\n",
    "print(new_sentence)"
   ]
  },
  {
   "cell_type": "code",
   "execution_count": 18,
   "metadata": {},
   "outputs": [
    {
     "name": "stdout",
     "output_type": "stream",
     "text": [
      "['les', 'médiateurs', 'confirment', 'l', 'absence', 'de', 'solution', 'parfaite']\n",
      "['médiateurs', 'confirment', 'absence', 'solution', 'parfaite']\n"
     ]
    }
   ],
   "source": [
    "# stopwords\n",
    "tokens = word_tokenize(new_sentence)\n",
    "print(tokens)\n",
    "\n",
    "from nltk.corpus import stopwords\n",
    "\n",
    "\n",
    "# print(\"=== stopwords - français:\")\n",
    "# print(sorted(stopwords.words('french')))\n",
    "\n",
    "list_stopwords = stopwords.words('french') + ['les', 'de']\n",
    "\n",
    "# # equivalent:\n",
    "# stopwords = stopwords.words('french')\n",
    "# stopwords.append('les')\n",
    "# stopwords.append('de')\n",
    "\n",
    "\n",
    "# \n",
    "tokens_sans_stopwords = [w for w in tokens if (w not in list_stopwords) ]\n",
    "\n",
    "## Equivalent \n",
    "tokens_sans_stopwords = []\n",
    "for w in tokens:\n",
    "    if w not in list_stopwords:\n",
    "        tokens_sans_stopwords.append(w)\n",
    "\n",
    "\n",
    "\n",
    "print(tokens_sans_stopwords)"
   ]
  },
  {
   "cell_type": "code",
   "execution_count": 22,
   "metadata": {},
   "outputs": [
    {
     "data": {
      "text/html": [
       "<div>\n",
       "<style scoped>\n",
       "    .dataframe tbody tr th:only-of-type {\n",
       "        vertical-align: middle;\n",
       "    }\n",
       "\n",
       "    .dataframe tbody tr th {\n",
       "        vertical-align: top;\n",
       "    }\n",
       "\n",
       "    .dataframe thead th {\n",
       "        text-align: right;\n",
       "    }\n",
       "</style>\n",
       "<table border=\"1\" class=\"dataframe\">\n",
       "  <thead>\n",
       "    <tr style=\"text-align: right;\">\n",
       "      <th></th>\n",
       "      <th>text</th>\n",
       "      <th>text_no_punctuation</th>\n",
       "    </tr>\n",
       "  </thead>\n",
       "  <tbody>\n",
       "    <tr>\n",
       "      <th>0</th>\n",
       "      <td>André Bauer, le Bonhomme de St-Dié ; Alain Dag...</td>\n",
       "      <td>André Bauer  le Bonhomme de St Dié   Alain Dag...</td>\n",
       "    </tr>\n",
       "    <tr>\n",
       "      <th>1</th>\n",
       "      <td>Le Smash Entente Club de Lunéville (SECL) a re...</td>\n",
       "      <td>Le Smash Entente Club de Lunéville  SECL  a re...</td>\n",
       "    </tr>\n",
       "    <tr>\n",
       "      <th>2</th>\n",
       "      <td>En tout cas, du côté du PS Dole qui reste en c...</td>\n",
       "      <td>En tout cas  du côté du PS Dole qui reste en c...</td>\n",
       "    </tr>\n",
       "    <tr>\n",
       "      <th>3</th>\n",
       "      <td>« Le nombre des donneurs était en légère baiss...</td>\n",
       "      <td>Le nombre des donneurs était en légère baiss...</td>\n",
       "    </tr>\n",
       "    <tr>\n",
       "      <th>4</th>\n",
       "      <td>ELOYES._ Les Ramoncenais n'auront tenu qu'une ...</td>\n",
       "      <td>ELOYES   Les Ramoncenais n auront tenu qu une ...</td>\n",
       "    </tr>\n",
       "  </tbody>\n",
       "</table>\n",
       "</div>"
      ],
      "text/plain": [
       "                                                text  \\\n",
       "0  André Bauer, le Bonhomme de St-Dié ; Alain Dag...   \n",
       "1  Le Smash Entente Club de Lunéville (SECL) a re...   \n",
       "2  En tout cas, du côté du PS Dole qui reste en c...   \n",
       "3  « Le nombre des donneurs était en légère baiss...   \n",
       "4  ELOYES._ Les Ramoncenais n'auront tenu qu'une ...   \n",
       "\n",
       "                                 text_no_punctuation  \n",
       "0  André Bauer  le Bonhomme de St Dié   Alain Dag...  \n",
       "1  Le Smash Entente Club de Lunéville  SECL  a re...  \n",
       "2  En tout cas  du côté du PS Dole qui reste en c...  \n",
       "3    Le nombre des donneurs était en légère baiss...  \n",
       "4  ELOYES   Les Ramoncenais n auront tenu qu une ...  "
      ]
     },
     "execution_count": 22,
     "metadata": {},
     "output_type": "execute_result"
    }
   ],
   "source": [
    "# Enlevons la ponctuation\n",
    "pd.options.mode.chained_assignment = None\n",
    "df['text_no_punctuation'] = df.text.apply(lambda \n",
    "    r : ( r.translate(translator) ) \n",
    ")\n",
    "df.head()"
   ]
  },
  {
   "cell_type": "code",
   "execution_count": 23,
   "metadata": {},
   "outputs": [
    {
     "data": {
      "text/html": [
       "<div>\n",
       "<style scoped>\n",
       "    .dataframe tbody tr th:only-of-type {\n",
       "        vertical-align: middle;\n",
       "    }\n",
       "\n",
       "    .dataframe tbody tr th {\n",
       "        vertical-align: top;\n",
       "    }\n",
       "\n",
       "    .dataframe thead th {\n",
       "        text-align: right;\n",
       "    }\n",
       "</style>\n",
       "<table border=\"1\" class=\"dataframe\">\n",
       "  <thead>\n",
       "    <tr style=\"text-align: right;\">\n",
       "      <th></th>\n",
       "      <th>text</th>\n",
       "      <th>text_no_punctuation</th>\n",
       "      <th>tokens_all</th>\n",
       "    </tr>\n",
       "  </thead>\n",
       "  <tbody>\n",
       "    <tr>\n",
       "      <th>0</th>\n",
       "      <td>André Bauer, le Bonhomme de St-Dié ; Alain Dag...</td>\n",
       "      <td>André Bauer  le Bonhomme de St Dié   Alain Dag...</td>\n",
       "      <td>[andré, bauer, le, bonhomme, de, st, dié, alai...</td>\n",
       "    </tr>\n",
       "    <tr>\n",
       "      <th>1</th>\n",
       "      <td>Le Smash Entente Club de Lunéville (SECL) a re...</td>\n",
       "      <td>Le Smash Entente Club de Lunéville  SECL  a re...</td>\n",
       "      <td>[le, smash, entente, club, de, lunéville, secl...</td>\n",
       "    </tr>\n",
       "    <tr>\n",
       "      <th>2</th>\n",
       "      <td>En tout cas, du côté du PS Dole qui reste en c...</td>\n",
       "      <td>En tout cas  du côté du PS Dole qui reste en c...</td>\n",
       "      <td>[en, tout, cas, du, côté, du, ps, dole, qui, r...</td>\n",
       "    </tr>\n",
       "    <tr>\n",
       "      <th>3</th>\n",
       "      <td>« Le nombre des donneurs était en légère baiss...</td>\n",
       "      <td>Le nombre des donneurs était en légère baiss...</td>\n",
       "      <td>[le, nombre, des, donneurs, était, en, légère,...</td>\n",
       "    </tr>\n",
       "    <tr>\n",
       "      <th>4</th>\n",
       "      <td>ELOYES._ Les Ramoncenais n'auront tenu qu'une ...</td>\n",
       "      <td>ELOYES   Les Ramoncenais n auront tenu qu une ...</td>\n",
       "      <td>[eloyes, les, ramoncenais, n, auront, tenu, qu...</td>\n",
       "    </tr>\n",
       "  </tbody>\n",
       "</table>\n",
       "</div>"
      ],
      "text/plain": [
       "                                                text  \\\n",
       "0  André Bauer, le Bonhomme de St-Dié ; Alain Dag...   \n",
       "1  Le Smash Entente Club de Lunéville (SECL) a re...   \n",
       "2  En tout cas, du côté du PS Dole qui reste en c...   \n",
       "3  « Le nombre des donneurs était en légère baiss...   \n",
       "4  ELOYES._ Les Ramoncenais n'auront tenu qu'une ...   \n",
       "\n",
       "                                 text_no_punctuation  \\\n",
       "0  André Bauer  le Bonhomme de St Dié   Alain Dag...   \n",
       "1  Le Smash Entente Club de Lunéville  SECL  a re...   \n",
       "2  En tout cas  du côté du PS Dole qui reste en c...   \n",
       "3    Le nombre des donneurs était en légère baiss...   \n",
       "4  ELOYES   Les Ramoncenais n auront tenu qu une ...   \n",
       "\n",
       "                                          tokens_all  \n",
       "0  [andré, bauer, le, bonhomme, de, st, dié, alai...  \n",
       "1  [le, smash, entente, club, de, lunéville, secl...  \n",
       "2  [en, tout, cas, du, côté, du, ps, dole, qui, r...  \n",
       "3  [le, nombre, des, donneurs, était, en, légère,...  \n",
       "4  [eloyes, les, ramoncenais, n, auront, tenu, qu...  "
      ]
     },
     "execution_count": 23,
     "metadata": {},
     "output_type": "execute_result"
    }
   ],
   "source": [
    "# Tokenizer\n",
    "\n",
    "df['tokens_all']  = df.text_no_punctuation.apply(\n",
    "    lambda r : word_tokenize(r.lower())\n",
    ")\n",
    "\n",
    "df.head()"
   ]
  },
  {
   "cell_type": "code",
   "execution_count": 24,
   "metadata": {},
   "outputs": [
    {
     "data": {
      "text/html": [
       "<div>\n",
       "<style scoped>\n",
       "    .dataframe tbody tr th:only-of-type {\n",
       "        vertical-align: middle;\n",
       "    }\n",
       "\n",
       "    .dataframe tbody tr th {\n",
       "        vertical-align: top;\n",
       "    }\n",
       "\n",
       "    .dataframe thead th {\n",
       "        text-align: right;\n",
       "    }\n",
       "</style>\n",
       "<table border=\"1\" class=\"dataframe\">\n",
       "  <thead>\n",
       "    <tr style=\"text-align: right;\">\n",
       "      <th></th>\n",
       "      <th>text</th>\n",
       "      <th>text_no_punctuation</th>\n",
       "      <th>tokens_all</th>\n",
       "      <th>tokens</th>\n",
       "    </tr>\n",
       "  </thead>\n",
       "  <tbody>\n",
       "    <tr>\n",
       "      <th>0</th>\n",
       "      <td>André Bauer, le Bonhomme de St-Dié ; Alain Dag...</td>\n",
       "      <td>André Bauer  le Bonhomme de St Dié   Alain Dag...</td>\n",
       "      <td>[andré, bauer, le, bonhomme, de, st, dié, alai...</td>\n",
       "      <td>[andré, bauer, bonhomme, st, dié, alain, dagos...</td>\n",
       "    </tr>\n",
       "    <tr>\n",
       "      <th>1</th>\n",
       "      <td>Le Smash Entente Club de Lunéville (SECL) a re...</td>\n",
       "      <td>Le Smash Entente Club de Lunéville  SECL  a re...</td>\n",
       "      <td>[le, smash, entente, club, de, lunéville, secl...</td>\n",
       "      <td>[smash, entente, club, lunéville, secl, a, rep...</td>\n",
       "    </tr>\n",
       "    <tr>\n",
       "      <th>2</th>\n",
       "      <td>En tout cas, du côté du PS Dole qui reste en c...</td>\n",
       "      <td>En tout cas  du côté du PS Dole qui reste en c...</td>\n",
       "      <td>[en, tout, cas, du, côté, du, ps, dole, qui, r...</td>\n",
       "      <td>[tout, cas, côté, ps, dole, reste, course, acc...</td>\n",
       "    </tr>\n",
       "    <tr>\n",
       "      <th>3</th>\n",
       "      <td>« Le nombre des donneurs était en légère baiss...</td>\n",
       "      <td>Le nombre des donneurs était en légère baiss...</td>\n",
       "      <td>[le, nombre, des, donneurs, était, en, légère,...</td>\n",
       "      <td>[nombre, donneurs, légère, baisse, lors, derni...</td>\n",
       "    </tr>\n",
       "    <tr>\n",
       "      <th>4</th>\n",
       "      <td>ELOYES._ Les Ramoncenais n'auront tenu qu'une ...</td>\n",
       "      <td>ELOYES   Les Ramoncenais n auront tenu qu une ...</td>\n",
       "      <td>[eloyes, les, ramoncenais, n, auront, tenu, qu...</td>\n",
       "      <td>[eloyes, ramoncenais, tenu, heure, face, réser...</td>\n",
       "    </tr>\n",
       "  </tbody>\n",
       "</table>\n",
       "</div>"
      ],
      "text/plain": [
       "                                                text  \\\n",
       "0  André Bauer, le Bonhomme de St-Dié ; Alain Dag...   \n",
       "1  Le Smash Entente Club de Lunéville (SECL) a re...   \n",
       "2  En tout cas, du côté du PS Dole qui reste en c...   \n",
       "3  « Le nombre des donneurs était en légère baiss...   \n",
       "4  ELOYES._ Les Ramoncenais n'auront tenu qu'une ...   \n",
       "\n",
       "                                 text_no_punctuation  \\\n",
       "0  André Bauer  le Bonhomme de St Dié   Alain Dag...   \n",
       "1  Le Smash Entente Club de Lunéville  SECL  a re...   \n",
       "2  En tout cas  du côté du PS Dole qui reste en c...   \n",
       "3    Le nombre des donneurs était en légère baiss...   \n",
       "4  ELOYES   Les Ramoncenais n auront tenu qu une ...   \n",
       "\n",
       "                                          tokens_all  \\\n",
       "0  [andré, bauer, le, bonhomme, de, st, dié, alai...   \n",
       "1  [le, smash, entente, club, de, lunéville, secl...   \n",
       "2  [en, tout, cas, du, côté, du, ps, dole, qui, r...   \n",
       "3  [le, nombre, des, donneurs, était, en, légère,...   \n",
       "4  [eloyes, les, ramoncenais, n, auront, tenu, qu...   \n",
       "\n",
       "                                              tokens  \n",
       "0  [andré, bauer, bonhomme, st, dié, alain, dagos...  \n",
       "1  [smash, entente, club, lunéville, secl, a, rep...  \n",
       "2  [tout, cas, côté, ps, dole, reste, course, acc...  \n",
       "3  [nombre, donneurs, légère, baisse, lors, derni...  \n",
       "4  [eloyes, ramoncenais, tenu, heure, face, réser...  "
      ]
     },
     "execution_count": 24,
     "metadata": {},
     "output_type": "execute_result"
    }
   ],
   "source": [
    "# remove stopwords\n",
    "\n",
    "def remove_stopword(tokens):\n",
    "     return [w for w in tokens if (w not in list_stopwords) ]\n",
    "\n",
    "# Verifier que ca marche\n",
    "remove_stopword(tokens)\n",
    "\n",
    "# appliquer a la dataframe\n",
    "\n",
    "df['tokens'] = df.tokens_all.apply(\n",
    "    lambda tks : remove_stopword(tks) \n",
    ")\n",
    "\n",
    "df.head()"
   ]
  },
  {
   "cell_type": "code",
   "execution_count": 25,
   "metadata": {},
   "outputs": [
    {
     "name": "stdout",
     "output_type": "stream",
     "text": [
      "Index(['text', 'text_no_punctuation', 'tokens_all', 'tokens'], dtype='object')\n",
      "Index(['text', 'tokens'], dtype='object')\n"
     ]
    }
   ],
   "source": [
    "# enlever les colonnes intermediaires\n",
    "\n",
    "print(df.columns)\n",
    "\n",
    "df = df[['text', 'tokens']]\n",
    "\n",
    "print(df.columns)\n"
   ]
  },
  {
   "cell_type": "code",
   "execution_count": 26,
   "metadata": {},
   "outputs": [
    {
     "name": "stdout",
     "output_type": "stream",
     "text": [
      "                                                text  \\\n",
      "0  André Bauer, le Bonhomme de St-Dié ; Alain Dag...   \n",
      "1  Le Smash Entente Club de Lunéville (SECL) a re...   \n",
      "2  En tout cas, du côté du PS Dole qui reste en c...   \n",
      "3  « Le nombre des donneurs était en légère baiss...   \n",
      "4  ELOYES._ Les Ramoncenais n'auront tenu qu'une ...   \n",
      "\n",
      "                                              tokens  token_count  \n",
      "0  [andré, bauer, bonhomme, st, dié, alain, dagos...          130  \n",
      "1  [smash, entente, club, lunéville, secl, a, rep...           74  \n",
      "2  [tout, cas, côté, ps, dole, reste, course, acc...           69  \n",
      "3  [nombre, donneurs, légère, baisse, lors, derni...           72  \n",
      "4  [eloyes, ramoncenais, tenu, heure, face, réser...           71  \n"
     ]
    },
    {
     "data": {
      "text/plain": [
       "count    1000.000000\n",
       "mean       80.729000\n",
       "std        37.439301\n",
       "min        44.000000\n",
       "25%        64.000000\n",
       "50%        73.000000\n",
       "75%        87.000000\n",
       "max       955.000000\n",
       "Name: token_count, dtype: float64"
      ]
     },
     "execution_count": 26,
     "metadata": {},
     "output_type": "execute_result"
    }
   ],
   "source": [
    "# nombre de tokens par rangée\n",
    "pd.options.mode.chained_assignment = None\n",
    "df['token_count'] = df.tokens.apply( lambda r : len(r) )\n",
    "\n",
    "print(df.head())\n",
    "\n",
    "# repartition du nombre de tokens\n",
    "df.token_count.describe()\n"
   ]
  },
  {
   "cell_type": "code",
   "execution_count": 27,
   "metadata": {},
   "outputs": [
    {
     "name": "stdout",
     "output_type": "stream",
     "text": [
      "[ \"161. Brisset (CSA BA 133) ; 162. Tascone ; 163. Leroy (SNCF) ; 164. Cassin (Tomblaine) ; 165. Aubert (Frouard) ; 166. Pascaot ; 167. Lagrange (Messein) ; 168. Vermandé (Messein) ; 169. Rouyer (Commercy) ; 170. Chrisment (Nancy) ; 171. Lepeltier (Ecrouves) ; 172. Jacquot ; 173. Delery ; 174. Billy ; 175. Lamy ; 176. Charpentier (Ludres) ; 177. Tousch (Gondrecourt) ; 178. Carbillet (La Poste) ; 179. Brunot (Philips) ; 180. Benyoussef ; 181. Starosse (Allamps) ; 182. Seiler (Vandoeuvre) ; 183.Discristofano ; 184. Fossard (Vandoeuvre) ; 185. Boyer ; 186. Leroy ; 187. Carreiras (Golbey) ; 188. Evrard ; 189. Vagne (CSA BA 133) ; 190. Georges (Tomblaine) ; 191. Aubert (Maidières) ; 192. Leroux ; 193. Geoffroy ; 194. Clausse (Chaudenay) ; 195. Deuze (Villers) ; 196. P. Knapek (Ecrouves) ; 197. F. Kanpek (Toul) ; 198. Noël ; 199. Maire (Varangéville) ; 200. Mercky ; 201. Gaumer ; 202. Vincent (Sommerviller) ; 203. Socha (Aingeray) ; 204. Boulot (Blénod) ; 205. Houin (Amicale CHU) ; 206. Borgniet (Jarville) ; 207. Cazzulani (Bulligny) ; 208. Parisot (Lenoncourt) ; 209. Baron (Gondreville) ; 210. Marchal . 211. Ingret (Essey-lès-Nancy) ; 212. Leonardi (Saizerais) ; 213. Bar (St-Max) ; 214. Labarbe (Nancy) ; 215. Picart (Villers) ; 216. Pageot (Essey-lès-Nancy) ; 217. Guillou (Art-sur-Meurthe) ; 218. Bourgeois (Gondrecourt) ; 219. Sutter (Maxéville) ; 220. Marchi (Vandoeuvre) ; 221. Gonthier ; 222. Girardi ; 223. Heckel (Maxéville) ; 224. Lee (Philips) ; 225. Compagnon (Richardménil) ; 226. Obeltz (Gars Val Cross) ; 227. Othelet (Tantonville) ; 228. Kovac (Pexonne) ; 229. T. Godfroy ; 230. Barin . 231. Payeur (Chaudenay) ; 232. Baraud (Thierville) ; 233. Pochit ; 234. Antoine ; 235. Peiffer (Chaudenay) ; 236. R. Deloy (Nomexy) ; 237. G. Deloy ; 238. Milbach ; 239. Andre (Benney) ; 240. Petitjean ; 241. Perrin (Lunéville) ; 242. Pernel (Blénod) ; 243. Ferreira ; 244. Alfieri (Laneuveville) ; 245. Hutinet ; 246. Defente (Blénod) ; 247. Villaume ; 248. Gérard (Nves-Maisons) ; 249. Payeur (Commercy) ; 250. Bournon ; 251. Collet (Philips) ; 252. Ludmann (Hériménil) ; 253. Vallance (Goviller) ; 254. Belin (Vandoeuvre) ; 255. Verd ; 256. Renard . 257. Bastien ; 258. Hincelin ; 259. Roger (Essey-lès-Nancy) ; 260. Rakotoarison (St-Max) ; 261. Deshayes (CSA BA 133) ; 262. Debias ; 263. Mouillé (Tomblaine) ; 264. Remy (Nancy) ; 265. Baechler (Dombasle) ; 266. Maillet ; 267. Saint Jours ; 268. Pierre (Blénod) ; 269. Morisot . 270. Serveur (Essey-lès-Nancy) ; 271. Fritz ; 272. Mangenot ; 273. Butin (Toul) ; 274. J. Etienne ; 275. D. Etienne ; 276. Mathis ; 277. Boyer (Gondrecourt) ; 278. Mandra (Gars Val Cross) ; 279. Belhote (Pulnoy) ; 280. Alison (Nimes) ; 281. Liegey (Varangéville) ; 282. Pierrat (Spiridon Club) ; 283. Humbert (Seichamps) ; 284. Back (Bouzonville) ; 285. Dewitte ; 286. Philippe (Thiébauménil) ; 287. Boyer ; 288. Durand (Houdemont) ; 289. Thieblemont ; 290. Baumann (Boncourt) ; 291. Tabouret (Toul) ; 292. Husson (Blénod) ; 293. Emmanuel (Damelevieres) ; 294. Pernot ; 295. Schwoerer (Nancy) ; 296. Sitz (Dieulouard) ; 297. Chuste ; 298. Laithier (Nancy) ; 299. Abscheidt ; 300. Pagliarela (Philips) ; 301. Tardy (Golbey) ; 302. Koffolt (Vincey) ; 303. Chassatte (Dombasle) ; 304. Vaxelaire ; 305. Robert (Nancy) ; 306. Chretien (Villers) ; 307. Paulin (Belleville) ; 308. Morville (Villers) ; 309. Ziegler (Bataville) ; 310. Morville (Gondrecourt) ; 311. Nowakowski (SNCF) ; 312. Fourar (Vandoeuvre) ; 313. Osiewiez (Energ.Pavois) ; 314. Dominiak (Vandoeuvre) ; 315. Ricatte (Lunéville) ; 316. Faltot (Lunéville) ; 317. Candat ; 318. Bardot (Lunéville) ; 319. Martin . 320. Ferry ; 321. Mathieu (Nancy) ; 322. Chenin ; 323. Geoffroy (AFPA) ; 324. Filliot (AFPA) ; 325. Grapinet ; 326. Pelon (Laquenexy) ; 327. Tournoy (Laneuveville) ; 328. Picazo ; 329. Poirot (Velaine-en-Haye) ; 330. Lostetier ; 331. Zamboni (Varangéville) ; 332. Denat ; 333. Charpentier (Ludres) ; 334. Michel ; 335. Dolveck (Blénod) ; 336. Buchi ; 337. Berteaux ; 338. Legast (Chaudenay) ; 339. Pawlowski (Dieulouard) ; 340. Reinhard (Langley) ; 341. Moine (Heillecourt) ; 342. Carpentier (SNCF) ; 343. Liegeois (Ars-sur-Moselle) ; 344. Gousse (Villers) ; 345. Poinsard (Lunéville) ; 346. Dimarcq ; 347. Blaise (Blénod) ; 348. Desgranges (Gondreville) ; 349. Falchetto ; 350. Flament (Méréville) ; 351. Heloir (Messein) ; 352. Arson (Gars Val Cross) ; 353. Richard (Einvaux) ; 354. Mercier (Rosières-aux-Salines) ; 355. Pernossi (Alstom Moteurs) ; 356. Poncet (Vincey) ; 357. Wolfarth (Malleloy) ; 358. Toldre (Laneuveville) ; 359. Touillet (Nancy) ; 360. Brice (Spiridon Club) ; 361. Seyer (Metz) ; 362. Mauclair (Lunéville) ; 363. Bourtembourg (Saulxures-lès-Nancy) ; 364. Gallois ; 365. Leroy (Blénod) ; 366. Schneider (Pagny-sur-Moselle) ; 367. Pierre (Mont-sur-Meurthe) ; 368. Vachon . 369. Lorphelin (Laneuville) ; 370. Thil ; 371. Lafont (Nancy) ; 372. Lunéville) ; 373. Martinez (La Poste) ; 374. Drahon (Toul) ; 375. Cuny (Gars Val Cross) ; 376. Rousseau (Malzéville) ; 377. Vernay (PAM) ; 378. Borgniet (Jarville) ; 379. Caballero (Ecrouves) ; 380. Hacquard (Champigneulles) ; 381. Remy (Neuves-Maisons) ; 382. Ingret (Essey-lès-Nancy) ; 383. Liegeois (Ars-sur-Moselle) ; 384. Thivet . 385. Deutzer (Philips) ; 386. Zminka (Toul) ; 387. François (Energ.Pavois) ; 388. Charrue (Paris) ; 389. Mercier (Bouxières) ; 390. Leclere ; 391. Bourguignon (Blainville) ; 392. Durand (Gars Val Cross) ; 393. Maron (Custines) ; 394. Huttier ; 395. Hesse (Bicquelet) ; 396. Moine (Heillecourt) ; 397. Boul ; 398. Evezard ; 399. Charpentier (Ludres) ; 400. Melich ; 401. Allard ; 402. Richard ; 403. Steck (Lucey) ; 404. Flament (Richardménil) ; 405. Genot (Heillecourt) ; 406. Mougel (Ludres) ; 407. Richard (Sports Loisirs) ; 408. Baillot ; 409. S. Bour (Heillecourt) ; 410. A. Bour (Heillecourt) ; 411. Lance ; 412. Melchior (Laxou) ; 413. Haut (Metz) ; 414. Bruant (Tomblaine) ; 415. Barbette ; 416. Chassatte (Dombasle) ; 417. Joublin ; 418. Liegey (Varangéville) ; 419. Marchal ; 420. Henard ; 421. Mouchet (Sport Loisirs) ; 422. Stephan (Pulnoy) ; 423. Gauchey (Dommartin-lès-Toul) ; 424. Geoffroy ; 425. Gallois (Maxéville) ; 426. Chapelle (Golbey) ; 427. Serveur (Essey-lès-Ncy) ; 428. Piazuelo (Toul) ; 429. Arson (Gars Val Cross) ; 430. Sitz (Dieulouard) ; 431. Poinsignon (Seichamps) ; 432. Thirion ; 433. Larbaletrier (Malzéville) ; 434. Desloges (Blénod) ; 435. Pelte (Réméréville) ; 436. Simon ; 437. Keniche (Nancy) ; 438. Othelet ; 439. Marchal ; 440. Belin (Vandoeuvre) ; 441. Carpentier (SNCF) ; 442. Heloir (Messein) ; 443. Borgniet (Laneuveville) ; 444. L'Huillier ; 445. Boes (Menaucourt) ; 446. Morlon (Jarville) ; 447. Dieudonne (Varangéville) ; 448. Prignot (Villers-lès-Ncy) ; 449. Ihry (Neuves-Maisons) ; 450. Lottin (Laferte-sur-Am.) ; 451. Lotto ; 452. Durand (Gars Val Cross) ; 453. C. Larbaletrier (CHU Nancy) ; 454. Mathis (Rosières-aux-Salines) ; 455. Schatzbe ; 456. Dannequin ; 457. Cael ; 458. Genelot ; 459. Rahnena (Ludres) ; 460. Montovani ; 461. Philippot ; 462. Schertz ; 463. Barozzi (Nancy) ; 464. Simon (Seichamps) ; 465. Heinrich ; 466. Deny (Neuves-Maisons) ; 467. Varnerot (Dommartin-lès-Toul) ; 468. Deveze ; 469. Bicquelet ; 470. Haut (Metz) ; 471. Rouyer (AFPA) ; 472. Pierot (Sport Loisir) ; 473. Legroux (AFPA) ; 474. Voitot (Toul) ; 475. Fourcaulx (Fléville) ; 476. Dubail (Neugartheim) ; 477. G. Dannequin ; 478. D. Bicquelet ; 479. Martin ; 480. Durand (Gars Val Cross) ; 481. Tekieli (Rosières-aux-Salines) ; 482. Marc (Ars-sur-Moselle) ; 483. Thivet ; 484. Gauchey (Dommartin-lès-Toul) ; 485. Genelot ; 486. Picot (Jarville) ; 487. Moriset.\"]\n"
     ]
    }
   ],
   "source": [
    "# quel document a 955 tokens?\n",
    "\n",
    "condition = (df.token_count == 955)\n",
    "print(df[condition].text.values)"
   ]
  },
  {
   "cell_type": "code",
   "execution_count": 28,
   "metadata": {},
   "outputs": [
    {
     "name": "stdout",
     "output_type": "stream",
     "text": [
      "Int64Index([311], dtype='int64')\n",
      "(999, 3)\n"
     ]
    }
   ],
   "source": [
    "# quel index(rang ou ligne)\n",
    "print(df[condition].index)\n",
    "\n",
    "# \n",
    "condition = (df.token_count < 800)\n",
    "print(df[condition].shape)\n",
    "\n"
   ]
  },
  {
   "cell_type": "code",
   "execution_count": 29,
   "metadata": {},
   "outputs": [
    {
     "name": "stdout",
     "output_type": "stream",
     "text": [
      "(999, 3)\n",
      "(999, 3)\n",
      "count    999.000000\n",
      "mean      79.853854\n",
      "std       25.228111\n",
      "min       44.000000\n",
      "25%       64.000000\n",
      "50%       73.000000\n",
      "75%       87.000000\n",
      "max      275.000000\n",
      "Name: token_count, dtype: float64\n"
     ]
    },
    {
     "name": "stderr",
     "output_type": "stream",
     "text": [
      "/home/alexis/miniconda3/lib/python3.6/site-packages/ipykernel_launcher.py:7: UserWarning: Boolean Series key will be reindexed to match DataFrame index.\n",
      "  import sys\n"
     ]
    }
   ],
   "source": [
    "# enlever le paragraphe le plus long\n",
    "\n",
    "condition_filtrage = df.token_count < 955\n",
    "print(df[condition_filtrage].shape)\n",
    "\n",
    "df = df[condition_filtrage]\n",
    "print(df[condition_filtrage].shape)\n",
    "\n",
    "print(df.token_count.describe())"
   ]
  },
  {
   "cell_type": "code",
   "execution_count": 30,
   "metadata": {},
   "outputs": [
    {
     "name": "stdout",
     "output_type": "stream",
     "text": [
      "Dictionary(19325 unique tokens: ['andré', 'bauer', 'bonhomme', 'st', 'dié']...)\n"
     ]
    }
   ],
   "source": [
    "# Gensim - Vocabulaire\n",
    "\n",
    "from gensim import corpora, models\n",
    "dictionary  = corpora.Dictionary(df.tokens)\n",
    "print(dictionary)\n"
   ]
  },
  {
   "cell_type": "code",
   "execution_count": 31,
   "metadata": {},
   "outputs": [
    {
     "name": "stdout",
     "output_type": "stream",
     "text": [
      "[[ \"André Bauer, le Bonhomme de St-Dié ; Alain Dagosto, Bières de Vézelize (54) ; Paulette Gay, Pieds de cochons de Dommartin ; Corinne Dexemple, Tourte néocastrienne ; Bernadette Paulin, Pâté lorrain de Châtenois ; Andrée Labrux, Pétrou de Senones ; Marie-Thérèse Muller, Cochonneux de la Seille de Sillegny (57) ; Ginette Laporte, Eau de Contrexéville ; Danièle Richard, Framboise saulxuronne ; Josette Pouchucq, Cuisses de grenouilles de Vittel ; Daniel Léonard, Nostre damme de Chiney (Belgique) ; Sophie Valdenaire, Pissenlit de Xertigny ; Simone Leick, Cochon d'autrefois de Sierck les Bains (57) ; Yves Lievens, Kuulkappers de St-Gilles (Belgique) ; Brigitte Lievens, Miel de montagne de Plombières ; Louise Fallot, Madeleine de Commercy ; Claude Himbert, Macaron et bergamote de Nancy ; Robert Fuchs, Marmite d'or ; Jean-Pierre Ruspini, Saumon de Salm ; Jean-Marie Mougel, Andouille du Val d'Ajol ; Jean-François Ancel, Rognons blancs de Raon aux Bois ; Evelyne Bailleux, Fine coquille de Poseïdon de Recey sur Ource (21) ; Dominique Thaller, Tête de veau de Rambervillers ; Nicole Dubois, Boudin noir de Soissons (02) ; Martine Pattey, Image d'Epinal.\"\n",
      "  list([(0, 1), (1, 1), (2, 1), (3, 2), (4, 1), (5, 1), (6, 1), (7, 1), (8, 1), (9, 1), (10, 1), (11, 1), (12, 1), (13, 1), (14, 1), (15, 1), (16, 1), (17, 1), (18, 1), (19, 1), (20, 1), (21, 1), (22, 1), (23, 1), (24, 1), (25, 1), (26, 1), (27, 1), (28, 2), (29, 1), (30, 1), (31, 1), (32, 1), (33, 1), (34, 2), (35, 1), (36, 1), (37, 1), (38, 1), (39, 1), (40, 1), (41, 1), (42, 1), (43, 1), (44, 1), (45, 1), (46, 1), (47, 1), (48, 1), (49, 1), (50, 1), (51, 1), (52, 1), (53, 2), (54, 1), (55, 1), (56, 1), (57, 1), (58, 1), (59, 1), (60, 1), (61, 1), (62, 1), (63, 1), (64, 1), (65, 2), (66, 1), (67, 1), (68, 1), (69, 1), (70, 1), (71, 1), (72, 1), (73, 1), (74, 1), (75, 1), (76, 1), (77, 1), (78, 1), (79, 1), (80, 1), (81, 1), (82, 1), (83, 1), (84, 1), (85, 3), (86, 1), (87, 1), (88, 1), (89, 1), (90, 1), (91, 1), (92, 1), (93, 1), (94, 1), (95, 1), (96, 1), (97, 1), (98, 1), (99, 1), (100, 1), (101, 1), (102, 1), (103, 1), (104, 1), (105, 1), (106, 1), (107, 1), (108, 1), (109, 1), (110, 1), (111, 1), (112, 1), (113, 1), (114, 1), (115, 1), (116, 1), (117, 1), (118, 1), (119, 1), (120, 1), (121, 1), (122, 1)])]\n",
      " [ \"Le Smash Entente Club de Lunéville (SECL) a repris ses activités au complexe Berte. Les séances d'entraînement du mercredi soir, de 20 h à 22 h, sont ouvertes à toute personne adulte désirant pratiquer le volley-ball dans un esprit de loisir et de détente. Pour ceux ou celles qui souhaitent participer au championnat loisir, un entraînement spécifique leur est proposé le lundi soir, aux mêmes horaires. L'assemblée générale du club aura lieu le mercredi 29 septembre, à 20 h, dans la salle de réunion de la maison des sports. Tous les membres du club y sont conviés ainsi que toutes les personnes intéressées. Pour tout renseignement complémentaire, s'adresser au président J. Ravaine (03.83.74.12.28).\"\n",
      "  list([(123, 1), (124, 1), (125, 3), (126, 1), (127, 1), (128, 1), (129, 1), (130, 1), (131, 1), (132, 1), (133, 1), (134, 2), (135, 2), (136, 2), (137, 2), (138, 3), (139, 1), (140, 1), (141, 1), (142, 1), (143, 1), (144, 1), (145, 1), (146, 1), (147, 1), (148, 1), (149, 2), (150, 1), (151, 1), (152, 1), (153, 1), (154, 1), (155, 1), (156, 1), (157, 1), (158, 1), (159, 1), (160, 1), (161, 1), (162, 1), (163, 1), (164, 1), (165, 1), (166, 1), (167, 1), (168, 1), (169, 1), (170, 1), (171, 1), (172, 1), (173, 1), (174, 1), (175, 1), (176, 1), (177, 1), (178, 1), (179, 1), (180, 1), (181, 1), (182, 1), (183, 1), (184, 1), (185, 1), (186, 1), (187, 1)])]\n",
      " [ \"En tout cas, du côté du PS Dole qui reste en course pour l'accession parmi l'élite régionale après un nouveau et net succès contre Devecey (4-1), on espère bien mettre à profit ces paramètres pour une qualification dans le dernier carré : « nous aborderons cette rencontre sans aucun complexe » précisait hier le président jurassien Alain Viennot. « Nous disposons d'un groupe homogène capable de se transcender dans les grandes occasions ». Celle-ci, surtout à domicile, en est une et les Dolois comptent bien tout mettre en oeuvre au côté de son buteur maison, Euvrard (17 buts et leader des buteurs de PH-B) pour parvenir à leurs fins.\"\n",
      "  list([(5, 1), (131, 1), (168, 1), (177, 2), (181, 1), (188, 1), (189, 2), (190, 1), (191, 1), (192, 1), (193, 1), (194, 1), (195, 1), (196, 1), (197, 1), (198, 1), (199, 1), (200, 1), (201, 1), (202, 1), (203, 1), (204, 1), (205, 1), (206, 1), (207, 2), (208, 2), (209, 1), (210, 1), (211, 1), (212, 1), (213, 1), (214, 1), (215, 1), (216, 1), (217, 1), (218, 1), (219, 1), (220, 1), (221, 1), (222, 1), (223, 1), (224, 1), (225, 1), (226, 1), (227, 1), (228, 1), (229, 1), (230, 1), (231, 1), (232, 1), (233, 1), (234, 1), (235, 1), (236, 1), (237, 1), (238, 1), (239, 1), (240, 1), (241, 1), (242, 1), (243, 1), (244, 1), (245, 1), (246, 1), (247, 1)])]\n",
      " [ \"« Le nombre des donneurs était en légère baisse lors de la dernière collecte à Neuves-Maisons. C'est inquiétant car les besoins sont énormes. Au niveau départemental, les stocks sont très faibles, et ne permettent de faire face à la demande que pour une période de cinq jours au grand maximum. Que se passerait-il si un sinistre d'une gravité exceptionnelle se produisait ? Il serait sans doute impossible de répondre à la demande. C'est pourquoi, nous invitons les habitants de Neuves-Maisons à participer massivement à la prochaine collecte prévue le dimanche 5 septembre, de 8 h 30 à 12 h, au centre socio culturel Jean-L'Hôte...» explique Jean Marie Greiner, président de l'association des donneurs de sang du secteur de Neuves-Maisons.\"\n",
      "  list([(28, 1), (85, 2), (138, 2), (154, 1), (165, 1), (181, 1), (186, 1), (217, 1), (248, 1), (249, 2), (250, 1), (251, 1), (252, 1), (253, 1), (254, 2), (255, 3), (256, 3), (257, 1), (258, 1), (259, 1), (260, 1), (261, 1), (262, 1), (263, 1), (264, 1), (265, 1), (266, 1), (267, 1), (268, 1), (269, 2), (270, 1), (271, 1), (272, 1), (273, 1), (274, 1), (275, 1), (276, 1), (277, 1), (278, 1), (279, 1), (280, 1), (281, 1), (282, 1), (283, 1), (284, 1), (285, 1), (286, 1), (287, 1), (288, 1), (289, 1), (290, 1), (291, 1), (292, 1), (293, 1), (294, 1), (295, 1), (296, 1), (297, 1), (298, 1), (299, 1), (300, 1), (301, 1), (302, 1)])]\n",
      " [ \"ELOYES._ Les Ramoncenais n'auront tenu qu'une heure face aux réservistes loyas, incontestablement supérieurs techniquement et au niveau de la condition physique. Hajaji allait se montrer l'attaquant le plus remuant d'entrée de jeu (6') ou avec son compère El Khala (13') permettant à Paillard de sauver les meubles. Cela tenait, jusqu'à une belle combinaison entre les deux, plus Abou en relayeur, et Hajaji trouvait les filets (17'). On retrouvait les mêmes par la suite : El Khala (20'), Hajaji (30', 37' et 44'), souvent bien servis par le jeune Claudel. Les visiteurs s'étaient néanmoins montrés dangereux par une action Peduzzi-Blouin (10') et les raids de Martins (18' et 32').\"\n",
      "  list([(137, 1), (159, 1), (207, 1), (239, 1), (261, 1), (268, 1), (293, 1), (303, 1), (304, 1), (305, 1), (306, 1), (307, 1), (308, 1), (309, 1), (310, 1), (311, 1), (312, 1), (313, 1), (314, 3), (315, 1), (316, 1), (317, 1), (318, 2), (319, 1), (320, 1), (321, 1), (322, 1), (323, 1), (324, 2), (325, 2), (326, 1), (327, 1), (328, 1), (329, 1), (330, 1), (331, 1), (332, 1), (333, 1), (334, 1), (335, 1), (336, 1), (337, 1), (338, 1), (339, 1), (340, 1), (341, 1), (342, 1), (343, 1), (344, 1), (345, 1), (346, 1), (347, 1), (348, 1), (349, 1), (350, 1), (351, 1), (352, 1), (353, 1), (354, 1), (355, 1), (356, 1), (357, 1), (358, 1), (359, 1), (360, 1), (361, 1)])]]\n"
     ]
    }
   ],
   "source": [
    "# corpus_gensim\n",
    "\n",
    "df['corpus_gensim'] = df.tokens.apply(lambda d : dictionary.doc2bow(d))\n",
    "\n",
    "print(df[['text','corpus_gensim']] .head().values)"
   ]
  },
  {
   "cell_type": "code",
   "execution_count": 32,
   "metadata": {},
   "outputs": [],
   "source": [
    "corpus_gensim = [c for c in df.corpus_gensim ]"
   ]
  },
  {
   "cell_type": "code",
   "execution_count": 35,
   "metadata": {},
   "outputs": [],
   "source": [
    "num_topics= 3\n",
    "\n",
    "# Le model LDA\n",
    "lda = models.LdaModel(corpus_gensim,\n",
    "    id2word      = dictionary,\n",
    "    num_topics   = num_topics,\n",
    "    alpha        = 'asymmetric',\n",
    "    eta          = 'auto',\n",
    "    passes       = 2,\n",
    "    iterations   = 20\n",
    ")\n",
    "\n"
   ]
  },
  {
   "cell_type": "code",
   "execution_count": 36,
   "metadata": {},
   "outputs": [
    {
     "name": "stdout",
     "output_type": "stream",
     "text": [
      "\n",
      "=== topic #0\n",
      "0.013: a,  0.012: h,  0.004: 30,  0.003: cette,  0.003: ans,  0.003: plus,  0.002: bien,  0.002: tout,  0.002: ils,  0.002: depuis\n",
      "\n",
      "=== topic #1\n",
      "0.007: a,  0.005: h,  0.004: plus,  0.004: ans,  0.003: deux,  0.003: f,  0.003: tout,  0.003: tous,  0.003: cette,  0.002: rue\n",
      "\n",
      "=== topic #2\n",
      "0.016: a,  0.006: plus,  0.004: deux,  0.003: h,  0.003: cette,  0.003: ans,  0.002: après,  0.002: fait,  0.002: tout,  0.002: jean\n"
     ]
    }
   ],
   "source": [
    "for t in lda.show_topics(num_topics=num_topics, formatted=True, log = False):\n",
    "    print(\"\\n=== topic #{}\".format(t[0]))\n",
    "    print(t[1].replace('*', ': ').replace(' +',', ').replace('\"',''))"
   ]
  },
  {
   "cell_type": "code",
   "execution_count": 37,
   "metadata": {},
   "outputs": [
    {
     "name": "stdout",
     "output_type": "stream",
     "text": [
      "\n",
      "=== topic #0\n",
      "0.553: h,  0.199: 30,  0.126: 14,  0.118: 15,  0.096: f,  0.094: ans,  0.090: 17,  0.086: 13,  0.084: a,  0.078: 18\n",
      "\n",
      "=== topic #1\n",
      "-0.584: h,  -0.195: 30,  -0.115: 14,  0.105: a,  -0.097: 15,  0.091: plus,  0.080: cette,  0.080: tout,  0.076: bien,  -0.076: 17\n",
      "\n",
      "=== topic #2\n",
      "0.649: rue,  0.246: f,  0.133: avenue,  -0.131: h,  0.116: 6,  0.089: remiremont,  0.088: place,  0.078: parking,  0.078: 5,  0.074: 4\n"
     ]
    }
   ],
   "source": [
    "# LSA\n",
    "\n",
    "tfidf = models.TfidfModel(corpus_gensim)\n",
    "\n",
    "corpus_tfidf = tfidf[corpus_gensim]\n",
    "\n",
    "lsi = models.LsiModel(corpus_tfidf , id2word=dictionary, num_topics=num_topics)\n",
    "for t in lsi.show_topics(num_topics=num_topics, formatted=True, log = False):\n",
    "    print(\"\\n=== topic #{}\".format(t[0]))\n",
    "    print(t[1].replace('*', ': ').replace(' +',', ').replace('\"',''))"
   ]
  },
  {
   "cell_type": "code",
   "execution_count": null,
   "metadata": {},
   "outputs": [],
   "source": []
  }
 ],
 "metadata": {
  "kernelspec": {
   "display_name": "Python 3",
   "language": "python",
   "name": "python3"
  },
  "language_info": {
   "codemirror_mode": {
    "name": "ipython",
    "version": 3
   },
   "file_extension": ".py",
   "mimetype": "text/x-python",
   "name": "python",
   "nbconvert_exporter": "python",
   "pygments_lexer": "ipython3",
   "version": "3.6.3"
  }
 },
 "nbformat": 4,
 "nbformat_minor": 2
}
