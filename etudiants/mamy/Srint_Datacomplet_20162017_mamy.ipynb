{
 "cells": [
  {
   "cell_type": "code",
   "execution_count": 2,
   "metadata": {},
   "outputs": [
    {
     "name": "stderr",
     "output_type": "stream",
     "text": [
      "/home/alexis/miniconda3/lib/python3.6/site-packages/IPython/core/interactiveshell.py:2728: DtypeWarning: Columns (1,10,11,18,19,23,25,26,27,34,35,36,37) have mixed types. Specify dtype option on import or set low_memory=False.\n",
      "  interactivity=interactivity, compiler=compiler, result=result)\n"
     ]
    }
   ],
   "source": [
    "import pandas as pd\n",
    "\n",
    "DATA_PATH = '../data/'\n",
    "filename  = 'fbget_original_full_data_2016_and_2017.csv' \n",
    "\n",
    "df = pd.read_csv(DATA_PATH + filename)"
   ]
  },
  {
   "cell_type": "code",
   "execution_count": 4,
   "metadata": {
    "scrolled": true
   },
   "outputs": [
    {
     "name": "stdout",
     "output_type": "stream",
     "text": [
      "= dimensions\n",
      "(484324, 40)\n",
      "= 5 premieres rangés\n",
      "                           post_id parent_id  \\\n",
      "0  791373644322801_798862913573874       NaN   \n",
      "1  791373644322801_798831626910336       NaN   \n",
      "2  791373644322801_798829700243862       NaN   \n",
      "3  791373644322801_798829700243862       NaN   \n",
      "4  791373644322801_798829700243862       NaN   \n",
      "\n",
      "                         comment_id                             cc_id  \\\n",
      "0                               NaN                               NaN   \n",
      "1                               NaN                               NaN   \n",
      "2                               NaN                               NaN   \n",
      "3  798829700243862_1015292485264248                               NaN   \n",
      "4  798829700243862_1015292485264248  798829700243862_1108092352650927   \n",
      "\n",
      "            from_id                             from_name  \\\n",
      "0   791373644322801                     God Emperor Trump   \n",
      "1   791373644322801                     God Emperor Trump   \n",
      "2   791373644322801                     God Emperor Trump   \n",
      "3   217561352055548                       Alenia Martinez   \n",
      "4  1219532171472030  Christian Leontsinis Carvalho Branco   \n",
      "\n",
      "                                             message        post_type  \\\n",
      "0  Hillary tries to criticize me while Bill Clint...            photo   \n",
      "1  I look at the media, and I look at our leaders...            photo   \n",
      "2                                                NaN            photo   \n",
      "3  God Emperor /Fuhrer Trump conqueror of china a...          comment   \n",
      "4                Why would he waste conquering them?  comment-comment   \n",
      "\n",
      "   is_post_hidden  is_post_published         ...          comment_count  \\\n",
      "0             0.0                1.0         ...                    0.0   \n",
      "1             0.0                1.0         ...                    0.0   \n",
      "2             0.0                1.0         ...                    1.0   \n",
      "3             NaN                NaN         ...                    2.0   \n",
      "4             NaN                NaN         ...                    0.0   \n",
      "\n",
      "         action                                 event posting_application  \\\n",
      "0  added_photos                                   NaN                 NaN   \n",
      "1  added_photos                                   NaN                 NaN   \n",
      "2  added_photos  God Emperor Trump added a new photo.                 NaN   \n",
      "3           NaN                                   NaN                 NaN   \n",
      "4           NaN                                   NaN                 NaN   \n",
      "\n",
      "   tagged_id_list tagged_name_list tagged_type_list  video_length  \\\n",
      "0             NaN              NaN              NaN           NaN   \n",
      "1             NaN              NaN              NaN           NaN   \n",
      "2             NaN              NaN              NaN           NaN   \n",
      "3             NaN              NaN              NaN           NaN   \n",
      "4             NaN              NaN              NaN           NaN   \n",
      "\n",
      "            updated_at           created_at  \n",
      "0  2015-12-30 17:50:05  2015-12-30 17:50:05  \n",
      "1  2015-12-30 17:11:42  2015-12-30 17:11:42  \n",
      "2  2017-02-07 04:48:57  2015-12-30 17:04:54  \n",
      "3                  NaN  2016-11-10 01:50:24  \n",
      "4                  NaN  2017-02-07 04:18:32  \n",
      "\n",
      "[5 rows x 40 columns]\n",
      "= Noms des colonnes\n",
      "Index(['post_id', 'parent_id', 'comment_id', 'cc_id', 'from_id', 'from_name',\n",
      "       'message', 'post_type', 'is_post_hidden', 'is_post_published',\n",
      "       'link_caption', 'link_description', 'link_name', 'link_url', 'media_id',\n",
      "       'media_thumnail_url', 'media_url', 'page', 'place_city',\n",
      "       'place_country', 'place_id', 'place_latitude', 'place_longitude',\n",
      "       'place_name', 'place_region', 'place_state', 'place_street',\n",
      "       'place_zip', 'reaction_count', 'share_count', 'comment_count', 'action',\n",
      "       'event', 'posting_application', 'tagged_id_list', 'tagged_name_list',\n",
      "       'tagged_type_list', 'video_length', 'updated_at', 'created_at'],\n",
      "      dtype='object')\n"
     ]
    }
   ],
   "source": [
    "df\n",
    "print(\"= dimensions\") \n",
    "print(df.shape) #compte les lignes et la colonne  ****** les dimensions rangés / lignes, colonne\n",
    "print(\"= 5 premieres rangés\")\n",
    "print(df.head())  #affiche le paragraph      ********     5 premiers rangés \n",
    "print(\"= Noms des colonnes\")\n",
    "print(df.columns) # ******                               Noms des colonnes"
   ]
  },
  {
   "cell_type": "code",
   "execution_count": 6,
   "metadata": {},
   "outputs": [],
   "source": [
    "#ne garder que les 100 premiers commentaires\n",
    "df=df[0:1000]"
   ]
  },
  {
   "cell_type": "code",
   "execution_count": 13,
   "metadata": {},
   "outputs": [],
   "source": [
    "#tokenisation PARTIE 1\n",
    "from nltk import word_tokenize\n",
    "\n"
   ]
  },
  {
   "cell_type": "code",
   "execution_count": 17,
   "metadata": {},
   "outputs": [
    {
     "name": "stdout",
     "output_type": "stream",
     "text": [
      "Liste original de signe de ponctuations\n",
      "\t!\"#$%&'()*+,-./:;<=>?@[\\]^_`{|}~\n",
      "Liste étendue de signe de ponctuations\n",
      "\t!\"#$%&'()*+,./:;<=>?@[\\]^`{|}~“”…»«’\r\n",
      "\n",
      "{'!': ' ', '\"': ' ', '#': ' ', '$': ' ', '%': ' ', '&': ' ', \"'\": ' ', '(': ' ', ')': ' ', '*': ' ', '+': ' ', ',': ' ', '.': ' ', '/': ' ', ':': ' ', ';': ' ', '<': ' ', '=': ' ', '>': ' ', '?': ' ', '@': ' ', '[': ' ', '\\\\': ' ', ']': ' ', '^': ' ', '`': ' ', '{': ' ', '|': ' ', '}': ' ', '~': ' ', '“': ' ', '”': ' ', '…': ' ', '»': ' ', '«': ' ', '’': ' ', '\\r': ' ', '\\n': ' '}\n"
     ]
    }
   ],
   "source": [
    "#ponctuation  PARTIE 2\n",
    "import string\n",
    "\n",
    "print(\"Liste original de signe de ponctuations\")\n",
    "print(\"\\t{}\".format(string.punctuation))\n",
    "\n",
    "punctuation_chars = ''.join([s for s in string.punctuation if s not in ['_', '-']  ]) + '“”…»«’\\r\\n'\n",
    "print(\"Liste étendue de signe de ponctuations\")\n",
    "print(\"\\t{}\".format(punctuation_chars))\n",
    "\n",
    "\n",
    "#  Construction d'un dict { '~':' ', '$': ' ', ... }\n",
    "d = {}\n",
    "for k in punctuation_chars:\n",
    "    d[k] = ' '\n",
    "    \n",
    "print(d)\n",
    "\n",
    "# L'operateur de translation\n",
    "translator = str.maketrans(d)  #une fois qu'on a le dictionnaire\n",
    "\n",
    "new_sentence = sentence.translate(translator)\n"
   ]
  },
  {
   "cell_type": "code",
   "execution_count": 19,
   "metadata": {},
   "outputs": [
    {
     "name": "stdout",
     "output_type": "stream",
     "text": [
      "=== stopwords - français:\n",
      "['au', 'aux', 'avec', 'ce', 'ces', 'dans', 'de', 'des', 'du', 'elle', 'en', 'et', 'eux', 'il', 'je', 'la', 'le', 'leur', 'lui', 'ma', 'mais', 'me', 'même', 'mes', 'moi', 'mon', 'ne', 'nos', 'notre', 'nous', 'on', 'ou', 'par', 'pas', 'pour', 'qu', 'que', 'qui', 'sa', 'se', 'ses', 'son', 'sur', 'ta', 'te', 'tes', 'toi', 'ton', 'tu', 'un', 'une', 'vos', 'votre', 'vous', 'c', 'd', 'j', 'l', 'à', 'm', 'n', 's', 't', 'y', 'été', 'étée', 'étées', 'étés', 'étant', 'étante', 'étants', 'étantes', 'suis', 'es', 'est', 'sommes', 'êtes', 'sont', 'serai', 'seras', 'sera', 'serons', 'serez', 'seront', 'serais', 'serait', 'serions', 'seriez', 'seraient', 'étais', 'était', 'étions', 'étiez', 'étaient', 'fus', 'fut', 'fûmes', 'fûtes', 'furent', 'sois', 'soit', 'soyons', 'soyez', 'soient', 'fusse', 'fusses', 'fût', 'fussions', 'fussiez', 'fussent', 'ayant', 'ayante', 'ayantes', 'ayants', 'eu', 'eue', 'eues', 'eus', 'ai', 'as', 'avons', 'avez', 'ont', 'aurai', 'auras', 'aura', 'aurons', 'aurez', 'auront', 'aurais', 'aurait', 'aurions', 'auriez', 'auraient', 'avais', 'avait', 'avions', 'aviez', 'avaient', 'eut', 'eûmes', 'eûtes', 'eurent', 'aie', 'aies', 'ait', 'ayons', 'ayez', 'aient', 'eusse', 'eusses', 'eût', 'eussions', 'eussiez', 'eussent']\n"
     ]
    },
    {
     "ename": "NameError",
     "evalue": "name 'list_stopwords' is not defined",
     "output_type": "error",
     "traceback": [
      "\u001b[0;31m---------------------------------------------------------------------------\u001b[0m",
      "\u001b[0;31mNameError\u001b[0m                                 Traceback (most recent call last)",
      "\u001b[0;32m<ipython-input-19-5bb3b1e5adb4>\u001b[0m in \u001b[0;36m<module>\u001b[0;34m()\u001b[0m\n\u001b[1;32m     12\u001b[0m \u001b[0;31m#stopwords.append('de')\u001b[0m\u001b[0;34m\u001b[0m\u001b[0;34m\u001b[0m\u001b[0m\n\u001b[1;32m     13\u001b[0m \u001b[0;34m\u001b[0m\u001b[0m\n\u001b[0;32m---> 14\u001b[0;31m \u001b[0mtokens_sans_stopwords\u001b[0m \u001b[0;34m=\u001b[0m \u001b[0;34m[\u001b[0m\u001b[0mw\u001b[0m \u001b[0;32mfor\u001b[0m \u001b[0mw\u001b[0m \u001b[0;32min\u001b[0m \u001b[0mtokens\u001b[0m \u001b[0;32mif\u001b[0m \u001b[0;34m(\u001b[0m\u001b[0mw\u001b[0m \u001b[0;32mnot\u001b[0m \u001b[0;32min\u001b[0m \u001b[0mlist_stopwords\u001b[0m\u001b[0;34m)\u001b[0m\u001b[0;34m]\u001b[0m\u001b[0;34m\u001b[0m\u001b[0m\n\u001b[0m",
      "\u001b[0;32m<ipython-input-19-5bb3b1e5adb4>\u001b[0m in \u001b[0;36m<listcomp>\u001b[0;34m(.0)\u001b[0m\n\u001b[1;32m     12\u001b[0m \u001b[0;31m#stopwords.append('de')\u001b[0m\u001b[0;34m\u001b[0m\u001b[0;34m\u001b[0m\u001b[0m\n\u001b[1;32m     13\u001b[0m \u001b[0;34m\u001b[0m\u001b[0m\n\u001b[0;32m---> 14\u001b[0;31m \u001b[0mtokens_sans_stopwords\u001b[0m \u001b[0;34m=\u001b[0m \u001b[0;34m[\u001b[0m\u001b[0mw\u001b[0m \u001b[0;32mfor\u001b[0m \u001b[0mw\u001b[0m \u001b[0;32min\u001b[0m \u001b[0mtokens\u001b[0m \u001b[0;32mif\u001b[0m \u001b[0;34m(\u001b[0m\u001b[0mw\u001b[0m \u001b[0;32mnot\u001b[0m \u001b[0;32min\u001b[0m \u001b[0mlist_stopwords\u001b[0m\u001b[0;34m)\u001b[0m\u001b[0;34m]\u001b[0m\u001b[0;34m\u001b[0m\u001b[0m\n\u001b[0m",
      "\u001b[0;31mNameError\u001b[0m: name 'list_stopwords' is not defined"
     ]
    }
   ],
   "source": [
    "from nltk.corpus import stopwords\n",
    "\n",
    "\n",
    "print(\"=== stopwords - français:\")\n",
    "print(stopwords.words('french'))  #pour avoir les stopwords français\n",
    "\n",
    "stopwords = stopwords.words('french') + ['les','de'] \n",
    "\n",
    "#Equivalent: \n",
    "#stopwords = stopwords.words('french')\n",
    "#stopwords.append('les')\n",
    "#stopwords.append('de')\n",
    "\n",
    "tokens_sans_stopwords = [w for w in tokens if (w not in list_stopwords)]"
   ]
  },
  {
   "cell_type": "code",
   "execution_count": null,
   "metadata": {},
   "outputs": [],
   "source": []
  }
 ],
 "metadata": {
  "kernelspec": {
   "display_name": "Python 3",
   "language": "python",
   "name": "python3"
  },
  "language_info": {
   "codemirror_mode": {
    "name": "ipython",
    "version": 3
   },
   "file_extension": ".py",
   "mimetype": "text/x-python",
   "name": "python",
   "nbconvert_exporter": "python",
   "pygments_lexer": "ipython3",
   "version": "3.6.3"
  }
 },
 "nbformat": 4,
 "nbformat_minor": 2
}
