{
 "cells": [
  {
   "cell_type": "code",
   "execution_count": 1,
   "metadata": {},
   "outputs": [
    {
     "name": "stdout",
     "output_type": "stream",
     "text": [
      "(15120, 1)\n"
     ]
    }
   ],
   "source": [
    "import pandas as pd\n",
    "\n",
    "DATA_PATH = '../data/'\n",
    "filename  = 'estrepublicain_annee_1999.csv'\n",
    "\n",
    "df = pd.read_csv(DATA_PATH + filename)\n",
    "# df = df[0:1000]\n",
    "\n",
    "# sampler \n",
    "\n",
    "df = df.sample(frac= 0.5)\n",
    "df.reset_index(inplace = True, drop = True)\n",
    "print(df.shape)"
   ]
  },
  {
   "cell_type": "code",
   "execution_count": 2,
   "metadata": {
    "scrolled": true
   },
   "outputs": [
    {
     "name": "stdout",
     "output_type": "stream",
     "text": [
      "= dimensions\n",
      "(15120, 1)\n",
      "= 5 premieres rangés\n",
      "                                                text\n",
      "0  De mémoire de l'école Brossolette, on n'avait ...\n",
      "1  « Je préfère parler des jours de pluie. Tout e...\n",
      "2  Aujourd'hui, la jeune fille peaufine son proje...\n",
      "3  Martial Demange calme le jeu : « Laissons les ...\n",
      "4  « On habite à Raon-l'Etape », explique Robert....\n",
      "= Noms des colonnes\n",
      "Index(['text'], dtype='object')\n"
     ]
    }
   ],
   "source": [
    "df\n",
    "print(\"= dimensions\")\n",
    "print(df.shape)\n",
    "print(\"= 5 premieres rangés\")\n",
    "print(df.head())\n",
    "print(\"= Noms des colonnes\")\n",
    "print(df.columns)"
   ]
  },
  {
   "cell_type": "code",
   "execution_count": 3,
   "metadata": {
    "scrolled": true
   },
   "outputs": [
    {
     "data": {
      "text/plain": [
       "array([[ \"De mémoire de l'école Brossolette, on n'avait encore jamais vu ça. Plus de 300 spectateurs avaient envahi mercredi soir la salle des fêtes pour le traditionnel spectacle de fin d'année. Salle comble en fait. Pour un spectacle de qualité décliné cette année entièrement en chansons. Résultat d'une année de travail sous la houlette et surtout la baguette de Jean-Pierre Becker, le directeur-chef de choeur de l'école. Qui, pendant plus de deux heures, a dirigé comme d'habitude avec autorité et maestria ses quelque 300 chères têtes blondes. Des graines de chanteurs, engoncées dans leur chemisier blanc comme neige, qui ont servi au public conquis un cocktail varié et détonant. De Starmania pour les petits à Notre-Dame de Paris pour les plus grands en passant par quelques uns des plus grands classiques.\"],\n",
       "       [ \"« Je préfère parler des jours de pluie. Tout embaume : la terre, les herbes, les mousses, les aiguilles de pin, les champignons, les dernières fraises, les premières pommes, les feux allumés au retour des promeneurs. Pluies d'orage qui tombent drues sur les monts, qui d'échos en échos se renvoient, les redoublant, les roulements de tonnerre. Pluies fines, entêtées qui semblent venir d'un océan de prairies où flottent les mâts perdus des clochers. On voyage dans un pays irréel : l'eau, sur l'eau des étangs et des lacs, y recrée le clapotis des sirènes d'eau douce à la chevelure verte. Pluies taquines, irisées de lumière, qui vous surprennent dans votre course, qu'on écoute à l'abri de la voûte des arbres où les oiseaux se sont tus, qu'on regarde, fenêtre ouverte, en rêvant de la promenade qu'on fera plus tard ou de la visite retardée de l'ami. »\"],\n",
       "       [ \"Aujourd'hui, la jeune fille peaufine son projet d'installation. Elle est en train de se constituer un stock et sillonne la région à la recherche d'un atelier. « J'ai pensé à Fontenoy-la-Joûte » dit-elle. « J'espère être installée comme artisan potier pour la fin de l'année » Pour remercier la Mission locale pour son soutien apporté au long de ces trois années de formation, Céline Laurent a décidé d'offrir sa première exposition ce vendredi 18 juin, de 15 h à 18 h dans le hall du foyer jeunes travailleurs. « Nous faisons également notre assemblée générale » ajoute le directeur de la Mission locale Denis Henry. L'occasion de présenter de manière concrète les actions de la Mission locale. « Et nous annoncerons la création d'un emploi-jeune, chargé du suivi et de l'accompagnement des projets jeunes » conclut-il.\"],\n",
       "       [ \"Martial Demange calme le jeu : « Laissons les gérants faire leurs preuves. Il leur faudra peut-être deux ou trois ans pour se stabiliser. Ils ont un public à conquérir. Faisons attention à ne pas tuer ce projet. On y a tous intérêt » Pour Serge Ragot, « c'est l'arbre qui cache la forêt. Cette affaire caractérise la politique municipale du sport beaucoup trop tournée vers les résultats, pas assez sur les loisirs ». Ce n'est pas l'avis de Jean-Paul Didier : « Nous favorisons les écoles de sport. Mais pour que les jeunes progressent, il leur faut de bons équipements. Je ne suis pas du tout persuadé que celui-ci soit surdimensionné. Il permettra au club hippique d'évoluer. »\"],\n",
       "       [ \"« On habite à Raon-l'Etape », explique Robert. « Ce genre de visite nous rassure. Nous, on est en plein dessus si ça lâche, alors on aime bien savoir quelles mesures sont prises pour entretenir la retenue d'eau.» « Surtout, ça donne une autre image du barrage », insiste Dominique, de Dombasle. «On connaît le barrage qui produit de l'électricité, mais pas celui de régulation du niveau des cours d'eau. » Le site du Vieux-Pré sert en effet à soutenir le débit d'eau de la Meurthe, affluent de la Moselle, et à compenser les débits évaporés de la centrale nucléaire de Cattenom, au nord de la Moselle.\"]], dtype=object)"
      ]
     },
     "execution_count": 3,
     "metadata": {},
     "output_type": "execute_result"
    }
   ],
   "source": [
    "df.head().values"
   ]
  },
  {
   "cell_type": "code",
   "execution_count": 4,
   "metadata": {},
   "outputs": [
    {
     "data": {
      "text/html": [
       "<div>\n",
       "<style scoped>\n",
       "    .dataframe tbody tr th:only-of-type {\n",
       "        vertical-align: middle;\n",
       "    }\n",
       "\n",
       "    .dataframe tbody tr th {\n",
       "        vertical-align: top;\n",
       "    }\n",
       "\n",
       "    .dataframe thead th {\n",
       "        text-align: right;\n",
       "    }\n",
       "</style>\n",
       "<table border=\"1\" class=\"dataframe\">\n",
       "  <thead>\n",
       "    <tr style=\"text-align: right;\">\n",
       "      <th></th>\n",
       "      <th>text</th>\n",
       "    </tr>\n",
       "  </thead>\n",
       "  <tbody>\n",
       "    <tr>\n",
       "      <th>0</th>\n",
       "      <td>De mémoire de l'école Brossolette, on n'avait ...</td>\n",
       "    </tr>\n",
       "    <tr>\n",
       "      <th>1</th>\n",
       "      <td>« Je préfère parler des jours de pluie. Tout e...</td>\n",
       "    </tr>\n",
       "    <tr>\n",
       "      <th>2</th>\n",
       "      <td>Aujourd'hui, la jeune fille peaufine son proje...</td>\n",
       "    </tr>\n",
       "    <tr>\n",
       "      <th>3</th>\n",
       "      <td>Martial Demange calme le jeu : « Laissons les ...</td>\n",
       "    </tr>\n",
       "    <tr>\n",
       "      <th>4</th>\n",
       "      <td>« On habite à Raon-l'Etape », explique Robert....</td>\n",
       "    </tr>\n",
       "  </tbody>\n",
       "</table>\n",
       "</div>"
      ],
      "text/plain": [
       "                                                text\n",
       "0  De mémoire de l'école Brossolette, on n'avait ...\n",
       "1  « Je préfère parler des jours de pluie. Tout e...\n",
       "2  Aujourd'hui, la jeune fille peaufine son proje...\n",
       "3  Martial Demange calme le jeu : « Laissons les ...\n",
       "4  « On habite à Raon-l'Etape », explique Robert...."
      ]
     },
     "execution_count": 4,
     "metadata": {},
     "output_type": "execute_result"
    }
   ],
   "source": [
    "df.head()"
   ]
  },
  {
   "cell_type": "code",
   "execution_count": 5,
   "metadata": {},
   "outputs": [
    {
     "data": {
      "text/plain": [
       "Index(['paragraphe'], dtype='object')"
      ]
     },
     "execution_count": 5,
     "metadata": {},
     "output_type": "execute_result"
    }
   ],
   "source": [
    "# Changer le nom de la colonne\n",
    "df.columns = ['paragraphe']\n",
    "df.columns"
   ]
  },
  {
   "cell_type": "code",
   "execution_count": 6,
   "metadata": {},
   "outputs": [
    {
     "data": {
      "text/plain": [
       "Index(['text'], dtype='object')"
      ]
     },
     "execution_count": 6,
     "metadata": {},
     "output_type": "execute_result"
    }
   ],
   "source": [
    "# puis renommer colonne en 'text'\n",
    "\n",
    "df.columns = ['text']\n",
    "df.columns"
   ]
  },
  {
   "cell_type": "code",
   "execution_count": 7,
   "metadata": {},
   "outputs": [
    {
     "name": "stdout",
     "output_type": "stream",
     "text": [
      "= dimensions\n",
      "(15120, 1)\n",
      "= 5 premieres rangés\n",
      "                                                text\n",
      "0  De mémoire de l'école Brossolette, on n'avait ...\n",
      "1  « Je préfère parler des jours de pluie. Tout e...\n",
      "2  Aujourd'hui, la jeune fille peaufine son proje...\n",
      "3  Martial Demange calme le jeu : « Laissons les ...\n",
      "4  « On habite à Raon-l'Etape », explique Robert....\n",
      "= Noms des colonnes\n",
      "Index(['text'], dtype='object')\n"
     ]
    }
   ],
   "source": [
    "df\n",
    "print(\"= dimensions\")\n",
    "print(df.shape)\n",
    "print(\"= 5 premieres rangés\")\n",
    "print(df.head())\n",
    "print(\"= Noms des colonnes\")\n",
    "print(df.columns)"
   ]
  },
  {
   "cell_type": "code",
   "execution_count": 8,
   "metadata": {},
   "outputs": [
    {
     "name": "stdout",
     "output_type": "stream",
     "text": [
      "avant: (15120, 1)\n",
      "apres: (1000, 1)\n"
     ]
    }
   ],
   "source": [
    "# Ne prendre que les 1000 premieres rangées\n",
    "\n",
    "print(\"avant: {}\".format(df.shape))\n",
    "df = df[0:1000]\n",
    "\n",
    "print(\"apres: {}\".format(df.shape))"
   ]
  },
  {
   "cell_type": "code",
   "execution_count": 9,
   "metadata": {},
   "outputs": [
    {
     "name": "stdout",
     "output_type": "stream",
     "text": [
      "['les', 'médiateurs', 'confirment', '«', \"l'absence\", 'de', 'solution', 'parfaite', '»', '.']\n",
      "['les', 'médiateurs', 'confirment', '«', \"l'absence\", 'de', 'solution', 'parfaite', '».', '']\n"
     ]
    }
   ],
   "source": [
    "# Tokenization\n",
    "from nltk import word_tokenize\n",
    "\n",
    "# La phrase\n",
    "sentence = \"les médiateurs confirment « l'absence de solution parfaite ». \"\n",
    "\n",
    "tokens = word_tokenize(sentence)\n",
    "\n",
    "print(tokens)\n",
    "tokens_on_space = sentence.split(' ')\n",
    "print(tokens_on_space)"
   ]
  },
  {
   "cell_type": "code",
   "execution_count": 10,
   "metadata": {},
   "outputs": [
    {
     "name": "stdout",
     "output_type": "stream",
     "text": [
      "Liste original de signe de ponctuations\n",
      "\t!\"#$%&'()*+,-./:;<=>?@[\\]^_`{|}~\n",
      "{'!': ' ', '\"': ' ', '#': ' ', '$': ' ', '%': ' ', '&': ' ', \"'\": ' ', '(': ' ', ')': ' ', '*': ' ', '+': ' ', ',': ' ', '-': ' ', '.': ' ', '/': ' ', ':': ' ', ';': ' ', '<': ' ', '=': ' ', '>': ' ', '?': ' ', '@': ' ', '[': ' ', '\\\\': ' ', ']': ' ', '^': ' ', '_': ' ', '`': ' ', '{': ' ', '|': ' ', '}': ' ', '~': ' ', '«': ' ', '»': ' '}\n",
      "les médiateurs confirment « l'absence de solution parfaite ». \n",
      "les médiateurs confirment   l absence de solution parfaite    \n"
     ]
    }
   ],
   "source": [
    "# ponctuation\n",
    "\n",
    "import string\n",
    "\n",
    "print(\"Liste original de signe de ponctuations\")\n",
    "print(\"\\t{}\".format(string.punctuation))\n",
    "\n",
    "sentence = \"les médiateurs confirment « l'absence de solution parfaite ». \"\n",
    "punctuation_chars = string.punctuation + \"«»\"\n",
    "\n",
    "#  Construction d'un dict { '~':' ', '$': ' ', ... }\n",
    "dict_ponctuation = {}\n",
    "for k in punctuation_chars:\n",
    "    dict_ponctuation[k] = ' '\n",
    "\n",
    "print(dict_ponctuation)\n",
    "\n",
    "# # L'operateur de translation\n",
    "translator = str.maketrans(dict_ponctuation)\n",
    "\n",
    "new_sentence = sentence.translate(translator)\n",
    "print(sentence)\n",
    "print(new_sentence)\n"
   ]
  },
  {
   "cell_type": "code",
   "execution_count": 11,
   "metadata": {},
   "outputs": [
    {
     "name": "stdout",
     "output_type": "stream",
     "text": [
      "['médiateurs', 'confirment', '«', \"l'absence\", 'solution', 'parfaite', '»', '.']\n"
     ]
    }
   ],
   "source": [
    "# stopwords de nltk\n",
    "from nltk.corpus import stopwords\n",
    "list_stopwords = stopwords.words('french') + ['les', 'de']\n",
    "\n",
    "# alternative\n",
    "from stop_words import get_stop_words\n",
    "list_stopwords = get_stop_words('fr')\n",
    "\n",
    "\n",
    "# print(\"=== stopwords - français:\")\n",
    "# print(sorted(stopwords.words('french')))\n",
    "\n",
    "# list_stopwords = stopwords.words('french') + ['les', 'de']\n",
    "\n",
    "# # equivalent:\n",
    "# stopwords = stopwords.words('french')\n",
    "# stopwords.append('les')\n",
    "# stopwords.append('de')\n",
    "\n",
    "\n",
    "# \n",
    "tokens_sans_stopwords = [w for w in tokens if (w not in list_stopwords) &(len(w)>2)]\n",
    "\n",
    "## Equivalent \n",
    "tokens_sans_stopwords = []\n",
    "for w in tokens:\n",
    "    if w not in list_stopwords:\n",
    "        tokens_sans_stopwords.append(w)\n",
    "\n",
    "\n",
    "\n",
    "print(tokens_sans_stopwords)\n"
   ]
  },
  {
   "cell_type": "code",
   "execution_count": 12,
   "metadata": {
    "scrolled": true
   },
   "outputs": [
    {
     "data": {
      "text/html": [
       "<div>\n",
       "<style scoped>\n",
       "    .dataframe tbody tr th:only-of-type {\n",
       "        vertical-align: middle;\n",
       "    }\n",
       "\n",
       "    .dataframe tbody tr th {\n",
       "        vertical-align: top;\n",
       "    }\n",
       "\n",
       "    .dataframe thead th {\n",
       "        text-align: right;\n",
       "    }\n",
       "</style>\n",
       "<table border=\"1\" class=\"dataframe\">\n",
       "  <thead>\n",
       "    <tr style=\"text-align: right;\">\n",
       "      <th></th>\n",
       "      <th>text</th>\n",
       "      <th>text_no_punctuation</th>\n",
       "    </tr>\n",
       "  </thead>\n",
       "  <tbody>\n",
       "    <tr>\n",
       "      <th>0</th>\n",
       "      <td>De mémoire de l'école Brossolette, on n'avait ...</td>\n",
       "      <td>De mémoire de l école Brossolette  on n avait ...</td>\n",
       "    </tr>\n",
       "    <tr>\n",
       "      <th>1</th>\n",
       "      <td>« Je préfère parler des jours de pluie. Tout e...</td>\n",
       "      <td>Je préfère parler des jours de pluie  Tout e...</td>\n",
       "    </tr>\n",
       "    <tr>\n",
       "      <th>2</th>\n",
       "      <td>Aujourd'hui, la jeune fille peaufine son proje...</td>\n",
       "      <td>Aujourd hui  la jeune fille peaufine son proje...</td>\n",
       "    </tr>\n",
       "    <tr>\n",
       "      <th>3</th>\n",
       "      <td>Martial Demange calme le jeu : « Laissons les ...</td>\n",
       "      <td>Martial Demange calme le jeu     Laissons les ...</td>\n",
       "    </tr>\n",
       "    <tr>\n",
       "      <th>4</th>\n",
       "      <td>« On habite à Raon-l'Etape », explique Robert....</td>\n",
       "      <td>On habite à Raon l Etape    explique Robert ...</td>\n",
       "    </tr>\n",
       "  </tbody>\n",
       "</table>\n",
       "</div>"
      ],
      "text/plain": [
       "                                                text  \\\n",
       "0  De mémoire de l'école Brossolette, on n'avait ...   \n",
       "1  « Je préfère parler des jours de pluie. Tout e...   \n",
       "2  Aujourd'hui, la jeune fille peaufine son proje...   \n",
       "3  Martial Demange calme le jeu : « Laissons les ...   \n",
       "4  « On habite à Raon-l'Etape », explique Robert....   \n",
       "\n",
       "                                 text_no_punctuation  \n",
       "0  De mémoire de l école Brossolette  on n avait ...  \n",
       "1    Je préfère parler des jours de pluie  Tout e...  \n",
       "2  Aujourd hui  la jeune fille peaufine son proje...  \n",
       "3  Martial Demange calme le jeu     Laissons les ...  \n",
       "4    On habite à Raon l Etape    explique Robert ...  "
      ]
     },
     "execution_count": 12,
     "metadata": {},
     "output_type": "execute_result"
    }
   ],
   "source": [
    "# Enlevons la ponctuation\n",
    "\n",
    "df['text_no_punctuation'] = df.text.apply(lambda \n",
    "    r : ( r.translate(translator) ) \n",
    ")\n",
    "df.head()"
   ]
  },
  {
   "cell_type": "code",
   "execution_count": 13,
   "metadata": {},
   "outputs": [
    {
     "data": {
      "text/html": [
       "<div>\n",
       "<style scoped>\n",
       "    .dataframe tbody tr th:only-of-type {\n",
       "        vertical-align: middle;\n",
       "    }\n",
       "\n",
       "    .dataframe tbody tr th {\n",
       "        vertical-align: top;\n",
       "    }\n",
       "\n",
       "    .dataframe thead th {\n",
       "        text-align: right;\n",
       "    }\n",
       "</style>\n",
       "<table border=\"1\" class=\"dataframe\">\n",
       "  <thead>\n",
       "    <tr style=\"text-align: right;\">\n",
       "      <th></th>\n",
       "      <th>text</th>\n",
       "      <th>text_no_punctuation</th>\n",
       "      <th>tokens_all</th>\n",
       "    </tr>\n",
       "  </thead>\n",
       "  <tbody>\n",
       "    <tr>\n",
       "      <th>0</th>\n",
       "      <td>De mémoire de l'école Brossolette, on n'avait ...</td>\n",
       "      <td>De mémoire de l école Brossolette  on n avait ...</td>\n",
       "      <td>[de, mémoire, de, l, école, brossolette, on, n...</td>\n",
       "    </tr>\n",
       "    <tr>\n",
       "      <th>1</th>\n",
       "      <td>« Je préfère parler des jours de pluie. Tout e...</td>\n",
       "      <td>Je préfère parler des jours de pluie  Tout e...</td>\n",
       "      <td>[je, préfère, parler, des, jours, de, pluie, t...</td>\n",
       "    </tr>\n",
       "    <tr>\n",
       "      <th>2</th>\n",
       "      <td>Aujourd'hui, la jeune fille peaufine son proje...</td>\n",
       "      <td>Aujourd hui  la jeune fille peaufine son proje...</td>\n",
       "      <td>[aujourd, hui, la, jeune, fille, peaufine, son...</td>\n",
       "    </tr>\n",
       "    <tr>\n",
       "      <th>3</th>\n",
       "      <td>Martial Demange calme le jeu : « Laissons les ...</td>\n",
       "      <td>Martial Demange calme le jeu     Laissons les ...</td>\n",
       "      <td>[martial, demange, calme, le, jeu, laissons, l...</td>\n",
       "    </tr>\n",
       "    <tr>\n",
       "      <th>4</th>\n",
       "      <td>« On habite à Raon-l'Etape », explique Robert....</td>\n",
       "      <td>On habite à Raon l Etape    explique Robert ...</td>\n",
       "      <td>[on, habite, à, raon, l, etape, explique, robe...</td>\n",
       "    </tr>\n",
       "  </tbody>\n",
       "</table>\n",
       "</div>"
      ],
      "text/plain": [
       "                                                text  \\\n",
       "0  De mémoire de l'école Brossolette, on n'avait ...   \n",
       "1  « Je préfère parler des jours de pluie. Tout e...   \n",
       "2  Aujourd'hui, la jeune fille peaufine son proje...   \n",
       "3  Martial Demange calme le jeu : « Laissons les ...   \n",
       "4  « On habite à Raon-l'Etape », explique Robert....   \n",
       "\n",
       "                                 text_no_punctuation  \\\n",
       "0  De mémoire de l école Brossolette  on n avait ...   \n",
       "1    Je préfère parler des jours de pluie  Tout e...   \n",
       "2  Aujourd hui  la jeune fille peaufine son proje...   \n",
       "3  Martial Demange calme le jeu     Laissons les ...   \n",
       "4    On habite à Raon l Etape    explique Robert ...   \n",
       "\n",
       "                                          tokens_all  \n",
       "0  [de, mémoire, de, l, école, brossolette, on, n...  \n",
       "1  [je, préfère, parler, des, jours, de, pluie, t...  \n",
       "2  [aujourd, hui, la, jeune, fille, peaufine, son...  \n",
       "3  [martial, demange, calme, le, jeu, laissons, l...  \n",
       "4  [on, habite, à, raon, l, etape, explique, robe...  "
      ]
     },
     "execution_count": 13,
     "metadata": {},
     "output_type": "execute_result"
    }
   ],
   "source": [
    "# Tokenizer\n",
    "\n",
    "df['tokens_all']  = df.text_no_punctuation.apply(\n",
    "    lambda r : word_tokenize(r.lower())\n",
    ")\n",
    "\n",
    "df.head()"
   ]
  },
  {
   "cell_type": "code",
   "execution_count": 14,
   "metadata": {
    "scrolled": true
   },
   "outputs": [
    {
     "data": {
      "text/html": [
       "<div>\n",
       "<style scoped>\n",
       "    .dataframe tbody tr th:only-of-type {\n",
       "        vertical-align: middle;\n",
       "    }\n",
       "\n",
       "    .dataframe tbody tr th {\n",
       "        vertical-align: top;\n",
       "    }\n",
       "\n",
       "    .dataframe thead th {\n",
       "        text-align: right;\n",
       "    }\n",
       "</style>\n",
       "<table border=\"1\" class=\"dataframe\">\n",
       "  <thead>\n",
       "    <tr style=\"text-align: right;\">\n",
       "      <th></th>\n",
       "      <th>text</th>\n",
       "      <th>text_no_punctuation</th>\n",
       "      <th>tokens_all</th>\n",
       "      <th>tokens</th>\n",
       "    </tr>\n",
       "  </thead>\n",
       "  <tbody>\n",
       "    <tr>\n",
       "      <th>0</th>\n",
       "      <td>De mémoire de l'école Brossolette, on n'avait ...</td>\n",
       "      <td>De mémoire de l école Brossolette  on n avait ...</td>\n",
       "      <td>[de, mémoire, de, l, école, brossolette, on, n...</td>\n",
       "      <td>[mémoire, école, brossolette, jamais, plus, 30...</td>\n",
       "    </tr>\n",
       "    <tr>\n",
       "      <th>1</th>\n",
       "      <td>« Je préfère parler des jours de pluie. Tout e...</td>\n",
       "      <td>Je préfère parler des jours de pluie  Tout e...</td>\n",
       "      <td>[je, préfère, parler, des, jours, de, pluie, t...</td>\n",
       "      <td>[préfère, parler, jours, pluie, embaume, terre...</td>\n",
       "    </tr>\n",
       "    <tr>\n",
       "      <th>2</th>\n",
       "      <td>Aujourd'hui, la jeune fille peaufine son proje...</td>\n",
       "      <td>Aujourd hui  la jeune fille peaufine son proje...</td>\n",
       "      <td>[aujourd, hui, la, jeune, fille, peaufine, son...</td>\n",
       "      <td>[aujourd, hui, jeune, fille, peaufine, projet,...</td>\n",
       "    </tr>\n",
       "    <tr>\n",
       "      <th>3</th>\n",
       "      <td>Martial Demange calme le jeu : « Laissons les ...</td>\n",
       "      <td>Martial Demange calme le jeu     Laissons les ...</td>\n",
       "      <td>[martial, demange, calme, le, jeu, laissons, l...</td>\n",
       "      <td>[martial, demange, calme, jeu, laissons, géran...</td>\n",
       "    </tr>\n",
       "    <tr>\n",
       "      <th>4</th>\n",
       "      <td>« On habite à Raon-l'Etape », explique Robert....</td>\n",
       "      <td>On habite à Raon l Etape    explique Robert ...</td>\n",
       "      <td>[on, habite, à, raon, l, etape, explique, robe...</td>\n",
       "      <td>[habite, raon, etape, explique, robert, genre,...</td>\n",
       "    </tr>\n",
       "  </tbody>\n",
       "</table>\n",
       "</div>"
      ],
      "text/plain": [
       "                                                text  \\\n",
       "0  De mémoire de l'école Brossolette, on n'avait ...   \n",
       "1  « Je préfère parler des jours de pluie. Tout e...   \n",
       "2  Aujourd'hui, la jeune fille peaufine son proje...   \n",
       "3  Martial Demange calme le jeu : « Laissons les ...   \n",
       "4  « On habite à Raon-l'Etape », explique Robert....   \n",
       "\n",
       "                                 text_no_punctuation  \\\n",
       "0  De mémoire de l école Brossolette  on n avait ...   \n",
       "1    Je préfère parler des jours de pluie  Tout e...   \n",
       "2  Aujourd hui  la jeune fille peaufine son proje...   \n",
       "3  Martial Demange calme le jeu     Laissons les ...   \n",
       "4    On habite à Raon l Etape    explique Robert ...   \n",
       "\n",
       "                                          tokens_all  \\\n",
       "0  [de, mémoire, de, l, école, brossolette, on, n...   \n",
       "1  [je, préfère, parler, des, jours, de, pluie, t...   \n",
       "2  [aujourd, hui, la, jeune, fille, peaufine, son...   \n",
       "3  [martial, demange, calme, le, jeu, laissons, l...   \n",
       "4  [on, habite, à, raon, l, etape, explique, robe...   \n",
       "\n",
       "                                              tokens  \n",
       "0  [mémoire, école, brossolette, jamais, plus, 30...  \n",
       "1  [préfère, parler, jours, pluie, embaume, terre...  \n",
       "2  [aujourd, hui, jeune, fille, peaufine, projet,...  \n",
       "3  [martial, demange, calme, jeu, laissons, géran...  \n",
       "4  [habite, raon, etape, explique, robert, genre,...  "
      ]
     },
     "execution_count": 14,
     "metadata": {},
     "output_type": "execute_result"
    }
   ],
   "source": [
    "# remove stopwords\n",
    "\n",
    "def remove_stopword(tokens):\n",
    "     return [w for w in tokens if (w not in list_stopwords) ]\n",
    "\n",
    "# Verifier que ca marche\n",
    "remove_stopword(tokens)\n",
    "\n",
    "# appliquer a la dataframe\n",
    "\n",
    "df['tokens'] = df.tokens_all.apply(\n",
    "    lambda tks : remove_stopword(tks) \n",
    ")\n",
    "\n",
    "df.head()"
   ]
  },
  {
   "cell_type": "code",
   "execution_count": 15,
   "metadata": {},
   "outputs": [
    {
     "name": "stdout",
     "output_type": "stream",
     "text": [
      "Index(['text', 'text_no_punctuation', 'tokens_all', 'tokens'], dtype='object')\n",
      "Index(['text', 'tokens'], dtype='object')\n"
     ]
    }
   ],
   "source": [
    "# enlever les colonnes intermediaires\n",
    "\n",
    "print(df.columns)\n",
    "\n",
    "df = df[['text', 'tokens']]\n",
    "\n",
    "print(df.columns)\n"
   ]
  },
  {
   "cell_type": "code",
   "execution_count": 16,
   "metadata": {},
   "outputs": [
    {
     "name": "stdout",
     "output_type": "stream",
     "text": [
      "                                                text  \\\n",
      "0  De mémoire de l'école Brossolette, on n'avait ...   \n",
      "1  « Je préfère parler des jours de pluie. Tout e...   \n",
      "2  Aujourd'hui, la jeune fille peaufine son proje...   \n",
      "3  Martial Demange calme le jeu : « Laissons les ...   \n",
      "4  « On habite à Raon-l'Etape », explique Robert....   \n",
      "\n",
      "                                              tokens  token_count  \n",
      "0  [mémoire, école, brossolette, jamais, plus, 30...           73  \n",
      "1  [préfère, parler, jours, pluie, embaume, terre...           78  \n",
      "2  [aujourd, hui, jeune, fille, peaufine, projet,...           77  \n",
      "3  [martial, demange, calme, jeu, laissons, géran...           54  \n",
      "4  [habite, raon, etape, explique, robert, genre,...           54  \n"
     ]
    },
    {
     "data": {
      "text/plain": [
       "count    1000.000000\n",
       "mean       74.583000\n",
       "std        30.310358\n",
       "min        41.000000\n",
       "25%        58.000000\n",
       "50%        67.000000\n",
       "75%        82.000000\n",
       "max       532.000000\n",
       "Name: token_count, dtype: float64"
      ]
     },
     "execution_count": 16,
     "metadata": {},
     "output_type": "execute_result"
    }
   ],
   "source": [
    "# nombre de tokens par rangée\n",
    "pd.options.mode.chained_assignment = None\n",
    "df['token_count'] = df.tokens.apply( lambda r : len(r) )\n",
    "\n",
    "print(df.head())\n",
    "\n",
    "# repartition du nombre de tokens\n",
    "df.token_count.describe()"
   ]
  },
  {
   "cell_type": "code",
   "execution_count": 17,
   "metadata": {},
   "outputs": [
    {
     "name": "stdout",
     "output_type": "stream",
     "text": [
      "[]\n"
     ]
    }
   ],
   "source": [
    "# quel document a 407 tokens?\n",
    "\n",
    "condition = (df.token_count == 407)\n",
    "print(df[condition].text.values)"
   ]
  },
  {
   "cell_type": "code",
   "execution_count": 18,
   "metadata": {},
   "outputs": [
    {
     "name": "stdout",
     "output_type": "stream",
     "text": [
      "Int64Index([], dtype='int64')\n",
      "(1000, 3)\n"
     ]
    }
   ],
   "source": [
    "# quel index\n",
    "print(df[condition].index)\n",
    "\n",
    "# \n",
    "condition = (df.token_count < 800)\n",
    "print(df[condition].shape)\n"
   ]
  },
  {
   "cell_type": "code",
   "execution_count": 19,
   "metadata": {
    "scrolled": true
   },
   "outputs": [
    {
     "name": "stdout",
     "output_type": "stream",
     "text": [
      "(1000, 3)\n",
      "(1000, 3)\n",
      "count    1000.000000\n",
      "mean       74.583000\n",
      "std        30.310358\n",
      "min        41.000000\n",
      "25%        58.000000\n",
      "50%        67.000000\n",
      "75%        82.000000\n",
      "max       532.000000\n",
      "Name: token_count, dtype: float64\n"
     ]
    }
   ],
   "source": [
    "# enlever le paragraphe le plus long\n",
    "\n",
    "condition_filtrage = df.token_count < 955\n",
    "print(df[condition_filtrage].shape)\n",
    "\n",
    "df = df[condition_filtrage]\n",
    "print(df[condition_filtrage].shape)\n",
    "\n",
    "print(df.token_count.describe())"
   ]
  },
  {
   "cell_type": "code",
   "execution_count": 20,
   "metadata": {},
   "outputs": [
    {
     "name": "stdout",
     "output_type": "stream",
     "text": [
      "Dictionary(19652 unique tokens: ['mémoire', 'école', 'brossolette', 'jamais', 'plus']...)\n"
     ]
    }
   ],
   "source": [
    "# Gensim - Vocabulaire\n",
    "\n",
    "from gensim import corpora, models\n",
    "dictionary  = corpora.Dictionary(df.tokens)\n",
    "print(dictionary)\n"
   ]
  },
  {
   "cell_type": "code",
   "execution_count": 21,
   "metadata": {},
   "outputs": [
    {
     "name": "stdout",
     "output_type": "stream",
     "text": [
      "[[ \"De mémoire de l'école Brossolette, on n'avait encore jamais vu ça. Plus de 300 spectateurs avaient envahi mercredi soir la salle des fêtes pour le traditionnel spectacle de fin d'année. Salle comble en fait. Pour un spectacle de qualité décliné cette année entièrement en chansons. Résultat d'une année de travail sous la houlette et surtout la baguette de Jean-Pierre Becker, le directeur-chef de choeur de l'école. Qui, pendant plus de deux heures, a dirigé comme d'habitude avec autorité et maestria ses quelque 300 chères têtes blondes. Des graines de chanteurs, engoncées dans leur chemisier blanc comme neige, qui ont servi au public conquis un cocktail varié et détonant. De Starmania pour les petits à Notre-Dame de Paris pour les plus grands en passant par quelques uns des plus grands classiques.\"\n",
      "  list([(0, 1), (1, 2), (2, 1), (3, 1), (4, 4), (5, 2), (6, 1), (7, 1), (8, 1), (9, 1), (10, 2), (11, 1), (12, 1), (13, 2), (14, 1), (15, 3), (16, 1), (17, 1), (18, 1), (19, 1), (20, 1), (21, 1), (22, 1), (23, 1), (24, 1), (25, 1), (26, 1), (27, 1), (28, 1), (29, 1), (30, 1), (31, 1), (32, 1), (33, 1), (34, 1), (35, 1), (36, 1), (37, 1), (38, 1), (39, 1), (40, 1), (41, 1), (42, 1), (43, 1), (44, 1), (45, 1), (46, 1), (47, 1), (48, 1), (49, 1), (50, 1), (51, 1), (52, 1), (53, 1), (54, 1), (55, 1), (56, 1), (57, 1), (58, 2), (59, 1), (60, 1), (61, 1), (62, 1)])]\n",
      " [ \"« Je préfère parler des jours de pluie. Tout embaume : la terre, les herbes, les mousses, les aiguilles de pin, les champignons, les dernières fraises, les premières pommes, les feux allumés au retour des promeneurs. Pluies d'orage qui tombent drues sur les monts, qui d'échos en échos se renvoient, les redoublant, les roulements de tonnerre. Pluies fines, entêtées qui semblent venir d'un océan de prairies où flottent les mâts perdus des clochers. On voyage dans un pays irréel : l'eau, sur l'eau des étangs et des lacs, y recrée le clapotis des sirènes d'eau douce à la chevelure verte. Pluies taquines, irisées de lumière, qui vous surprennent dans votre course, qu'on écoute à l'abri de la voûte des arbres où les oiseaux se sont tus, qu'on regarde, fenêtre ouverte, en rêvant de la promenade qu'on fera plus tard ou de la visite retardée de l'ami. »\"\n",
      "  list([(4, 1), (63, 1), (64, 1), (65, 1), (66, 1), (67, 1), (68, 1), (69, 1), (70, 1), (71, 1), (72, 1), (73, 1), (74, 1), (75, 1), (76, 1), (77, 1), (78, 1), (79, 1), (80, 1), (81, 1), (82, 3), (83, 1), (84, 1), (85, 1), (86, 1), (87, 2), (88, 1), (89, 1), (90, 1), (91, 1), (92, 1), (93, 1), (94, 1), (95, 1), (96, 1), (97, 1), (98, 1), (99, 1), (100, 1), (101, 1), (102, 1), (103, 1), (104, 1), (105, 3), (106, 1), (107, 1), (108, 1), (109, 1), (110, 1), (111, 1), (112, 1), (113, 1), (114, 1), (115, 1), (116, 1), (117, 1), (118, 1), (119, 1), (120, 1), (121, 1), (122, 1), (123, 1), (124, 1), (125, 1), (126, 1), (127, 1), (128, 1), (129, 1), (130, 1), (131, 1), (132, 1), (133, 1), (134, 1)])]\n",
      " [ \"Aujourd'hui, la jeune fille peaufine son projet d'installation. Elle est en train de se constituer un stock et sillonne la région à la recherche d'un atelier. « J'ai pensé à Fontenoy-la-Joûte » dit-elle. « J'espère être installée comme artisan potier pour la fin de l'année » Pour remercier la Mission locale pour son soutien apporté au long de ces trois années de formation, Céline Laurent a décidé d'offrir sa première exposition ce vendredi 18 juin, de 15 h à 18 h dans le hall du foyer jeunes travailleurs. « Nous faisons également notre assemblée générale » ajoute le directeur de la Mission locale Denis Henry. L'occasion de présenter de manière concrète les actions de la Mission locale. « Et nous annoncerons la création d'un emploi-jeune, chargé du suivi et de l'accompagnement des projets jeunes » conclut-il.\"\n",
      "  list([(14, 1), (15, 1), (29, 1), (135, 1), (136, 1), (137, 2), (138, 1), (139, 1), (140, 1), (141, 1), (142, 1), (143, 1), (144, 1), (145, 1), (146, 1), (147, 1), (148, 1), (149, 1), (150, 1), (151, 1), (152, 1), (153, 1), (154, 1), (155, 1), (156, 1), (157, 1), (158, 3), (159, 3), (160, 1), (161, 1), (162, 1), (163, 1), (164, 1), (165, 1), (166, 1), (167, 1), (168, 1), (169, 1), (170, 1), (171, 1), (172, 1), (173, 2), (174, 1), (175, 1), (176, 2), (177, 1), (178, 1), (179, 2), (180, 1), (181, 1), (182, 1), (183, 1), (184, 1), (185, 1), (186, 1), (187, 1), (188, 1), (189, 1), (190, 1), (191, 1), (192, 1), (193, 1), (194, 1), (195, 1), (196, 1), (197, 1), (198, 1), (199, 1), (200, 1)])]\n",
      " [ \"Martial Demange calme le jeu : « Laissons les gérants faire leurs preuves. Il leur faudra peut-être deux ou trois ans pour se stabiliser. Ils ont un public à conquérir. Faisons attention à ne pas tuer ce projet. On y a tous intérêt » Pour Serge Ragot, « c'est l'arbre qui cache la forêt. Cette affaire caractérise la politique municipale du sport beaucoup trop tournée vers les résultats, pas assez sur les loisirs ». Ce n'est pas l'avis de Jean-Paul Didier : « Nous favorisons les écoles de sport. Mais pour que les jeunes progressent, il leur faut de bons équipements. Je ne suis pas du tout persuadé que celui-ci soit surdimensionné. Il permettra au club hippique d'évoluer. »\"\n",
      "  list([(26, 1), (49, 1), (140, 1), (163, 1), (179, 1), (181, 1), (201, 1), (202, 1), (203, 1), (204, 1), (205, 1), (206, 1), (207, 1), (208, 1), (209, 1), (210, 1), (211, 1), (212, 1), (213, 1), (214, 1), (215, 1), (216, 1), (217, 1), (218, 1), (219, 1), (220, 1), (221, 1), (222, 1), (223, 1), (224, 1), (225, 2), (226, 1), (227, 1), (228, 1), (229, 1), (230, 1), (231, 1), (232, 1), (233, 1), (234, 1), (235, 1), (236, 1), (237, 1), (238, 1), (239, 1), (240, 1), (241, 1), (242, 1), (243, 1), (244, 1), (245, 1), (246, 1), (247, 1)])]\n",
      " [ \"« On habite à Raon-l'Etape », explique Robert. « Ce genre de visite nous rassure. Nous, on est en plein dessus si ça lâche, alors on aime bien savoir quelles mesures sont prises pour entretenir la retenue d'eau.» « Surtout, ça donne une autre image du barrage », insiste Dominique, de Dombasle. «On connaît le barrage qui produit de l'électricité, mais pas celui de régulation du niveau des cours d'eau. » Le site du Vieux-Pré sert en effet à soutenir le débit d'eau de la Meurthe, affluent de la Moselle, et à compenser les débits évaporés de la centrale nucléaire de Cattenom, au nord de la Moselle.\"\n",
      "  list([(24, 1), (105, 3), (132, 1), (242, 1), (248, 1), (249, 1), (250, 1), (251, 1), (252, 1), (253, 1), (254, 1), (255, 1), (256, 1), (257, 1), (258, 1), (259, 1), (260, 1), (261, 1), (262, 1), (263, 1), (264, 1), (265, 1), (266, 1), (267, 2), (268, 1), (269, 1), (270, 1), (271, 1), (272, 1), (273, 1), (274, 1), (275, 1), (276, 1), (277, 1), (278, 1), (279, 1), (280, 1), (281, 1), (282, 1), (283, 1), (284, 1), (285, 1), (286, 2), (287, 1), (288, 1), (289, 1), (290, 1), (291, 1), (292, 1), (293, 1)])]]\n"
     ]
    }
   ],
   "source": [
    "# corpus_gensim\n",
    "\n",
    "df['corpus_gensim'] = df.tokens.apply(lambda d : dictionary.doc2bow(d))\n",
    "\n",
    "print(df[['text','corpus_gensim']] .head().values)"
   ]
  },
  {
   "cell_type": "code",
   "execution_count": 22,
   "metadata": {
    "scrolled": true
   },
   "outputs": [],
   "source": [
    "corpus_gensim = [c for c in df.corpus_gensim]\n",
    "\n"
   ]
  },
  {
   "cell_type": "code",
   "execution_count": 37,
   "metadata": {},
   "outputs": [],
   "source": [
    "num_topics= 10\n",
    "\n",
    "# Le model LDA\n",
    "lda = models.LdaModel(corpus_gensim,\n",
    "    id2word = dictionary,\n",
    "    num_topics = num_topics,\n",
    "    alpha = 'asymmetric',\n",
    "    eta = 'auto',\n",
    "    passes = 2,\n",
    "    iterations = 20\n",
    ")\n",
    "\n",
    "\n"
   ]
  },
  {
   "cell_type": "code",
   "execution_count": 38,
   "metadata": {},
   "outputs": [
    {
     "name": "stdout",
     "output_type": "stream",
     "text": [
      "\n",
      "=== topic #0\n",
      "0.010: h,  0.008: s,  0.006: 4,  0.005: c,  0.005: 1,  0.005: ans,  0.004: 5,  0.004: 6,  0.004: epinal,  0.004: plus\n",
      "\n",
      "=== topic #1\n",
      "0.013: ab,  0.008: b,  0.006: s,  0.005: h,  0.004: pierre,  0.004: c,  0.003: place,  0.003: nicolas,  0.003: jean,  0.003: thomas\n",
      "\n",
      "=== topic #2\n",
      "0.009: s,  0.007: plus,  0.004: groupe,  0.003: toujours,  0.003: bien,  0.003: enfants,  0.003: première,  0.003: maire,  0.003: après,  0.002: c\n",
      "\n",
      "=== topic #3\n",
      "0.009: s,  0.007: c,  0.004: plus,  0.003: trois,  0.003: bien,  0.003: place,  0.002: après,  0.002: dont,  0.002: entre,  0.002: pierre\n",
      "\n",
      "=== topic #4\n",
      "0.009: s,  0.004: c,  0.003: plus,  0.003: après,  0.003: bien,  0.003: partie,  0.003: équipe,  0.003: autres,  0.003: ans,  0.002: puis\n",
      "\n",
      "=== topic #5\n",
      "0.011: plus,  0.005: bien,  0.004: f,  0.004: c,  0.003: s,  0.003: trois,  0.003: 000,  0.003: premier,  0.003: dont,  0.003: partie\n",
      "\n",
      "=== topic #6\n",
      "0.005: après,  0.005: s,  0.004: plus,  0.004: jean,  0.003: ans,  0.003: an,  0.003: premier,  0.003: trois,  0.003: place,  0.003: exposition\n",
      "\n",
      "=== topic #7\n",
      "0.006: s,  0.005: plus,  0.004: ans,  0.004: c,  0.003: h,  0.003: bien,  0.003: jeunes,  0.003: france,  0.003: club,  0.003: équipe\n",
      "\n",
      "=== topic #8\n",
      "0.026: h,  0.008: 30,  0.005: s,  0.005: enfants,  0.005: journal,  0.004: temps,  0.004: r,  0.004: plus,  0.004: 21,  0.004: après\n",
      "\n",
      "=== topic #9\n",
      "0.006: s,  0.005: c,  0.005: plus,  0.003: travail,  0.003: samedi,  0.003: f,  0.003: ans,  0.003: h,  0.003: champagne,  0.002: président\n",
      "\n",
      "=== topic #10\n",
      "0.008: c,  0.006: plus,  0.005: h,  0.005: s,  0.004: entre,  0.003: après,  0.002: ville,  0.002: habitants,  0.002: 18,  0.002: ans\n",
      "\n",
      "=== topic #11\n",
      "0.008: plus,  0.006: s,  0.005: m3,  0.004: 4,  0.004: c,  0.003: eau,  0.003: 1997,  0.003: dernier,  0.002: déjà,  0.002: ans\n",
      "\n",
      "=== topic #12\n",
      "0.005: c,  0.004: s,  0.004: france,  0.004: f,  0.003: jeune,  0.003: place,  0.003: ans,  0.003: homme,  0.003: mois,  0.002: hier\n",
      "\n",
      "=== topic #13\n",
      "0.009: s,  0.007: plus,  0.005: c,  0.004: ans,  0.004: équipe,  0.003: 5,  0.003: autres,  0.003: france,  0.003: place,  0.003: bien\n",
      "\n",
      "=== topic #14\n",
      "0.011: plus,  0.005: s,  0.005: c,  0.004: trois,  0.003: h,  0.003: ans,  0.003: après,  0.003: jours,  0.003: entre,  0.003: déjà\n",
      "\n",
      "=== topic #15\n",
      "0.008: s,  0.005: claude,  0.005: ans,  0.004: plus,  0.004: père,  0.004: f,  0.003: c,  0.003: entre,  0.003: bien,  0.002: 90\n",
      "\n",
      "=== topic #16\n",
      "0.006: s,  0.006: 50,  0.005: ind,  0.005: belfort,  0.004: f,  0.004: 00,  0.003: r,  0.003: h,  0.003: banques,  0.003: présence\n",
      "\n",
      "=== topic #17\n",
      "0.021: ab,  0.009: ans,  0.005: b,  0.005: marie,  0.005: emilie,  0.004: s,  0.004: anne,  0.004: nicolas,  0.003: céline,  0.003: retraité\n",
      "\n",
      "=== topic #18\n",
      "0.006: s,  0.005: plus,  0.003: nancy,  0.003: également,  0.003: place,  0.003: 15,  0.003: rue,  0.003: club,  0.002: rues,  0.002: élèves\n",
      "\n",
      "=== topic #19\n",
      "0.007: s,  0.005: plus,  0.005: c,  0.005: ans,  0.004: 1,  0.004: école,  0.004: h,  0.003: classe,  0.003: nancy,  0.003: petits\n",
      "\n",
      "=== topic #20\n",
      "0.070: h,  0.021: 30,  0.010: 17,  0.008: 10,  0.008: 20,  0.007: 11,  0.007: 15,  0.007: 14,  0.006: 45,  0.005: 12\n",
      "\n",
      "=== topic #21\n",
      "0.007: 5,  0.006: c,  0.005: s,  0.004: plus,  0.004: 4,  0.004: bru,  0.004: 1,  0.003: sevran,  0.003: grand,  0.003: p\n",
      "\n",
      "=== topic #22\n",
      "0.007: place,  0.005: s,  0.005: c,  0.004: plus,  0.004: rue,  0.004: victoire,  0.003: dire,  0.002: maire,  0.002: ans,  0.002: alsace\n",
      "\n",
      "=== topic #23\n",
      "0.006: plus,  0.004: c,  0.004: s,  0.003: 1,  0.003: ans,  0.003: bien,  0.003: france,  0.003: maire,  0.003: championnats,  0.003: président\n",
      "\n",
      "=== topic #24\n",
      "0.005: nl,  0.005: c,  0.005: triathlon,  0.004: plus,  0.004: école,  0.003: 1h14,  0.003: formation,  0.003: bien,  0.003: s,  0.003: enfants\n",
      "\n",
      "=== topic #25\n",
      "0.010: 3,  0.009: asptt,  0.005: f,  0.004: 5,  0.004: dijon,  0.004: 19,  0.003: sarreguemines,  0.003: nancy,  0.003: plus,  0.003: c\n",
      "\n",
      "=== topic #26\n",
      "0.011: plus,  0.007: f,  0.007: s,  0.006: c,  0.003: 000,  0.003: nancy,  0.003: pierre,  0.003: jean,  0.003: saint,  0.003: ans\n",
      "\n",
      "=== topic #27\n",
      "0.022: h,  0.008: 16,  0.008: km,  0.008: s,  0.006: 15,  0.006: 14,  0.004: plus,  0.004: 1,  0.004: c,  0.004: 5\n",
      "\n",
      "=== topic #28\n",
      "0.013: h,  0.005: plus,  0.004: 30,  0.004: année,  0.004: 20,  0.004: 14,  0.004: s,  0.003: faut,  0.003: 15,  0.003: pompiers\n",
      "\n",
      "=== topic #29\n",
      "0.007: plus,  0.005: s,  0.005: c,  0.003: contre,  0.003: h,  0.002: 50,  0.002: toul,  0.002: bien,  0.002: partie,  0.002: place\n",
      "\n",
      "=== topic #30\n",
      "0.006: plus,  0.006: ans,  0.005: c,  0.004: s,  0.004: bresse,  0.004: enfants,  0.003: temps,  0.003: terre,  0.003: prix,  0.003: trois\n",
      "\n",
      "=== topic #31\n",
      "0.009: s,  0.006: plus,  0.006: nl,  0.006: c,  0.006: bien,  0.004: 1,  0.004: h,  0.004: 2,  0.003: 17,  0.003: 15\n",
      "\n",
      "=== topic #32\n",
      "0.006: plus,  0.004: h,  0.004: s,  0.004: beauny,  0.003: ans,  0.003: c,  0.003: celui,  0.003: dont,  0.003: jean,  0.003: f\n",
      "\n",
      "=== topic #33\n",
      "0.010: s,  0.005: c,  0.004: jean,  0.004: plus,  0.004: h,  0.003: partie,  0.003: tour,  0.003: ailleurs,  0.002: père,  0.002: boissons\n",
      "\n",
      "=== topic #34\n",
      "0.016: ind,  0.007: s,  0.006: p,  0.006: c,  0.004: plus,  0.004: f,  0.003: b,  0.003: 37,  0.003: 6,  0.003: joueurs\n",
      "\n",
      "=== topic #35\n",
      "0.006: s,  0.006: ind,  0.005: c,  0.005: entre,  0.003: hier,  0.003: année,  0.003: ans,  0.003: plus,  0.003: 30,  0.003: après\n",
      "\n",
      "=== topic #36\n",
      "0.004: ind,  0.004: centre,  0.004: plus,  0.004: enfants,  0.004: c,  0.003: 30,  0.003: maire,  0.003: autres,  0.003: rue,  0.002: savoir\n",
      "\n",
      "=== topic #37\n",
      "0.007: s,  0.006: plus,  0.004: h,  0.004: bien,  0.004: quelques,  0.002: temps,  0.002: enfants,  0.002: effet,  0.002: c,  0.002: entre\n",
      "\n",
      "=== topic #38\n",
      "0.009: h,  0.006: 2,  0.004: membres,  0.004: s,  0.004: 30,  0.004: plus,  0.003: club,  0.003: graphiste,  0.003: maire,  0.003: illustrateur\n",
      "\n",
      "=== topic #39\n",
      "0.005: 000,  0.004: s,  0.004: plus,  0.004: président,  0.003: france,  0.003: c,  0.003: ans,  0.003: 1,  0.003: département,  0.003: f\n",
      "\n",
      "=== topic #40\n",
      "0.008: s,  0.008: h,  0.008: c,  0.007: p,  0.004: r,  0.004: f,  0.003: après,  0.003: g,  0.002: entreprise,  0.002: monde\n",
      "\n",
      "=== topic #41\n",
      "0.007: 1,  0.005: 5,  0.004: s,  0.004: 49,  0.004: ans,  0.004: h,  0.004: moselle,  0.003: 51,  0.003: 2,  0.003: pixérécourt\n",
      "\n",
      "=== topic #42\n",
      "0.007: s,  0.007: f,  0.005: ans,  0.004: plus,  0.004: 4,  0.003: p,  0.003: 3,  0.003: alsace,  0.003: élèves,  0.003: grand\n",
      "\n",
      "=== topic #43\n",
      "0.033: h,  0.029: f,  0.008: 30,  0.008: 16,  0.007: 1,  0.006: 000,  0.006: 10,  0.005: 18,  0.005: 2,  0.004: 20\n",
      "\n",
      "=== topic #44\n",
      "0.032: 0,  0.014: 5,  0.006: s,  0.004: bien,  0.003: plus,  0.003: ans,  0.003: c,  0.003: ec,  0.003: club,  0.003: 2\n",
      "\n",
      "=== topic #45\n",
      "0.008: plus,  0.006: ans,  0.006: s,  0.004: 1,  0.004: c,  0.003: bien,  0.003: alstom,  0.003: abb,  0.003: jeunes,  0.003: faut\n",
      "\n",
      "=== topic #46\n",
      "0.006: plus,  0.004: s,  0.004: trois,  0.004: locaux,  0.004: bien,  0.003: équipes,  0.003: passe,  0.003: c,  0.003: lait,  0.003: km\n",
      "\n",
      "=== topic #47\n",
      "0.009: h,  0.006: plus,  0.005: enfants,  0.004: fêtes,  0.003: environnement,  0.003: 30,  0.003: f,  0.003: km,  0.003: s,  0.003: trois\n",
      "\n",
      "=== topic #48\n",
      "0.005: h,  0.004: s,  0.004: c,  0.004: jean,  0.003: saint,  0.003: service,  0.003: espace,  0.003: agent,  0.003: héricourt,  0.002: 1\n",
      "\n",
      "=== topic #49\n",
      "0.012: 2,  0.007: 3,  0.006: france,  0.005: s,  0.004: f,  0.004: c,  0.003: 15,  0.003: suisse,  0.003: ind,  0.003: plus\n",
      "\n",
      "=== topic #50\n",
      "0.004: kg,  0.003: s,  0.003: toutes,  0.003: public,  0.003: vache,  0.003: plus,  0.003: général,  0.002: hier,  0.002: juillet,  0.002: maire\n",
      "\n",
      "=== topic #51\n",
      "0.010: s,  0.007: plus,  0.004: c,  0.004: équipe,  0.004: hier,  0.004: gendarmerie,  0.003: saison,  0.003: club,  0.003: bien,  0.003: 4\n",
      "\n",
      "=== topic #52\n",
      "0.005: plus,  0.003: toujours,  0.003: bien,  0.003: déjà,  0.003: s,  0.003: jean,  0.002: c,  0.002: beaucoup,  0.002: également,  0.002: jeunes\n",
      "\n",
      "=== topic #53\n",
      "0.024: h,  0.011: rue,  0.009: 19,  0.007: juin,  0.005: 30,  0.004: 24,  0.003: samedi,  0.003: dimanche,  0.003: plus,  0.003: 17\n",
      "\n",
      "=== topic #54\n",
      "0.014: h,  0.011: tri,  0.007: plus,  0.006: 1,  0.005: 1er,  0.004: s,  0.004: f,  0.004: c,  0.004: 30,  0.003: s3\n",
      "\n",
      "=== topic #55\n",
      "0.012: plus,  0.007: 1,  0.007: s,  0.004: 2,  0.004: jeunes,  0.004: groupe,  0.003: après,  0.003: c,  0.003: partie,  0.003: temps\n",
      "\n",
      "=== topic #56\n",
      "0.007: c,  0.006: plus,  0.004: 5,  0.003: nancy,  0.003: s,  0.003: bien,  0.003: 0,  0.003: 2,  0.003: après,  0.003: contre\n",
      "\n",
      "=== topic #57\n",
      "0.009: h,  0.006: plus,  0.006: c,  0.004: f,  0.004: après,  0.003: s,  0.003: trois,  0.003: toujours,  0.003: bien,  0.003: déjà\n",
      "\n",
      "=== topic #58\n",
      "0.005: plus,  0.004: 000,  0.004: village,  0.003: jacqueline,  0.003: ans,  0.003: s,  0.003: 1,  0.003: c,  0.003: après,  0.003: georges\n",
      "\n",
      "=== topic #59\n",
      "0.006: plus,  0.005: h,  0.005: fête,  0.005: s,  0.004: c,  0.003: juillet,  0.003: puis,  0.003: 17,  0.002: nancy,  0.002: ans\n"
     ]
    }
   ],
   "source": [
    "for t in lda.show_topics(num_topics=num_topics, formatted=True, log = False):\n",
    "    print(\"\\n=== topic #{}\".format(t[0]))\n",
    "    print(t[1].replace('*', ': ').replace(' +',', ').replace('\"',''))"
   ]
  },
  {
   "cell_type": "code",
   "execution_count": null,
   "metadata": {},
   "outputs": [],
   "source": []
  },
  {
   "cell_type": "code",
   "execution_count": null,
   "metadata": {},
   "outputs": [],
   "source": []
  }
 ],
 "metadata": {
  "kernelspec": {
   "display_name": "Python 3",
   "language": "python",
   "name": "python3"
  },
  "language_info": {
   "codemirror_mode": {
    "name": "ipython",
    "version": 3
   },
   "file_extension": ".py",
   "mimetype": "text/x-python",
   "name": "python",
   "nbconvert_exporter": "python",
   "pygments_lexer": "ipython3",
   "version": "3.6.3"
  }
 },
 "nbformat": 4,
 "nbformat_minor": 2
}
