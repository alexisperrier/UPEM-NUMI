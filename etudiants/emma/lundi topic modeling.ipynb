{
 "cells": [
  {
   "cell_type": "code",
   "execution_count": 2,
   "metadata": {},
   "outputs": [],
   "source": [
    "a = 2+2"
   ]
  },
  {
   "cell_type": "code",
   "execution_count": 5,
   "metadata": {},
   "outputs": [],
   "source": [
    "import pandas as pd\n",
    "\n",
    "DATA_PATH = '../data/'\n",
    "filename  = 'estrepublicain_annee_1999.csv'\n",
    "\n",
    "df = pd.read_csv(DATA_PATH + filename)"
   ]
  },
  {
   "cell_type": "code",
   "execution_count": 15,
   "metadata": {},
   "outputs": [
    {
     "name": "stdout",
     "output_type": "stream",
     "text": [
      "                                                  text\n",
      "0    André Bauer, le Bonhomme de St-Dié ; Alain Dag...\n",
      "1    Le Smash Entente Club de Lunéville (SECL) a re...\n",
      "2    En tout cas, du côté du PS Dole qui reste en c...\n",
      "3    « Le nombre des donneurs était en légère baiss...\n",
      "4    ELOYES._ Les Ramoncenais n'auront tenu qu'une ...\n",
      "5    Heureusement, l'affaire ne relève en rien du t...\n",
      "6    Plus d'un Romarimontain sur deux, sans doute, ...\n",
      "7    BESANÇON._ « C'est non ». La voix de Pierre-Al...\n",
      "8    Une cinquantaine d'enfants de CE2, CM1 et CM2 ...\n",
      "9    Premiers à se lancer dans la course, les vétér...\n",
      "10   L'assemblée générale de Tricot Couture Service...\n",
      "11   Aux HLM, en revanche, on a le sourire. Les prê...\n",
      "12   Le début du mois a vu le départ d'un groupe d'...\n",
      "13   Les risques ? « Comme tout ce qui vole, les mo...\n",
      "14   « Je comprends l'impatience des supporters qui...\n",
      "15   Annie Humbert a remercié l'ensemble des associ...\n",
      "16   HDL est une association au service des collect...\n",
      "17   Pendant que les diplomates s'écharpent en Macé...\n",
      "18   L'équipe B disputera un match amical, le mardi...\n",
      "19   En 1990, un programme expérimental d'hygiène b...\n",
      "20   « Cette saison 98-99 a été l'année des jeunes ...\n",
      "21   OPPOSITION. Pour l'instant, le SLUC n'a rencon...\n",
      "22   Désireux de prendre sa revanche avec Dame coup...\n",
      "23   « Cette opération au Kosovo n'est pas une acti...\n",
      "24   Le contact se fait tout naturellement. Assis e...\n",
      "25   Dans notre édition de lundi, il était fait éta...\n",
      "26   - Je ne sais pas mais c'est quelqu'un qui a un...\n",
      "27   Avec l'Office du tourisme. De 11 h à 19 h, exc...\n",
      "28   Tournier en vitrine. Les collégiens qui passen...\n",
      "29   Le Franch Country festival a commencé sous d'e...\n",
      "..                                                 ...\n",
      "970  Caractérisées par une composition solide et un...\n",
      "971  L'homme qui a abusé de son innocence n'était a...\n",
      "972  « Ce qui lui est reproché ne saurait donc cons...\n",
      "973  A compter de la semaine prochaine, la sympathi...\n",
      "974  Une réunion du conseil municipal se tiendra le...\n",
      "975  Ce faisant, Jacques Chirac échappe aux reproch...\n",
      "976  La corporation met, également, le doigt sur le...\n",
      "977  Les 15 % de dénivellation recensés sur ces que...\n",
      "978  Jean-Pierre Monier orateur à la précision chir...\n",
      "979  Autant de recherches qui peuvent bénéficier de...\n",
      "980  Les « hostilités » ont démarré quand les comme...\n",
      "981  L'association Vie libre compte une centaine de...\n",
      "982  Egalement accessible aux VTT, ce très beau cir...\n",
      "983  « Notre recrutement basé sur des hommes d'expé...\n",
      "984  Ils sont au nombre de 33 pour ce 33e rendez-vo...\n",
      "985  C'est au début du XIIe siècle que Pierre-Percé...\n",
      "986  Un drôle d'attelage était présent dimanche lor...\n",
      "987  Ce même RPR, lui, se retrouvera du vendredi 27...\n",
      "988  Du côté municipal, on joue la transparence. Le...\n",
      "989  François Covini fait une rétrospective des anc...\n",
      "990  Le classement : 1. Miletto C./Dynamik (Nîmes) ...\n",
      "991  Le gouvernement chinois a annoncé hier une hau...\n",
      "992  Tout juste craint-il qu'on le cherche désormai...\n",
      "993  Les élus, qui se retrouvaient mardi soir au gr...\n",
      "994  6 h : journal-météo (R) ; 9 h : bloc-notes ; 1...\n",
      "995  La MJC organise en juillet et août des mini-ca...\n",
      "996  Dans chaque recoin, les discussions rivalisent...\n",
      "997  Jacques Toupin qui, l'an passé, avait choisi l...\n",
      "998  Quentin Schlosser, 20 ans nous donne son impre...\n",
      "999  La lutte contre les inondations, la protection...\n",
      "\n",
      "[1000 rows x 1 columns]\n",
      "                                                  text\n",
      "0    André Bauer, le Bonhomme de St-Dié ; Alain Dag...\n",
      "1    Le Smash Entente Club de Lunéville (SECL) a re...\n",
      "2    En tout cas, du côté du PS Dole qui reste en c...\n",
      "3    « Le nombre des donneurs était en légère baiss...\n",
      "4    ELOYES._ Les Ramoncenais n'auront tenu qu'une ...\n",
      "5    Heureusement, l'affaire ne relève en rien du t...\n",
      "6    Plus d'un Romarimontain sur deux, sans doute, ...\n",
      "7    BESANÇON._ « C'est non ». La voix de Pierre-Al...\n",
      "8    Une cinquantaine d'enfants de CE2, CM1 et CM2 ...\n",
      "9    Premiers à se lancer dans la course, les vétér...\n",
      "10   L'assemblée générale de Tricot Couture Service...\n",
      "11   Aux HLM, en revanche, on a le sourire. Les prê...\n",
      "12   Le début du mois a vu le départ d'un groupe d'...\n",
      "13   Les risques ? « Comme tout ce qui vole, les mo...\n",
      "14   « Je comprends l'impatience des supporters qui...\n",
      "15   Annie Humbert a remercié l'ensemble des associ...\n",
      "16   HDL est une association au service des collect...\n",
      "17   Pendant que les diplomates s'écharpent en Macé...\n",
      "18   L'équipe B disputera un match amical, le mardi...\n",
      "19   En 1990, un programme expérimental d'hygiène b...\n",
      "20   « Cette saison 98-99 a été l'année des jeunes ...\n",
      "21   OPPOSITION. Pour l'instant, le SLUC n'a rencon...\n",
      "22   Désireux de prendre sa revanche avec Dame coup...\n",
      "23   « Cette opération au Kosovo n'est pas une acti...\n",
      "24   Le contact se fait tout naturellement. Assis e...\n",
      "25   Dans notre édition de lundi, il était fait éta...\n",
      "26   - Je ne sais pas mais c'est quelqu'un qui a un...\n",
      "27   Avec l'Office du tourisme. De 11 h à 19 h, exc...\n",
      "28   Tournier en vitrine. Les collégiens qui passen...\n",
      "29   Le Franch Country festival a commencé sous d'e...\n",
      "..                                                 ...\n",
      "970  Caractérisées par une composition solide et un...\n",
      "971  L'homme qui a abusé de son innocence n'était a...\n",
      "972  « Ce qui lui est reproché ne saurait donc cons...\n",
      "973  A compter de la semaine prochaine, la sympathi...\n",
      "974  Une réunion du conseil municipal se tiendra le...\n",
      "975  Ce faisant, Jacques Chirac échappe aux reproch...\n",
      "976  La corporation met, également, le doigt sur le...\n",
      "977  Les 15 % de dénivellation recensés sur ces que...\n",
      "978  Jean-Pierre Monier orateur à la précision chir...\n",
      "979  Autant de recherches qui peuvent bénéficier de...\n",
      "980  Les « hostilités » ont démarré quand les comme...\n",
      "981  L'association Vie libre compte une centaine de...\n",
      "982  Egalement accessible aux VTT, ce très beau cir...\n",
      "983  « Notre recrutement basé sur des hommes d'expé...\n",
      "984  Ils sont au nombre de 33 pour ce 33e rendez-vo...\n",
      "985  C'est au début du XIIe siècle que Pierre-Percé...\n",
      "986  Un drôle d'attelage était présent dimanche lor...\n",
      "987  Ce même RPR, lui, se retrouvera du vendredi 27...\n",
      "988  Du côté municipal, on joue la transparence. Le...\n",
      "989  François Covini fait une rétrospective des anc...\n",
      "990  Le classement : 1. Miletto C./Dynamik (Nîmes) ...\n",
      "991  Le gouvernement chinois a annoncé hier une hau...\n",
      "992  Tout juste craint-il qu'on le cherche désormai...\n",
      "993  Les élus, qui se retrouvaient mardi soir au gr...\n",
      "994  6 h : journal-météo (R) ; 9 h : bloc-notes ; 1...\n",
      "995  La MJC organise en juillet et août des mini-ca...\n",
      "996  Dans chaque recoin, les discussions rivalisent...\n",
      "997  Jacques Toupin qui, l'an passé, avait choisi l...\n",
      "998  Quentin Schlosser, 20 ans nous donne son impre...\n",
      "999  La lutte contre les inondations, la protection...\n",
      "\n",
      "[1000 rows x 1 columns]\n"
     ]
    }
   ],
   "source": [
    "print(df)\n",
    "df = df[0:1000] #on ne prend que les 1000 premiers sinon script bug\n",
    "print(df)"
   ]
  },
  {
   "cell_type": "code",
   "execution_count": 21,
   "metadata": {},
   "outputs": [
    {
     "data": {
      "text/plain": [
       "Index(['text'], dtype='object')"
      ]
     },
     "execution_count": 21,
     "metadata": {},
     "output_type": "execute_result"
    }
   ],
   "source": [
    "print(df.shape) #dimension\n",
    "print(df.head()) #5 premières rangées\n",
    "print(df.columns) #nom des colonnes\n",
    "#manipuler les fichiers"
   ]
  },
  {
   "cell_type": "code",
   "execution_count": 24,
   "metadata": {},
   "outputs": [
    {
     "data": {
      "text/html": [
       "<div>\n",
       "<style scoped>\n",
       "    .dataframe tbody tr th:only-of-type {\n",
       "        vertical-align: middle;\n",
       "    }\n",
       "\n",
       "    .dataframe tbody tr th {\n",
       "        vertical-align: top;\n",
       "    }\n",
       "\n",
       "    .dataframe thead th {\n",
       "        text-align: right;\n",
       "    }\n",
       "</style>\n",
       "<table border=\"1\" class=\"dataframe\">\n",
       "  <thead>\n",
       "    <tr style=\"text-align: right;\">\n",
       "      <th></th>\n",
       "      <th>text</th>\n",
       "    </tr>\n",
       "  </thead>\n",
       "  <tbody>\n",
       "    <tr>\n",
       "      <th>0</th>\n",
       "      <td>André Bauer, le Bonhomme de St-Dié ; Alain Dag...</td>\n",
       "    </tr>\n",
       "    <tr>\n",
       "      <th>1</th>\n",
       "      <td>Le Smash Entente Club de Lunéville (SECL) a re...</td>\n",
       "    </tr>\n",
       "    <tr>\n",
       "      <th>2</th>\n",
       "      <td>En tout cas, du côté du PS Dole qui reste en c...</td>\n",
       "    </tr>\n",
       "    <tr>\n",
       "      <th>3</th>\n",
       "      <td>« Le nombre des donneurs était en légère baiss...</td>\n",
       "    </tr>\n",
       "    <tr>\n",
       "      <th>4</th>\n",
       "      <td>ELOYES._ Les Ramoncenais n'auront tenu qu'une ...</td>\n",
       "    </tr>\n",
       "  </tbody>\n",
       "</table>\n",
       "</div>"
      ],
      "text/plain": [
       "                                                text\n",
       "0  André Bauer, le Bonhomme de St-Dié ; Alain Dag...\n",
       "1  Le Smash Entente Club de Lunéville (SECL) a re...\n",
       "2  En tout cas, du côté du PS Dole qui reste en c...\n",
       "3  « Le nombre des donneurs était en légère baiss...\n",
       "4  ELOYES._ Les Ramoncenais n'auront tenu qu'une ..."
      ]
     },
     "execution_count": 24,
     "metadata": {},
     "output_type": "execute_result"
    }
   ],
   "source": [
    "df.head()"
   ]
  },
  {
   "cell_type": "code",
   "execution_count": 26,
   "metadata": {},
   "outputs": [
    {
     "name": "stdout",
     "output_type": "stream",
     "text": [
      "['les', 'médiateurs', 'confirment', '«', \"l'absence\", 'de', 'solution', 'parfaite', '»', '.']\n"
     ]
    }
   ],
   "source": [
    "# Tokenization\n",
    "from nltk import word_tokenize\n",
    "\n",
    "# La phrase\n",
    "sentence = \"les médiateurs confirment « l'absence de solution parfaite ». \"\n",
    "\n",
    "tokens = word_tokenize(sentence)\n",
    "\n",
    "print(tokens)\n",
    "tokens_on_space = sentence.split(' ')\n",
    "print(tokens_on_space)\n"
   ]
  },
  {
   "cell_type": "code",
   "execution_count": 65,
   "metadata": {},
   "outputs": [
    {
     "name": "stdout",
     "output_type": "stream",
     "text": [
      "Liste original de signe de ponctuations\n",
      "\t!\"#$%&'()*+,-./:;<=>?@[\\]^_`{|}~\n",
      "{'!': ' ', '\"': ' ', '#': ' ', '$': ' ', '%': ' ', '&': ' ', \"'\": ' ', '(': ' ', ')': ' ', '*': ' ', '+': ' ', ',': ' ', '-': ' ', '.': ' ', '/': ' ', ':': ' ', ';': ' ', '<': ' ', '=': ' ', '>': ' ', '?': ' ', '@': ' ', '[': ' ', '\\\\': ' ', ']': ' ', '^': ' ', '_': ' ', '`': ' ', '{': ' ', '|': ' ', '}': ' ', '~': ' ', '«': ' ', '»': ' '}\n",
      "les médiateurs confirment « l'absence de solution parfaite ». \n",
      "les médiateurs confirment   l absence de solution parfaite    \n"
     ]
    }
   ],
   "source": [
    "# ponctuation\n",
    "\n",
    "import string\n",
    "\n",
    "print(\"Liste original de signe de ponctuations\")\n",
    "print(\"\\t{}\".format(string.punctuation))\n",
    "\n",
    "sentence = \"les médiateurs confirment « l'absence de solution parfaite ». \"\n",
    "punctuation_chars = string.punctuation + \"«»\"\n",
    "\n",
    "#  Construction d'un dict { '~':' ', '$': ' ', ... }\n",
    "dict_ponctuation = {}\n",
    "for k in punctuation_chars:\n",
    "    dict_ponctuation[k] = ' '\n",
    "\n",
    "print(dict_ponctuation)\n",
    "\n",
    "# # L'operateur de translation\n",
    "translator = str.maketrans(dict_ponctuation)\n",
    "\n",
    "new_sentence = sentence.translate(translator)\n",
    "print(sentence)\n",
    "print(new_sentence)\n"
   ]
  },
  {
   "cell_type": "code",
   "execution_count": 66,
   "metadata": {},
   "outputs": [
    {
     "name": "stdout",
     "output_type": "stream",
     "text": [
      "['les', 'médiateurs', 'confirment', 'l', 'absence', 'de', 'solution', 'parfaite']\n",
      "['médiateurs', 'confirment', 'absence', 'solution', 'parfaite']\n"
     ]
    }
   ],
   "source": [
    "# stopwords\n",
    "tokens = word_tokenize(new_sentence)\n",
    "print(tokens)\n",
    "\n",
    "from nltk.corpus import stopwords\n",
    "\n",
    "\n",
    "# print(\"=== stopwords - français:\")\n",
    "# print(sorted(stopwords.words('french')))\n",
    "\n",
    "list_stopwords = stopwords.words('french') + ['les', 'de']\n",
    "\n",
    "# # equivalent:\n",
    "# stopwords = stopwords.words('french')\n",
    "# stopwords.append('les')\n",
    "# stopwords.append('de')\n",
    "\n",
    "\n",
    "# \n",
    "tokens_sans_stopwords = [w for w in tokens if (w not in list_stopwords) ]\n",
    "\n",
    "## Equivalent \n",
    "tokens_sans_stopwords = []\n",
    "for w in tokens:\n",
    "    if w not in list_stopwords:\n",
    "        tokens_sans_stopwords.append(w)\n",
    "\n",
    "\n",
    "\n",
    "print(tokens_sans_stopwords)\n"
   ]
  },
  {
   "cell_type": "code",
   "execution_count": 45,
   "metadata": {},
   "outputs": [
    {
     "name": "stdout",
     "output_type": "stream",
     "text": [
      "['les', 'médiateurs', 'confirment', 'l', 'absence', 'de', 'solution', 'parfaite', 'Et', 'ils', 'n', 'en', 'pensent', 'pas', 'moins']\n",
      "['médiateurs', 'confirment', 'absence', 'solution', 'parfaite', 'Et', 'ils', 'pensent', 'moins']\n"
     ]
    }
   ],
   "source": [
    "# stopwords\n",
    "tokens = word_tokenize(new_sentence)\n",
    "print(tokens)\n",
    "\n",
    "from nltk.corpus import stopwords\n",
    "\n",
    "\n",
    "# print(\"=== stopwords - français:\")\n",
    "# print(sorted(stopwords.words('french')))\n",
    "\n",
    "list_stopwords = stopwords.words('french') + ['les', 'de']\n",
    "\n",
    "# # equivalent:\n",
    "# stopwords = stopwords.words('french')\n",
    "# stopwords.append('les')\n",
    "# stopwords.append('de')\n",
    "\n",
    "\n",
    "# \n",
    "tokens_sans_stopwords = [w for w in tokens if (w not in list_stopwords) ]\n",
    "\n",
    "## Equivalent \n",
    "tokens_sans_stopwords = []\n",
    "for w in tokens:\n",
    "    if w not in list_stopwords:\n",
    "        tokens_sans_stopwords.append(w)\n",
    "\n",
    "\n",
    "\n",
    "print(tokens_sans_stopwords)\n"
   ]
  },
  {
   "cell_type": "code",
   "execution_count": 67,
   "metadata": {},
   "outputs": [
    {
     "data": {
      "text/html": [
       "<div>\n",
       "<style scoped>\n",
       "    .dataframe tbody tr th:only-of-type {\n",
       "        vertical-align: middle;\n",
       "    }\n",
       "\n",
       "    .dataframe tbody tr th {\n",
       "        vertical-align: top;\n",
       "    }\n",
       "\n",
       "    .dataframe thead th {\n",
       "        text-align: right;\n",
       "    }\n",
       "</style>\n",
       "<table border=\"1\" class=\"dataframe\">\n",
       "  <thead>\n",
       "    <tr style=\"text-align: right;\">\n",
       "      <th></th>\n",
       "      <th>text</th>\n",
       "      <th>text_no_punctuation</th>\n",
       "    </tr>\n",
       "  </thead>\n",
       "  <tbody>\n",
       "    <tr>\n",
       "      <th>0</th>\n",
       "      <td>André Bauer, le Bonhomme de St-Dié ; Alain Dag...</td>\n",
       "      <td>André Bauer  le Bonhomme de St Dié   Alain Dag...</td>\n",
       "    </tr>\n",
       "    <tr>\n",
       "      <th>1</th>\n",
       "      <td>Le Smash Entente Club de Lunéville (SECL) a re...</td>\n",
       "      <td>Le Smash Entente Club de Lunéville  SECL  a re...</td>\n",
       "    </tr>\n",
       "    <tr>\n",
       "      <th>2</th>\n",
       "      <td>En tout cas, du côté du PS Dole qui reste en c...</td>\n",
       "      <td>En tout cas  du côté du PS Dole qui reste en c...</td>\n",
       "    </tr>\n",
       "    <tr>\n",
       "      <th>3</th>\n",
       "      <td>« Le nombre des donneurs était en légère baiss...</td>\n",
       "      <td>Le nombre des donneurs était en légère baiss...</td>\n",
       "    </tr>\n",
       "    <tr>\n",
       "      <th>4</th>\n",
       "      <td>ELOYES._ Les Ramoncenais n'auront tenu qu'une ...</td>\n",
       "      <td>ELOYES   Les Ramoncenais n auront tenu qu une ...</td>\n",
       "    </tr>\n",
       "  </tbody>\n",
       "</table>\n",
       "</div>"
      ],
      "text/plain": [
       "                                                text  \\\n",
       "0  André Bauer, le Bonhomme de St-Dié ; Alain Dag...   \n",
       "1  Le Smash Entente Club de Lunéville (SECL) a re...   \n",
       "2  En tout cas, du côté du PS Dole qui reste en c...   \n",
       "3  « Le nombre des donneurs était en légère baiss...   \n",
       "4  ELOYES._ Les Ramoncenais n'auront tenu qu'une ...   \n",
       "\n",
       "                                 text_no_punctuation  \n",
       "0  André Bauer  le Bonhomme de St Dié   Alain Dag...  \n",
       "1  Le Smash Entente Club de Lunéville  SECL  a re...  \n",
       "2  En tout cas  du côté du PS Dole qui reste en c...  \n",
       "3    Le nombre des donneurs était en légère baiss...  \n",
       "4  ELOYES   Les Ramoncenais n auront tenu qu une ...  "
      ]
     },
     "execution_count": 67,
     "metadata": {},
     "output_type": "execute_result"
    }
   ],
   "source": [
    "#maintenant on refait les trois opérations pour les 1000 lignes \n",
    "\n",
    "\n",
    "df['text_no_punctuation'] = df.text.apply(lambda \n",
    "    r : ( r.translate(translator) ) \n",
    ")\n",
    "df.head()\n",
    "\n",
    "\n"
   ]
  },
  {
   "cell_type": "code",
   "execution_count": 68,
   "metadata": {},
   "outputs": [
    {
     "ename": "AttributeError",
     "evalue": "'DataFrame' object has no attribute 'tokens_all'",
     "output_type": "error",
     "traceback": [
      "\u001b[0;31m---------------------------------------------------------------------------\u001b[0m",
      "\u001b[0;31mAttributeError\u001b[0m                            Traceback (most recent call last)",
      "\u001b[0;32m<ipython-input-68-654b75bbdbed>\u001b[0m in \u001b[0;36m<module>\u001b[0;34m()\u001b[0m\n\u001b[1;32m      9\u001b[0m \u001b[0;31m# appliquer a la dataframe\u001b[0m\u001b[0;34m\u001b[0m\u001b[0;34m\u001b[0m\u001b[0m\n\u001b[1;32m     10\u001b[0m \u001b[0;34m\u001b[0m\u001b[0m\n\u001b[0;32m---> 11\u001b[0;31m df['tokens'] = df.tokens_all.apply(\n\u001b[0m\u001b[1;32m     12\u001b[0m     \u001b[0;32mlambda\u001b[0m \u001b[0mtks\u001b[0m \u001b[0;34m:\u001b[0m \u001b[0mremove_stopword\u001b[0m\u001b[0;34m(\u001b[0m\u001b[0mtks\u001b[0m\u001b[0;34m)\u001b[0m\u001b[0;34m\u001b[0m\u001b[0m\n\u001b[1;32m     13\u001b[0m )\n",
      "\u001b[0;32m~/miniconda3/lib/python3.6/site-packages/pandas/core/generic.py\u001b[0m in \u001b[0;36m__getattr__\u001b[0;34m(self, name)\u001b[0m\n\u001b[1;32m   3612\u001b[0m             \u001b[0;32mif\u001b[0m \u001b[0mname\u001b[0m \u001b[0;32min\u001b[0m \u001b[0mself\u001b[0m\u001b[0;34m.\u001b[0m\u001b[0m_info_axis\u001b[0m\u001b[0;34m:\u001b[0m\u001b[0;34m\u001b[0m\u001b[0m\n\u001b[1;32m   3613\u001b[0m                 \u001b[0;32mreturn\u001b[0m \u001b[0mself\u001b[0m\u001b[0;34m[\u001b[0m\u001b[0mname\u001b[0m\u001b[0;34m]\u001b[0m\u001b[0;34m\u001b[0m\u001b[0m\n\u001b[0;32m-> 3614\u001b[0;31m             \u001b[0;32mreturn\u001b[0m \u001b[0mobject\u001b[0m\u001b[0;34m.\u001b[0m\u001b[0m__getattribute__\u001b[0m\u001b[0;34m(\u001b[0m\u001b[0mself\u001b[0m\u001b[0;34m,\u001b[0m \u001b[0mname\u001b[0m\u001b[0;34m)\u001b[0m\u001b[0;34m\u001b[0m\u001b[0m\n\u001b[0m\u001b[1;32m   3615\u001b[0m \u001b[0;34m\u001b[0m\u001b[0m\n\u001b[1;32m   3616\u001b[0m     \u001b[0;32mdef\u001b[0m \u001b[0m__setattr__\u001b[0m\u001b[0;34m(\u001b[0m\u001b[0mself\u001b[0m\u001b[0;34m,\u001b[0m \u001b[0mname\u001b[0m\u001b[0;34m,\u001b[0m \u001b[0mvalue\u001b[0m\u001b[0;34m)\u001b[0m\u001b[0;34m:\u001b[0m\u001b[0;34m\u001b[0m\u001b[0m\n",
      "\u001b[0;31mAttributeError\u001b[0m: 'DataFrame' object has no attribute 'tokens_all'"
     ]
    }
   ],
   "source": [
    "# remove stopwords\n",
    "\n",
    "def remove_stopword(tokens):\n",
    "     return [w for w in tokens if (w not in list_stopwords) ]\n",
    "\n",
    "# Verifier que ca marche\n",
    "remove_stopword(tokens)\n",
    "\n",
    "# appliquer a la dataframe\n",
    "\n",
    "df['tokens'] = df.tokens_all.apply(\n",
    "    lambda tks : remove_stopword(tks) \n",
    ")\n",
    "\n",
    "df.head()"
   ]
  },
  {
   "cell_type": "code",
   "execution_count": null,
   "metadata": {},
   "outputs": [],
   "source": []
  }
 ],
 "metadata": {
  "kernelspec": {
   "display_name": "Python 3",
   "language": "python",
   "name": "python3"
  },
  "language_info": {
   "codemirror_mode": {
    "name": "ipython",
    "version": 3
   },
   "file_extension": ".py",
   "mimetype": "text/x-python",
   "name": "python",
   "nbconvert_exporter": "python",
   "pygments_lexer": "ipython3",
   "version": "3.6.3"
  }
 },
 "nbformat": 4,
 "nbformat_minor": 2
}
