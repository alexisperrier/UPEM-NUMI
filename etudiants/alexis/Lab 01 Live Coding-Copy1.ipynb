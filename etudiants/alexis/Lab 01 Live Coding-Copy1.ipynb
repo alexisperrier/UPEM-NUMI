{
 "cells": [
  {
   "cell_type": "code",
   "execution_count": 1,
   "metadata": {},
   "outputs": [
    {
     "name": "stdout",
     "output_type": "stream",
     "text": [
      "(15120, 1)\n"
     ]
    }
   ],
   "source": [
    "import pandas as pd\n",
    "\n",
    "DATA_PATH = '../data/'\n",
    "filename  = 'estrepublicain_annee_1999.csv'\n",
    "\n",
    "df = pd.read_csv(DATA_PATH + filename)\n",
    "# df = df[0:1000]\n",
    "\n",
    "# sampler \n",
    "\n",
    "df = df.sample(frac= 0.5)\n",
    "df.reset_index(inplace = True, drop = True)\n",
    "print(df.shape)"
   ]
  },
  {
   "cell_type": "code",
   "execution_count": 2,
   "metadata": {},
   "outputs": [
    {
     "name": "stdout",
     "output_type": "stream",
     "text": [
      "= dimensions\n",
      "(15120, 1)\n",
      "= 5 premieres rangés\n",
      "                                                text\n",
      "0  Contrat éducatif local : le maire informe le c...\n",
      "1  On reproche aux deux hommes de s'être livré à ...\n",
      "2  1. El Mezoued (Maroc) en 44'57 ; 2. Mendes (Fa...\n",
      "3  Les inscriptions à l'école municipale de musiq...\n",
      "4  D'autant que dans le cas précis, il est diffic...\n",
      "= Noms des colonnes\n",
      "Index(['text'], dtype='object')\n"
     ]
    }
   ],
   "source": [
    "df\n",
    "print(\"= dimensions\")\n",
    "print(df.shape)\n",
    "print(\"= 5 premieres rangés\")\n",
    "print(df.head())\n",
    "print(\"= Noms des colonnes\")\n",
    "print(df.columns)\n"
   ]
  },
  {
   "cell_type": "code",
   "execution_count": 3,
   "metadata": {},
   "outputs": [
    {
     "data": {
      "text/plain": [
       "Index(['paragraphe'], dtype='object')"
      ]
     },
     "execution_count": 3,
     "metadata": {},
     "output_type": "execute_result"
    }
   ],
   "source": [
    "# Changer le nom de la colonne\n",
    "df.columns = ['paragraphe']\n",
    "df.columns"
   ]
  },
  {
   "cell_type": "code",
   "execution_count": 4,
   "metadata": {},
   "outputs": [
    {
     "data": {
      "text/plain": [
       "Index(['text'], dtype='object')"
      ]
     },
     "execution_count": 4,
     "metadata": {},
     "output_type": "execute_result"
    }
   ],
   "source": [
    "# puis renommer colonne en 'text'\n",
    "\n",
    "df.columns = ['text']\n",
    "df.columns"
   ]
  },
  {
   "cell_type": "code",
   "execution_count": 5,
   "metadata": {},
   "outputs": [],
   "source": [
    "# Ne prendre que les 1000 premieres rangées\n",
    "\n",
    "# print(\"avant: {}\".format(df.shape))\n",
    "# df = df[0:1000]\n",
    "\n",
    "# print(\"apres: {}\".format(df.shape))\n",
    "\n"
   ]
  },
  {
   "cell_type": "code",
   "execution_count": 6,
   "metadata": {},
   "outputs": [
    {
     "name": "stdout",
     "output_type": "stream",
     "text": [
      "['les', 'médiateurs', 'confirment', '«', \"l'absence\", 'de', 'solution', 'parfaite', '»', '.']\n",
      "['les', 'médiateurs', 'confirment', '«', \"l'absence\", 'de', 'solution', 'parfaite', '».', '']\n"
     ]
    }
   ],
   "source": [
    "# Tokenization\n",
    "from nltk import word_tokenize\n",
    "\n",
    "# La phrase\n",
    "sentence = \"les médiateurs confirment « l'absence de solution parfaite ». \"\n",
    "\n",
    "tokens = word_tokenize(sentence)\n",
    "\n",
    "print(tokens)\n",
    "tokens_on_space = sentence.split(' ')\n",
    "print(tokens_on_space)\n"
   ]
  },
  {
   "cell_type": "code",
   "execution_count": 7,
   "metadata": {},
   "outputs": [
    {
     "name": "stdout",
     "output_type": "stream",
     "text": [
      "Liste original de signe de ponctuations\n",
      "\t!\"#$%&'()*+,-./:;<=>?@[\\]^_`{|}~\n",
      "{'!': ' ', '\"': ' ', '#': ' ', '$': ' ', '%': ' ', '&': ' ', \"'\": ' ', '(': ' ', ')': ' ', '*': ' ', '+': ' ', ',': ' ', '-': ' ', '.': ' ', '/': ' ', ':': ' ', ';': ' ', '<': ' ', '=': ' ', '>': ' ', '?': ' ', '@': ' ', '[': ' ', '\\\\': ' ', ']': ' ', '^': ' ', '_': ' ', '`': ' ', '{': ' ', '|': ' ', '}': ' ', '~': ' ', '«': ' ', '»': ' '}\n",
      "les médiateurs confirment « l'absence de solution parfaite ». \n",
      "les médiateurs confirment   l absence de solution parfaite    \n"
     ]
    }
   ],
   "source": [
    "# ponctuation\n",
    "\n",
    "import string\n",
    "\n",
    "print(\"Liste original de signe de ponctuations\")\n",
    "print(\"\\t{}\".format(string.punctuation))\n",
    "\n",
    "sentence = \"les médiateurs confirment « l'absence de solution parfaite ». \"\n",
    "punctuation_chars = string.punctuation + \"«»\"\n",
    "\n",
    "#  Construction d'un dict { '~':' ', '$': ' ', ... }\n",
    "dict_ponctuation = {}\n",
    "for k in punctuation_chars:\n",
    "    dict_ponctuation[k] = ' '\n",
    "\n",
    "print(dict_ponctuation)\n",
    "\n",
    "# # L'operateur de translation\n",
    "translator = str.maketrans(dict_ponctuation)\n",
    "\n",
    "new_sentence = sentence.translate(translator)\n",
    "print(sentence)\n",
    "print(new_sentence)\n"
   ]
  },
  {
   "cell_type": "code",
   "execution_count": 40,
   "metadata": {},
   "outputs": [
    {
     "name": "stdout",
     "output_type": "stream",
     "text": [
      "['les', 'médiateurs', 'confirment', 'l', 'absence', 'de', 'solution', 'parfaite']\n",
      "['médiateurs', 'confirment', 'absence', 'solution', 'parfaite']\n"
     ]
    }
   ],
   "source": [
    "# stopwords\n",
    "tokens = word_tokenize(new_sentence)\n",
    "print(tokens)\n",
    "\n",
    "from nltk.corpus import stopwords\n",
    "\n",
    "\n",
    "# print(\"=== stopwords - français:\")\n",
    "# print(sorted(stopwords.words('french')))\n",
    "\n",
    "# stopwords de nltk\n",
    "list_stopwords = stopwords.words('french') + ['les', 'de']\n",
    "\n",
    "# alternative\n",
    "from stop_words import get_stop_words\n",
    "list_stopwords = get_stop_words('fr')\n",
    "\n",
    "\n",
    "\n",
    "# # equivalent:\n",
    "# stopwords = stopwords.words('french')\n",
    "# stopwords.append('les')\n",
    "# stopwords.append('de')\n",
    "\n",
    "\n",
    "# \n",
    "tokens_sans_stopwords = [w for w in tokens if (w not in list_stopwords) ]\n",
    "\n",
    "## Equivalent \n",
    "tokens_sans_stopwords = []\n",
    "for w in tokens:\n",
    "    if w not in list_stopwords:\n",
    "        tokens_sans_stopwords.append(w)\n",
    "\n",
    "\n",
    "\n",
    "print(tokens_sans_stopwords)\n"
   ]
  },
  {
   "cell_type": "code",
   "execution_count": 9,
   "metadata": {},
   "outputs": [
    {
     "data": {
      "text/html": [
       "<div>\n",
       "<style scoped>\n",
       "    .dataframe tbody tr th:only-of-type {\n",
       "        vertical-align: middle;\n",
       "    }\n",
       "\n",
       "    .dataframe tbody tr th {\n",
       "        vertical-align: top;\n",
       "    }\n",
       "\n",
       "    .dataframe thead th {\n",
       "        text-align: right;\n",
       "    }\n",
       "</style>\n",
       "<table border=\"1\" class=\"dataframe\">\n",
       "  <thead>\n",
       "    <tr style=\"text-align: right;\">\n",
       "      <th></th>\n",
       "      <th>text</th>\n",
       "      <th>text_no_punctuation</th>\n",
       "    </tr>\n",
       "  </thead>\n",
       "  <tbody>\n",
       "    <tr>\n",
       "      <th>0</th>\n",
       "      <td>Contrat éducatif local : le maire informe le c...</td>\n",
       "      <td>Contrat éducatif local   le maire informe le c...</td>\n",
       "    </tr>\n",
       "    <tr>\n",
       "      <th>1</th>\n",
       "      <td>On reproche aux deux hommes de s'être livré à ...</td>\n",
       "      <td>On reproche aux deux hommes de s être livré à ...</td>\n",
       "    </tr>\n",
       "    <tr>\n",
       "      <th>2</th>\n",
       "      <td>1. El Mezoued (Maroc) en 44'57 ; 2. Mendes (Fa...</td>\n",
       "      <td>1  El Mezoued  Maroc  en 44 57   2  Mendes  Fa...</td>\n",
       "    </tr>\n",
       "    <tr>\n",
       "      <th>3</th>\n",
       "      <td>Les inscriptions à l'école municipale de musiq...</td>\n",
       "      <td>Les inscriptions à l école municipale de musiq...</td>\n",
       "    </tr>\n",
       "    <tr>\n",
       "      <th>4</th>\n",
       "      <td>D'autant que dans le cas précis, il est diffic...</td>\n",
       "      <td>D autant que dans le cas précis  il est diffic...</td>\n",
       "    </tr>\n",
       "  </tbody>\n",
       "</table>\n",
       "</div>"
      ],
      "text/plain": [
       "                                                text  \\\n",
       "0  Contrat éducatif local : le maire informe le c...   \n",
       "1  On reproche aux deux hommes de s'être livré à ...   \n",
       "2  1. El Mezoued (Maroc) en 44'57 ; 2. Mendes (Fa...   \n",
       "3  Les inscriptions à l'école municipale de musiq...   \n",
       "4  D'autant que dans le cas précis, il est diffic...   \n",
       "\n",
       "                                 text_no_punctuation  \n",
       "0  Contrat éducatif local   le maire informe le c...  \n",
       "1  On reproche aux deux hommes de s être livré à ...  \n",
       "2  1  El Mezoued  Maroc  en 44 57   2  Mendes  Fa...  \n",
       "3  Les inscriptions à l école municipale de musiq...  \n",
       "4  D autant que dans le cas précis  il est diffic...  "
      ]
     },
     "execution_count": 9,
     "metadata": {},
     "output_type": "execute_result"
    }
   ],
   "source": [
    "# Enlevons la ponctuation\n",
    "\n",
    "df['text_no_punctuation'] = df.text.apply(lambda \n",
    "    r : ( r.translate(translator) ) \n",
    ")\n",
    "df.head()\n",
    "\n"
   ]
  },
  {
   "cell_type": "code",
   "execution_count": 10,
   "metadata": {},
   "outputs": [
    {
     "data": {
      "text/html": [
       "<div>\n",
       "<style scoped>\n",
       "    .dataframe tbody tr th:only-of-type {\n",
       "        vertical-align: middle;\n",
       "    }\n",
       "\n",
       "    .dataframe tbody tr th {\n",
       "        vertical-align: top;\n",
       "    }\n",
       "\n",
       "    .dataframe thead th {\n",
       "        text-align: right;\n",
       "    }\n",
       "</style>\n",
       "<table border=\"1\" class=\"dataframe\">\n",
       "  <thead>\n",
       "    <tr style=\"text-align: right;\">\n",
       "      <th></th>\n",
       "      <th>text</th>\n",
       "      <th>text_no_punctuation</th>\n",
       "      <th>tokens_all</th>\n",
       "    </tr>\n",
       "  </thead>\n",
       "  <tbody>\n",
       "    <tr>\n",
       "      <th>0</th>\n",
       "      <td>Contrat éducatif local : le maire informe le c...</td>\n",
       "      <td>Contrat éducatif local   le maire informe le c...</td>\n",
       "      <td>[contrat, éducatif, local, le, maire, informe,...</td>\n",
       "    </tr>\n",
       "    <tr>\n",
       "      <th>1</th>\n",
       "      <td>On reproche aux deux hommes de s'être livré à ...</td>\n",
       "      <td>On reproche aux deux hommes de s être livré à ...</td>\n",
       "      <td>[on, reproche, aux, deux, hommes, de, s, être,...</td>\n",
       "    </tr>\n",
       "    <tr>\n",
       "      <th>2</th>\n",
       "      <td>1. El Mezoued (Maroc) en 44'57 ; 2. Mendes (Fa...</td>\n",
       "      <td>1  El Mezoued  Maroc  en 44 57   2  Mendes  Fa...</td>\n",
       "      <td>[1, el, mezoued, maroc, en, 44, 57, 2, mendes,...</td>\n",
       "    </tr>\n",
       "    <tr>\n",
       "      <th>3</th>\n",
       "      <td>Les inscriptions à l'école municipale de musiq...</td>\n",
       "      <td>Les inscriptions à l école municipale de musiq...</td>\n",
       "      <td>[les, inscriptions, à, l, école, municipale, d...</td>\n",
       "    </tr>\n",
       "    <tr>\n",
       "      <th>4</th>\n",
       "      <td>D'autant que dans le cas précis, il est diffic...</td>\n",
       "      <td>D autant que dans le cas précis  il est diffic...</td>\n",
       "      <td>[d, autant, que, dans, le, cas, précis, il, es...</td>\n",
       "    </tr>\n",
       "  </tbody>\n",
       "</table>\n",
       "</div>"
      ],
      "text/plain": [
       "                                                text  \\\n",
       "0  Contrat éducatif local : le maire informe le c...   \n",
       "1  On reproche aux deux hommes de s'être livré à ...   \n",
       "2  1. El Mezoued (Maroc) en 44'57 ; 2. Mendes (Fa...   \n",
       "3  Les inscriptions à l'école municipale de musiq...   \n",
       "4  D'autant que dans le cas précis, il est diffic...   \n",
       "\n",
       "                                 text_no_punctuation  \\\n",
       "0  Contrat éducatif local   le maire informe le c...   \n",
       "1  On reproche aux deux hommes de s être livré à ...   \n",
       "2  1  El Mezoued  Maroc  en 44 57   2  Mendes  Fa...   \n",
       "3  Les inscriptions à l école municipale de musiq...   \n",
       "4  D autant que dans le cas précis  il est diffic...   \n",
       "\n",
       "                                          tokens_all  \n",
       "0  [contrat, éducatif, local, le, maire, informe,...  \n",
       "1  [on, reproche, aux, deux, hommes, de, s, être,...  \n",
       "2  [1, el, mezoued, maroc, en, 44, 57, 2, mendes,...  \n",
       "3  [les, inscriptions, à, l, école, municipale, d...  \n",
       "4  [d, autant, que, dans, le, cas, précis, il, es...  "
      ]
     },
     "execution_count": 10,
     "metadata": {},
     "output_type": "execute_result"
    }
   ],
   "source": [
    "# Tokenizer\n",
    "\n",
    "df['tokens_all']  = df.text_no_punctuation.apply(\n",
    "    lambda r : word_tokenize(r.lower())\n",
    ")\n",
    "\n",
    "df.head()"
   ]
  },
  {
   "cell_type": "code",
   "execution_count": 11,
   "metadata": {},
   "outputs": [
    {
     "data": {
      "text/html": [
       "<div>\n",
       "<style scoped>\n",
       "    .dataframe tbody tr th:only-of-type {\n",
       "        vertical-align: middle;\n",
       "    }\n",
       "\n",
       "    .dataframe tbody tr th {\n",
       "        vertical-align: top;\n",
       "    }\n",
       "\n",
       "    .dataframe thead th {\n",
       "        text-align: right;\n",
       "    }\n",
       "</style>\n",
       "<table border=\"1\" class=\"dataframe\">\n",
       "  <thead>\n",
       "    <tr style=\"text-align: right;\">\n",
       "      <th></th>\n",
       "      <th>text</th>\n",
       "      <th>text_no_punctuation</th>\n",
       "      <th>tokens_all</th>\n",
       "      <th>tokens</th>\n",
       "    </tr>\n",
       "  </thead>\n",
       "  <tbody>\n",
       "    <tr>\n",
       "      <th>0</th>\n",
       "      <td>Contrat éducatif local : le maire informe le c...</td>\n",
       "      <td>Contrat éducatif local   le maire informe le c...</td>\n",
       "      <td>[contrat, éducatif, local, le, maire, informe,...</td>\n",
       "      <td>[contrat, éducatif, local, maire, informe, con...</td>\n",
       "    </tr>\n",
       "    <tr>\n",
       "      <th>1</th>\n",
       "      <td>On reproche aux deux hommes de s'être livré à ...</td>\n",
       "      <td>On reproche aux deux hommes de s être livré à ...</td>\n",
       "      <td>[on, reproche, aux, deux, hommes, de, s, être,...</td>\n",
       "      <td>[reproche, deux, hommes, être, livré, opératio...</td>\n",
       "    </tr>\n",
       "    <tr>\n",
       "      <th>2</th>\n",
       "      <td>1. El Mezoued (Maroc) en 44'57 ; 2. Mendes (Fa...</td>\n",
       "      <td>1  El Mezoued  Maroc  en 44 57   2  Mendes  Fa...</td>\n",
       "      <td>[1, el, mezoued, maroc, en, 44, 57, 2, mendes,...</td>\n",
       "      <td>[1, el, mezoued, maroc, 44, 57, 2, mendes, fav...</td>\n",
       "    </tr>\n",
       "    <tr>\n",
       "      <th>3</th>\n",
       "      <td>Les inscriptions à l'école municipale de musiq...</td>\n",
       "      <td>Les inscriptions à l école municipale de musiq...</td>\n",
       "      <td>[les, inscriptions, à, l, école, municipale, d...</td>\n",
       "      <td>[inscriptions, école, municipale, musique, lie...</td>\n",
       "    </tr>\n",
       "    <tr>\n",
       "      <th>4</th>\n",
       "      <td>D'autant que dans le cas précis, il est diffic...</td>\n",
       "      <td>D autant que dans le cas précis  il est diffic...</td>\n",
       "      <td>[d, autant, que, dans, le, cas, précis, il, es...</td>\n",
       "      <td>[autant, cas, précis, difficile, établir, a, e...</td>\n",
       "    </tr>\n",
       "  </tbody>\n",
       "</table>\n",
       "</div>"
      ],
      "text/plain": [
       "                                                text  \\\n",
       "0  Contrat éducatif local : le maire informe le c...   \n",
       "1  On reproche aux deux hommes de s'être livré à ...   \n",
       "2  1. El Mezoued (Maroc) en 44'57 ; 2. Mendes (Fa...   \n",
       "3  Les inscriptions à l'école municipale de musiq...   \n",
       "4  D'autant que dans le cas précis, il est diffic...   \n",
       "\n",
       "                                 text_no_punctuation  \\\n",
       "0  Contrat éducatif local   le maire informe le c...   \n",
       "1  On reproche aux deux hommes de s être livré à ...   \n",
       "2  1  El Mezoued  Maroc  en 44 57   2  Mendes  Fa...   \n",
       "3  Les inscriptions à l école municipale de musiq...   \n",
       "4  D autant que dans le cas précis  il est diffic...   \n",
       "\n",
       "                                          tokens_all  \\\n",
       "0  [contrat, éducatif, local, le, maire, informe,...   \n",
       "1  [on, reproche, aux, deux, hommes, de, s, être,...   \n",
       "2  [1, el, mezoued, maroc, en, 44, 57, 2, mendes,...   \n",
       "3  [les, inscriptions, à, l, école, municipale, d...   \n",
       "4  [d, autant, que, dans, le, cas, précis, il, es...   \n",
       "\n",
       "                                              tokens  \n",
       "0  [contrat, éducatif, local, maire, informe, con...  \n",
       "1  [reproche, deux, hommes, être, livré, opératio...  \n",
       "2  [1, el, mezoued, maroc, 44, 57, 2, mendes, fav...  \n",
       "3  [inscriptions, école, municipale, musique, lie...  \n",
       "4  [autant, cas, précis, difficile, établir, a, e...  "
      ]
     },
     "execution_count": 11,
     "metadata": {},
     "output_type": "execute_result"
    }
   ],
   "source": [
    "# remove stopwords\n",
    "\n",
    "def remove_stopword(tokens):\n",
    "     return [w for w in tokens if (w not in list_stopwords) ]\n",
    "\n",
    "# Verifier que ca marche\n",
    "remove_stopword(tokens)\n",
    "\n",
    "# appliquer a la dataframe\n",
    "\n",
    "df['tokens'] = df.tokens_all.apply(\n",
    "    lambda tks : remove_stopword(tks) \n",
    ")\n",
    "\n",
    "df.head()"
   ]
  },
  {
   "cell_type": "code",
   "execution_count": 12,
   "metadata": {},
   "outputs": [
    {
     "name": "stdout",
     "output_type": "stream",
     "text": [
      "Index(['text', 'text_no_punctuation', 'tokens_all', 'tokens'], dtype='object')\n",
      "Index(['text', 'tokens'], dtype='object')\n"
     ]
    }
   ],
   "source": [
    "# enlever les colonnes intermediaires\n",
    "\n",
    "print(df.columns)\n",
    "\n",
    "df = df[['text', 'tokens']]\n",
    "\n",
    "print(df.columns)\n"
   ]
  },
  {
   "cell_type": "code",
   "execution_count": 13,
   "metadata": {},
   "outputs": [
    {
     "name": "stdout",
     "output_type": "stream",
     "text": [
      "                                                text  \\\n",
      "0  Contrat éducatif local : le maire informe le c...   \n",
      "1  On reproche aux deux hommes de s'être livré à ...   \n",
      "2  1. El Mezoued (Maroc) en 44'57 ; 2. Mendes (Fa...   \n",
      "3  Les inscriptions à l'école municipale de musiq...   \n",
      "4  D'autant que dans le cas précis, il est diffic...   \n",
      "\n",
      "                                              tokens  token_count  \n",
      "0  [contrat, éducatif, local, maire, informe, con...           72  \n",
      "1  [reproche, deux, hommes, être, livré, opératio...           53  \n",
      "2  [1, el, mezoued, maroc, 44, 57, 2, mendes, fav...          278  \n",
      "3  [inscriptions, école, municipale, musique, lie...           68  \n",
      "4  [autant, cas, précis, difficile, établir, a, e...           53  \n"
     ]
    },
    {
     "data": {
      "text/plain": [
       "count    15120.000000\n",
       "mean        80.645238\n",
       "std         35.202579\n",
       "min         44.000000\n",
       "25%         64.000000\n",
       "50%         73.000000\n",
       "75%         86.000000\n",
       "max       1011.000000\n",
       "Name: token_count, dtype: float64"
      ]
     },
     "execution_count": 13,
     "metadata": {},
     "output_type": "execute_result"
    }
   ],
   "source": [
    "# nombre de tokens par rangée\n",
    "pd.options.mode.chained_assignment = None\n",
    "df['token_count'] = df.tokens.apply( lambda r : len(r) )\n",
    "\n",
    "print(df.head())\n",
    "\n",
    "# repartition du nombre de tokens\n",
    "df.token_count.describe()\n"
   ]
  },
  {
   "cell_type": "code",
   "execution_count": 14,
   "metadata": {
    "scrolled": true
   },
   "outputs": [
    {
     "name": "stdout",
     "output_type": "stream",
     "text": [
      "[ \"161. Brisset (CSA BA 133) ; 162. Tascone ; 163. Leroy (SNCF) ; 164. Cassin (Tomblaine) ; 165. Aubert (Frouard) ; 166. Pascaot ; 167. Lagrange (Messein) ; 168. Vermandé (Messein) ; 169. Rouyer (Commercy) ; 170. Chrisment (Nancy) ; 171. Lepeltier (Ecrouves) ; 172. Jacquot ; 173. Delery ; 174. Billy ; 175. Lamy ; 176. Charpentier (Ludres) ; 177. Tousch (Gondrecourt) ; 178. Carbillet (La Poste) ; 179. Brunot (Philips) ; 180. Benyoussef ; 181. Starosse (Allamps) ; 182. Seiler (Vandoeuvre) ; 183.Discristofano ; 184. Fossard (Vandoeuvre) ; 185. Boyer ; 186. Leroy ; 187. Carreiras (Golbey) ; 188. Evrard ; 189. Vagne (CSA BA 133) ; 190. Georges (Tomblaine) ; 191. Aubert (Maidières) ; 192. Leroux ; 193. Geoffroy ; 194. Clausse (Chaudenay) ; 195. Deuze (Villers) ; 196. P. Knapek (Ecrouves) ; 197. F. Kanpek (Toul) ; 198. Noël ; 199. Maire (Varangéville) ; 200. Mercky ; 201. Gaumer ; 202. Vincent (Sommerviller) ; 203. Socha (Aingeray) ; 204. Boulot (Blénod) ; 205. Houin (Amicale CHU) ; 206. Borgniet (Jarville) ; 207. Cazzulani (Bulligny) ; 208. Parisot (Lenoncourt) ; 209. Baron (Gondreville) ; 210. Marchal . 211. Ingret (Essey-lès-Nancy) ; 212. Leonardi (Saizerais) ; 213. Bar (St-Max) ; 214. Labarbe (Nancy) ; 215. Picart (Villers) ; 216. Pageot (Essey-lès-Nancy) ; 217. Guillou (Art-sur-Meurthe) ; 218. Bourgeois (Gondrecourt) ; 219. Sutter (Maxéville) ; 220. Marchi (Vandoeuvre) ; 221. Gonthier ; 222. Girardi ; 223. Heckel (Maxéville) ; 224. Lee (Philips) ; 225. Compagnon (Richardménil) ; 226. Obeltz (Gars Val Cross) ; 227. Othelet (Tantonville) ; 228. Kovac (Pexonne) ; 229. T. Godfroy ; 230. Barin . 231. Payeur (Chaudenay) ; 232. Baraud (Thierville) ; 233. Pochit ; 234. Antoine ; 235. Peiffer (Chaudenay) ; 236. R. Deloy (Nomexy) ; 237. G. Deloy ; 238. Milbach ; 239. Andre (Benney) ; 240. Petitjean ; 241. Perrin (Lunéville) ; 242. Pernel (Blénod) ; 243. Ferreira ; 244. Alfieri (Laneuveville) ; 245. Hutinet ; 246. Defente (Blénod) ; 247. Villaume ; 248. Gérard (Nves-Maisons) ; 249. Payeur (Commercy) ; 250. Bournon ; 251. Collet (Philips) ; 252. Ludmann (Hériménil) ; 253. Vallance (Goviller) ; 254. Belin (Vandoeuvre) ; 255. Verd ; 256. Renard . 257. Bastien ; 258. Hincelin ; 259. Roger (Essey-lès-Nancy) ; 260. Rakotoarison (St-Max) ; 261. Deshayes (CSA BA 133) ; 262. Debias ; 263. Mouillé (Tomblaine) ; 264. Remy (Nancy) ; 265. Baechler (Dombasle) ; 266. Maillet ; 267. Saint Jours ; 268. Pierre (Blénod) ; 269. Morisot . 270. Serveur (Essey-lès-Nancy) ; 271. Fritz ; 272. Mangenot ; 273. Butin (Toul) ; 274. J. Etienne ; 275. D. Etienne ; 276. Mathis ; 277. Boyer (Gondrecourt) ; 278. Mandra (Gars Val Cross) ; 279. Belhote (Pulnoy) ; 280. Alison (Nimes) ; 281. Liegey (Varangéville) ; 282. Pierrat (Spiridon Club) ; 283. Humbert (Seichamps) ; 284. Back (Bouzonville) ; 285. Dewitte ; 286. Philippe (Thiébauménil) ; 287. Boyer ; 288. Durand (Houdemont) ; 289. Thieblemont ; 290. Baumann (Boncourt) ; 291. Tabouret (Toul) ; 292. Husson (Blénod) ; 293. Emmanuel (Damelevieres) ; 294. Pernot ; 295. Schwoerer (Nancy) ; 296. Sitz (Dieulouard) ; 297. Chuste ; 298. Laithier (Nancy) ; 299. Abscheidt ; 300. Pagliarela (Philips) ; 301. Tardy (Golbey) ; 302. Koffolt (Vincey) ; 303. Chassatte (Dombasle) ; 304. Vaxelaire ; 305. Robert (Nancy) ; 306. Chretien (Villers) ; 307. Paulin (Belleville) ; 308. Morville (Villers) ; 309. Ziegler (Bataville) ; 310. Morville (Gondrecourt) ; 311. Nowakowski (SNCF) ; 312. Fourar (Vandoeuvre) ; 313. Osiewiez (Energ.Pavois) ; 314. Dominiak (Vandoeuvre) ; 315. Ricatte (Lunéville) ; 316. Faltot (Lunéville) ; 317. Candat ; 318. Bardot (Lunéville) ; 319. Martin . 320. Ferry ; 321. Mathieu (Nancy) ; 322. Chenin ; 323. Geoffroy (AFPA) ; 324. Filliot (AFPA) ; 325. Grapinet ; 326. Pelon (Laquenexy) ; 327. Tournoy (Laneuveville) ; 328. Picazo ; 329. Poirot (Velaine-en-Haye) ; 330. Lostetier ; 331. Zamboni (Varangéville) ; 332. Denat ; 333. Charpentier (Ludres) ; 334. Michel ; 335. Dolveck (Blénod) ; 336. Buchi ; 337. Berteaux ; 338. Legast (Chaudenay) ; 339. Pawlowski (Dieulouard) ; 340. Reinhard (Langley) ; 341. Moine (Heillecourt) ; 342. Carpentier (SNCF) ; 343. Liegeois (Ars-sur-Moselle) ; 344. Gousse (Villers) ; 345. Poinsard (Lunéville) ; 346. Dimarcq ; 347. Blaise (Blénod) ; 348. Desgranges (Gondreville) ; 349. Falchetto ; 350. Flament (Méréville) ; 351. Heloir (Messein) ; 352. Arson (Gars Val Cross) ; 353. Richard (Einvaux) ; 354. Mercier (Rosières-aux-Salines) ; 355. Pernossi (Alstom Moteurs) ; 356. Poncet (Vincey) ; 357. Wolfarth (Malleloy) ; 358. Toldre (Laneuveville) ; 359. Touillet (Nancy) ; 360. Brice (Spiridon Club) ; 361. Seyer (Metz) ; 362. Mauclair (Lunéville) ; 363. Bourtembourg (Saulxures-lès-Nancy) ; 364. Gallois ; 365. Leroy (Blénod) ; 366. Schneider (Pagny-sur-Moselle) ; 367. Pierre (Mont-sur-Meurthe) ; 368. Vachon . 369. Lorphelin (Laneuville) ; 370. Thil ; 371. Lafont (Nancy) ; 372. Lunéville) ; 373. Martinez (La Poste) ; 374. Drahon (Toul) ; 375. Cuny (Gars Val Cross) ; 376. Rousseau (Malzéville) ; 377. Vernay (PAM) ; 378. Borgniet (Jarville) ; 379. Caballero (Ecrouves) ; 380. Hacquard (Champigneulles) ; 381. Remy (Neuves-Maisons) ; 382. Ingret (Essey-lès-Nancy) ; 383. Liegeois (Ars-sur-Moselle) ; 384. Thivet . 385. Deutzer (Philips) ; 386. Zminka (Toul) ; 387. François (Energ.Pavois) ; 388. Charrue (Paris) ; 389. Mercier (Bouxières) ; 390. Leclere ; 391. Bourguignon (Blainville) ; 392. Durand (Gars Val Cross) ; 393. Maron (Custines) ; 394. Huttier ; 395. Hesse (Bicquelet) ; 396. Moine (Heillecourt) ; 397. Boul ; 398. Evezard ; 399. Charpentier (Ludres) ; 400. Melich ; 401. Allard ; 402. Richard ; 403. Steck (Lucey) ; 404. Flament (Richardménil) ; 405. Genot (Heillecourt) ; 406. Mougel (Ludres) ; 407. Richard (Sports Loisirs) ; 408. Baillot ; 409. S. Bour (Heillecourt) ; 410. A. Bour (Heillecourt) ; 411. Lance ; 412. Melchior (Laxou) ; 413. Haut (Metz) ; 414. Bruant (Tomblaine) ; 415. Barbette ; 416. Chassatte (Dombasle) ; 417. Joublin ; 418. Liegey (Varangéville) ; 419. Marchal ; 420. Henard ; 421. Mouchet (Sport Loisirs) ; 422. Stephan (Pulnoy) ; 423. Gauchey (Dommartin-lès-Toul) ; 424. Geoffroy ; 425. Gallois (Maxéville) ; 426. Chapelle (Golbey) ; 427. Serveur (Essey-lès-Ncy) ; 428. Piazuelo (Toul) ; 429. Arson (Gars Val Cross) ; 430. Sitz (Dieulouard) ; 431. Poinsignon (Seichamps) ; 432. Thirion ; 433. Larbaletrier (Malzéville) ; 434. Desloges (Blénod) ; 435. Pelte (Réméréville) ; 436. Simon ; 437. Keniche (Nancy) ; 438. Othelet ; 439. Marchal ; 440. Belin (Vandoeuvre) ; 441. Carpentier (SNCF) ; 442. Heloir (Messein) ; 443. Borgniet (Laneuveville) ; 444. L'Huillier ; 445. Boes (Menaucourt) ; 446. Morlon (Jarville) ; 447. Dieudonne (Varangéville) ; 448. Prignot (Villers-lès-Ncy) ; 449. Ihry (Neuves-Maisons) ; 450. Lottin (Laferte-sur-Am.) ; 451. Lotto ; 452. Durand (Gars Val Cross) ; 453. C. Larbaletrier (CHU Nancy) ; 454. Mathis (Rosières-aux-Salines) ; 455. Schatzbe ; 456. Dannequin ; 457. Cael ; 458. Genelot ; 459. Rahnena (Ludres) ; 460. Montovani ; 461. Philippot ; 462. Schertz ; 463. Barozzi (Nancy) ; 464. Simon (Seichamps) ; 465. Heinrich ; 466. Deny (Neuves-Maisons) ; 467. Varnerot (Dommartin-lès-Toul) ; 468. Deveze ; 469. Bicquelet ; 470. Haut (Metz) ; 471. Rouyer (AFPA) ; 472. Pierot (Sport Loisir) ; 473. Legroux (AFPA) ; 474. Voitot (Toul) ; 475. Fourcaulx (Fléville) ; 476. Dubail (Neugartheim) ; 477. G. Dannequin ; 478. D. Bicquelet ; 479. Martin ; 480. Durand (Gars Val Cross) ; 481. Tekieli (Rosières-aux-Salines) ; 482. Marc (Ars-sur-Moselle) ; 483. Thivet ; 484. Gauchey (Dommartin-lès-Toul) ; 485. Genelot ; 486. Picot (Jarville) ; 487. Moriset.\"]\n"
     ]
    }
   ],
   "source": [
    "# quel document a 955 tokens?\n",
    "\n",
    "condition = (df.token_count == 955)\n",
    "print(df[condition].text.values)\n",
    "\n",
    "\n"
   ]
  },
  {
   "cell_type": "code",
   "execution_count": 15,
   "metadata": {},
   "outputs": [
    {
     "name": "stdout",
     "output_type": "stream",
     "text": [
      "Int64Index([13863], dtype='int64')\n",
      "(15116, 3)\n"
     ]
    }
   ],
   "source": [
    "# quel index\n",
    "print(df[condition].index)\n",
    "\n",
    "# \n",
    "condition = (df.token_count < 800)\n",
    "print(df[condition].shape)\n"
   ]
  },
  {
   "cell_type": "code",
   "execution_count": 16,
   "metadata": {},
   "outputs": [
    {
     "name": "stdout",
     "output_type": "stream",
     "text": [
      "(15118, 3)\n",
      "(15118, 3)\n",
      "count    15118.000000\n",
      "mean        80.525863\n",
      "std         33.638400\n",
      "min         44.000000\n",
      "25%         64.000000\n",
      "50%         73.000000\n",
      "75%         86.000000\n",
      "max        949.000000\n",
      "Name: token_count, dtype: float64\n"
     ]
    },
    {
     "name": "stderr",
     "output_type": "stream",
     "text": [
      "/home/alexis/miniconda3/lib/python3.6/site-packages/ipykernel_launcher.py:7: UserWarning: Boolean Series key will be reindexed to match DataFrame index.\n",
      "  import sys\n"
     ]
    }
   ],
   "source": [
    "# enlever le paragraphe le plus long\n",
    "\n",
    "condition_filtrage = df.token_count < 955\n",
    "print(df[condition_filtrage].shape)\n",
    "\n",
    "df = df[condition_filtrage]\n",
    "print(df[condition_filtrage].shape)\n",
    "\n",
    "print(df.token_count.describe())\n"
   ]
  },
  {
   "cell_type": "code",
   "execution_count": 17,
   "metadata": {},
   "outputs": [
    {
     "name": "stdout",
     "output_type": "stream",
     "text": [
      "Dictionary(81995 unique tokens: ['contrat', 'éducatif', 'local', 'maire', 'informe']...)\n"
     ]
    }
   ],
   "source": [
    "# Gensim - Vocabulaire\n",
    "\n",
    "from gensim import corpora, models\n",
    "dictionary  = corpora.Dictionary(df.tokens)\n",
    "print(dictionary)\n"
   ]
  },
  {
   "cell_type": "code",
   "execution_count": 18,
   "metadata": {},
   "outputs": [
    {
     "name": "stdout",
     "output_type": "stream",
     "text": [
      "[[ \"Contrat éducatif local : le maire informe le conseil municipal, qu'il a été contacté par les services de la Direction départementale de la jeunesse et loisirs, qui propose à la commune, sur la base des actions déjà menées pour les enfants et les adolescents sur la commune, d'élaborer un projet de contrat éducatif local. Ce contrat propose de renforcer le partenariat entre les associations locales, l'Etat, Jeunesse et sports, Education nationale et la commune, d'améliorer la coordination des interventions vers les jeunes, afin de favoriser la réussite scolaire, la citoyenneté, l'autonomie, la responsabilité et l'intégration des enfants et des jeunes. Enfin, il permet l'attribution de moyens supplémentaires. Après débat, le conseil municipal, à l'unanimité, autorise le maire à poursuivre le montage de ce projet avec la DDJS.\"\n",
      "  list([(0, 3), (1, 2), (2, 2), (3, 2), (4, 1), (5, 2), (6, 2), (7, 1), (8, 1), (9, 1), (10, 1), (11, 1), (12, 2), (13, 1), (14, 2), (15, 3), (16, 1), (17, 1), (18, 1), (19, 1), (20, 2), (21, 1), (22, 1), (23, 2), (24, 1), (25, 1), (26, 1), (27, 1), (28, 1), (29, 1), (30, 1), (31, 1), (32, 1), (33, 1), (34, 1), (35, 1), (36, 1), (37, 2), (38, 1), (39, 1), (40, 1), (41, 1), (42, 1), (43, 1), (44, 1), (45, 1), (46, 1), (47, 1), (48, 1), (49, 1), (50, 1), (51, 1), (52, 1), (53, 1), (54, 1), (55, 1), (56, 1), (57, 1)])]\n",
      " [ \"On reproche aux deux hommes de s'être livré à une opération commando. C'était samedi dans l'une des entrées du Cèdre Bleu. Surprenant la victime à son domicile, en compagnie de son amie, l'un des auteurs présumés l'a assommé avec une bouteille. Lui tailladant le corps avec un rasoir, il l'a entièrement déshabillé, avec l'aide de son acolyte. Avant de l'abandonner nu et ensanglanté dans l'escalier. « Ce genre de règlement de compte est intolérable », estime le substitut Olivier Bray qui requiert le maintien en détention. Pour la défense, « les circonstances de la rixe restent floues. Il ne s'agit pas d'une expédition punitive ».\"\n",
      "  list([(7, 2), (58, 1), (59, 1), (60, 1), (61, 1), (62, 1), (63, 1), (64, 1), (65, 1), (66, 1), (67, 1), (68, 1), (69, 1), (70, 1), (71, 1), (72, 1), (73, 1), (74, 1), (75, 1), (76, 1), (77, 1), (78, 1), (79, 1), (80, 1), (81, 1), (82, 1), (83, 1), (84, 1), (85, 1), (86, 1), (87, 1), (88, 1), (89, 1), (90, 1), (91, 1), (92, 1), (93, 1), (94, 1), (95, 1), (96, 1), (97, 1), (98, 1), (99, 1), (100, 1), (101, 1), (102, 1), (103, 1), (104, 1), (105, 1), (106, 1), (107, 1), (108, 1)])]\n",
      " [ \"1. El Mezoued (Maroc) en 44'57 ; 2. Mendes (Faverney) à 15 ; 3. Faveaux (Belgique) à 48 ; 4. Fomine (Russie) à 2'05 ; 5. Konstantinov (Russie) à 2'31 ; 6. Ribeiro (Pt Vaux) à 2'42 ; 7. Moissonnier (Saint-Claude) à 2'46 ; 8. Ermatchev (Russie) à 3'36 ; 9. Demolombe (AC Chenove) à 4'27 ; 10. Lacroix (Morbier à 4'55 ; 11. Leroux (Epinal) à 4'57 ; 12. Peluret (Esclops d'Azun) à 5'18 ; 13. Grifford (Morbier) à 5'58 : 14. Roguet (SC Premanon) à 6'28 ; 15. Oppliger (Suisse) à 6'28 ; 16. Scneider (Pontarlier Triathlon) à 7'00 ; 17. Guillemin (DSA) à 7'44 ; 18. Cristiano (Footing Vallée Joux) à 7'45 ; 19. Schumacher (Team Oberive) à 7'56 ; 20. Baverel (ASMB) à 8'05 ; 21. Rousselet (Olympic Mont d'or) à 8'11 ; 22. Conti (Bois d'Amont) à 8'20 ; 23. Verjus (Saint-Pierre) à 8'35 ; 24. Glannaz (Foulée d'Annemasse) à 8'59 ; 25. Roy (CSRP) à 9'04 ; 26. Baud (Douanes Pontarlier) à 9'15 ; 27. Jeannerod (ASOP) à 9'29 ; 28. Henry (Mamirolle) à 9'48 ; 29. Marquier (Septfontaines) à 10'06 : 30. Tatu (Damprichard) à 10'11 ; 31. Loye (Besançon) à 10'29 ; 32. Vuillemin (Cessay) à 10'36 ; 33. Lanquetin (Olympe Mont d'Or) à 10'58 ; 34. Chapuis (ASEFT Bugey) à 11'03 : 35. Mazeau (AC Talant) à 11'07 ; 36. Trachsel (SC Mont Noir) à 11'09 ; 37. Romanzini (La Rivière Drugeon) à 11'36 ; 38. Minary (SCV Morteau) à 11'56 ; 39. Bailly Comte (RCHJà) à 12'18 ; 40. Ferrand (Montot) à 12'20 ; 41. Daloz (CAF Besançon) à 12'28 ; 42. Racle (Pontarlier) à 12'30 ; 43. Burri (Le Latet à 12'33 ; 44. Bouillet (SC Chaux Dombief) à 12'36 ; 45. Grenouillet (VALMA Morteau) à 12'52 ; 46. Panisset (RCHJ) à 12'54 ; 47. Demolombe (Dijonà à 12'57 ; 48. Faivre (Pontarlier) à 13'21 ; 49. Valy (AS Peugeot Vesoul) à 13'23 ; 50. Drezet (Hauterive) à 13'31.\"\n",
      "  list([(109, 1), (110, 1), (111, 1), (112, 1), (113, 3), (114, 3), (115, 5), (116, 1), (117, 1), (118, 3), (119, 2), (120, 1), (121, 1), (122, 3), (123, 4), (124, 1), (125, 3), (126, 2), (127, 3), (128, 1), (129, 3), (130, 3), (131, 1), (132, 1), (133, 1), (134, 2), (135, 5), (136, 1), (137, 2), (138, 1), (139, 2), (140, 6), (141, 1), (142, 5), (143, 5), (144, 2), (145, 2), (146, 1), (147, 2), (148, 6), (149, 1), (150, 2), (151, 1), (152, 8), (153, 1), (154, 1), (155, 10), (156, 1), (157, 1), (158, 1), (159, 3), (160, 4), (161, 1), (162, 2), (163, 1), (164, 1), (165, 3), (166, 1), (167, 4), (168, 1), (169, 1), (170, 1), (171, 1), (172, 4), (173, 1), (174, 1), (175, 1), (176, 1), (177, 1), (178, 1), (179, 1), (180, 1), (181, 1), (182, 2), (183, 1), (184, 1), (185, 1), (186, 1), (187, 2), (188, 3), (189, 1), (190, 1), (191, 2), (192, 1), (193, 1), (194, 3), (195, 2), (196, 1), (197, 1), (198, 1), (199, 1), (200, 2), (201, 1), (202, 1), (203, 2), (204, 1), (205, 1), (206, 1), (207, 1), (208, 1), (209, 1), (210, 1), (211, 1), (212, 1), (213, 1), (214, 1), (215, 1), (216, 1), (217, 1), (218, 3), (219, 1), (220, 1), (221, 1), (222, 1), (223, 1), (224, 2), (225, 1), (226, 1), (227, 1), (228, 2), (229, 1), (230, 1), (231, 1), (232, 2), (233, 1), (234, 1), (235, 1), (236, 1), (237, 1), (238, 1), (239, 1), (240, 1), (241, 1), (242, 1), (243, 1), (244, 1), (245, 1), (246, 1), (247, 1), (248, 1), (249, 1), (250, 1), (251, 1), (252, 1), (253, 2), (254, 1), (255, 1), (256, 1), (257, 1), (258, 1), (259, 1), (260, 1), (261, 1), (262, 1), (263, 1), (264, 1), (265, 1), (266, 1), (267, 1), (268, 1), (269, 1), (270, 1), (271, 1), (272, 1), (273, 1), (274, 1), (275, 1), (276, 1), (277, 1), (278, 1), (279, 1), (280, 1), (281, 1), (282, 1), (283, 1), (284, 1), (285, 1), (286, 1)])]\n",
      " [ \"Les inscriptions à l'école municipale de musique auront lieu jeudi 23 de 18 h à 19 h pour la batterie, samedi 25 de 14 h à 16 h pour la flûte traversière, mardi 28 de 17 h à 18 h 30 pour la musique informatique et le piano, mardi 28 de 18 h à 19 h pour la flûte à bec, le clavier, l'orgue, l'harmonie contrepoint ; mardi 28 de 18 h 30 à 19 h 30 pour la clarinette et le saxophone ; jeudi 30 de 17 h 30 à 18 h 30 pour la trompette, jeudi 30 de 18 h à 19 h pour la guitare.\"\n",
      "  list([(65, 1), (159, 6), (163, 1), (167, 3), (170, 1), (175, 2), (183, 4), (200, 1), (209, 1), (224, 7), (287, 1), (288, 1), (289, 1), (290, 2), (291, 1), (292, 3), (293, 14), (294, 1), (295, 2), (296, 1), (297, 3), (298, 1), (299, 1), (300, 1), (301, 1), (302, 1), (303, 1), (304, 1), (305, 1), (306, 1), (307, 1), (308, 1)])]\n",
      " [ \"D'autant que dans le cas précis, il est difficile d'établir s'il y a eu effectivement démarchage (qui ouvre droit à un délai de rétraction de 7 jours) au regard de la loi. « Pour qu'il y ait eu démarchage - c'est à dire hors point de vente, que ce soit à domicile, dans la rue, ou par téléphone - il faut qu'il y ait eu sollicitation personnalisée. Tout le problème est de savoir si des juges considérerait que c'est le cas. Car souvent les cadeaux donnent lieu à confirmation par écrit » Ce qui n'a pas eu lieu. La visite à l'officine relève-t-elle alors d'une vente classique ou effectivement d'un démarchage ? Pas de réponse précise.\"\n",
      "  list([(7, 2), (71, 1), (135, 1), (291, 2), (309, 1), (310, 2), (311, 1), (312, 1), (313, 1), (314, 2), (315, 3), (316, 1), (317, 1), (318, 1), (319, 1), (320, 1), (321, 1), (322, 1), (323, 1), (324, 1), (325, 1), (326, 2), (327, 1), (328, 1), (329, 1), (330, 1), (331, 1), (332, 1), (333, 1), (334, 1), (335, 1), (336, 1), (337, 1), (338, 1), (339, 1), (340, 1), (341, 1), (342, 1), (343, 1), (344, 1), (345, 1), (346, 1), (347, 1), (348, 1), (349, 1), (350, 1)])]]\n"
     ]
    }
   ],
   "source": [
    "# corpus_gensim\n",
    "\n",
    "df['corpus_gensim'] = df.tokens.apply(lambda d : dictionary.doc2bow(d))\n",
    "\n",
    "print(df[['text','corpus_gensim']] .head().values)\n"
   ]
  },
  {
   "cell_type": "code",
   "execution_count": 20,
   "metadata": {
    "scrolled": true
   },
   "outputs": [],
   "source": [
    "corpus_gensim = [c for c in df.corpus_gensim ]\n"
   ]
  },
  {
   "cell_type": "code",
   "execution_count": 21,
   "metadata": {},
   "outputs": [],
   "source": [
    "num_topics= 40\n",
    "\n",
    "# Le model LDA\n",
    "lda = models.LdaModel(corpus_gensim,\n",
    "    id2word      = dictionary,\n",
    "    num_topics   = num_topics,\n",
    "    alpha        = 'asymmetric',\n",
    "    eta          = 'auto',\n",
    "    passes       = 2,\n",
    "    iterations   = 20\n",
    ")\n",
    "\n",
    "\n"
   ]
  },
  {
   "cell_type": "code",
   "execution_count": 33,
   "metadata": {},
   "outputs": [
    {
     "name": "stdout",
     "output_type": "stream",
     "text": [
      "\n",
      "=== topic #0\n",
      "0.021: a,  0.009: cette,  0.005: plus,  0.005: jeunes,  0.004: être,  0.004: travail,  0.004: ans,  0.004: année,  0.004: depuis,  0.004: personnes\n",
      "\n",
      "=== topic #1\n",
      "0.007: pêche,  0.006: plus,  0.006: a,  0.003: poissons,  0.003: eau,  0.003: ainsi,  0.003: démonstrations,  0.003: deux,  0.002: année,  0.002: cette\n",
      "\n",
      "=== topic #2\n",
      "0.022: ils,  0.011: a,  0.009: plus,  0.008: leurs,  0.008: tous,  0.008: enfants,  0.008: tout,  0.005: comme,  0.005: faire,  0.005: deux\n",
      "\n",
      "=== topic #3\n",
      "0.008: deux,  0.008: après,  0.007: tête,  0.007: plus,  0.006: coup,  0.006: but,  0.005: jeu,  0.005: a,  0.005: minutes,  0.005: tir\n",
      "\n",
      "=== topic #4\n",
      "0.027: a,  0.012: plus,  0.008: tout,  0.008: cette,  0.007: bien,  0.007: équipe,  0.006: club,  0.006: deux,  0.006: fait,  0.005: très\n",
      "\n",
      "=== topic #5\n",
      "0.019: a,  0.011: cette,  0.007: plus,  0.005: ville,  0.005: saint,  0.004: fête,  0.004: sous,  0.004: village,  0.004: public,  0.004: aussi\n",
      "\n",
      "=== topic #6\n",
      "0.026: f,  0.021: 000,  0.016: a,  0.009: travaux,  0.008: conseil,  0.007: 1,  0.006: communes,  0.005: projet,  0.005: 500,  0.005: 2\n",
      "\n",
      "=== topic #7\n",
      "0.032: a,  0.016: plus,  0.007: bien,  0.007: ans,  0.007: comme,  0.007: tout,  0.006: fait,  0.006: deux,  0.006: ils,  0.005: depuis\n",
      "\n",
      "=== topic #8\n",
      "0.035: pompiers,  0.013: sapeurs,  0.009: secours,  0.005: feu,  0.005: a,  0.004: barak,  0.004: folle,  0.004: incendie,  0.003: thillot,  0.003: in\n",
      "\n",
      "=== topic #9\n",
      "0.042: école,  0.027: élèves,  0.017: classe,  0.015: mme,  0.012: maternelle,  0.012: classes,  0.010: parents,  0.008: enfants,  0.008: a,  0.008: professeur\n",
      "\n",
      "=== topic #10\n",
      "0.006: a,  0.005: fraize,  0.004: nettoyage,  0.004: bethoncourt,  0.004: coca,  0.003: technologie,  0.003: sérieuse,  0.003: occupés,  0.003: jacquot,  0.003: privées\n",
      "\n",
      "=== topic #11\n",
      "0.074: ind,  0.012: p,  0.009: a,  0.007: psa,  0.007: ascap,  0.005: dtat,  0.005: g,  0.004: f,  0.004: belfort,  0.004: roi\n",
      "\n",
      "=== topic #12\n",
      "0.012: jean,  0.010: ans,  0.008: née,  0.007: épouse,  0.006: michel,  0.006: pierre,  0.006: rené,  0.005: marie,  0.005: a,  0.005: couple\n",
      "\n",
      "=== topic #13\n",
      "0.009: km,  0.007: a,  0.005: ptt,  0.003: record,  0.003: favori,  0.003: tout,  0.003: haie,  0.003: animal,  0.003: boule,  0.003: bien\n",
      "\n",
      "=== topic #14\n",
      "0.006: spectacle,  0.006: soirée,  0.005: danse,  0.005: musique,  0.005: chants,  0.005: a,  0.004: rock,  0.004: costumes,  0.003: ainsi,  0.003: fête\n",
      "\n",
      "=== topic #15\n",
      "0.022: ans,  0.020: a,  0.012: enfants,  0.008: saint,  0.007: où,  0.006: famille,  0.005: deux,  0.005: après,  0.005: retraite,  0.005: puis\n",
      "\n",
      "=== topic #16\n",
      "0.024: a,  0.009: tribunal,  0.008: prison,  0.007: deux,  0.007: ans,  0.007: mois,  0.006: homme,  0.006: juge,  0.006: hier,  0.006: police\n",
      "\n",
      "=== topic #17\n",
      "0.033: journal,  0.031: r,  0.024: météo,  0.015: bloc,  0.015: notes,  0.011: france,  0.009: 23,  0.009: dise,  0.008: 22,  0.008: magazine\n",
      "\n",
      "=== topic #18\n",
      "0.016: musique,  0.008: orgue,  0.006: piano,  0.006: festival,  0.006: a,  0.005: conservatoire,  0.003: musicale,  0.003: harmonie,  0.003: stenay,  0.003: instruments\n",
      "\n",
      "=== topic #19\n",
      "0.010: vc,  0.010: verdun,  0.006: thionville,  0.006: a,  0.006: dombasle,  0.005: mt,  0.005: marchand,  0.005: ec,  0.005: 2,  0.005: metz\n",
      "\n",
      "=== topic #20\n",
      "0.005: cgt,  0.005: a,  0.003: salariés,  0.003: plantes,  0.003: observe,  0.003: carré,  0.003: pénalité,  0.002: sessions,  0.002: eau,  0.002: dispositif\n",
      "\n",
      "=== topic #21\n",
      "0.026: 1,  0.022: 2,  0.021: 6,  0.017: p,  0.015: 4,  0.015: 3,  0.015: 5,  0.012: 7,  0.011: 8,  0.010: a\n",
      "\n",
      "=== topic #22\n",
      "0.008: a,  0.004: plus,  0.003: peut,  0.003: faire,  0.003: sans,  0.003: fours,  0.003: produit,  0.003: comme,  0.002: produits,  0.002: où\n",
      "\n",
      "=== topic #23\n",
      "0.009: art,  0.006: a,  0.004: peinture,  0.004: rayon,  0.004: xviiie,  0.004: œuvres,  0.004: 1977,  0.003: siècle,  0.003: jean,  0.003: artiste\n",
      "\n",
      "=== topic #24\n",
      "0.007: fabrice,  0.005: reçoivent,  0.004: foudre,  0.004: a,  0.004: picard,  0.004: grandeur,  0.003: john,  0.003: jérémy,  0.003: chevalier,  0.002: kevin\n",
      "\n",
      "=== topic #25\n",
      "0.010: éclipse,  0.010: a,  0.005: lune,  0.005: comtois,  0.005: gendarme,  0.004: deux,  0.004: lunettes,  0.004: d1,  0.004: tout,  0.004: soleil\n",
      "\n",
      "=== topic #26\n",
      "0.034: 0,  0.010: a,  0.008: 5,  0.007: besançon,  0.006: vc,  0.006: etupes,  0.005: cm,  0.005: marne,  0.005: cc,  0.005: sc\n",
      "\n",
      "=== topic #27\n",
      "0.113: h,  0.036: 30,  0.016: 14,  0.015: 15,  0.014: 18,  0.013: 20,  0.013: 17,  0.010: 19,  0.010: 10,  0.010: 13\n",
      "\n",
      "=== topic #28\n",
      "0.009: francs,  0.009: millions,  0.008: a,  0.004: convention,  0.004: contrat,  0.004: conseil,  0.004: demande,  0.004: ordre,  0.003: plan,  0.003: administratif\n",
      "\n",
      "=== topic #29\n",
      "0.092: rue,  0.024: mp,  0.010: avenue,  0.005: place,  0.005: allée,  0.005: ex,  0.004: aequo,  0.004: chemin,  0.004: a,  0.004: poulet\n",
      "\n",
      "=== topic #30\n",
      "0.009: a,  0.004: belfort,  0.004: président,  0.004: gauche,  0.003: portait,  0.003: jospin,  0.003: interne,  0.003: plus,  0.003: territoriale,  0.003: féliciter\n",
      "\n",
      "=== topic #31\n",
      "0.005: devoirs,  0.005: a,  0.004: contes,  0.004: cornu,  0.004: 1940,  0.004: tenues,  0.004: forge,  0.003: slogan,  0.003: bouvier,  0.003: id\n",
      "\n",
      "=== topic #32\n",
      "0.014: a,  0.007: ministre,  0.006: président,  0.006: être,  0.005: comme,  0.005: si,  0.005: pays,  0.004: france,  0.004: plus,  0.004: contre\n",
      "\n",
      "=== topic #33\n",
      "0.023: kg,  0.006: concert,  0.005: a,  0.004: farines,  0.004: dioxine,  0.003: 50f,  0.003: orchestre,  0.003: canon,  0.003: steve,  0.003: hallyday\n",
      "\n",
      "=== topic #34\n",
      "0.017: a,  0.012: enfants,  0.006: théâtre,  0.005: cette,  0.004: abbé,  0.003: deux,  0.003: livre,  0.003: village,  0.003: paroisse,  0.003: spectacle\n",
      "\n",
      "=== topic #35\n",
      "0.013: nicolas,  0.012: marie,  0.011: ab,  0.011: jean,  0.008: julien,  0.007: sébastien,  0.007: b,  0.007: céline,  0.007: pierre,  0.006: anne\n",
      "\n",
      "=== topic #36\n",
      "0.010: chevaux,  0.008: sluc,  0.005: a,  0.004: cavaliers,  0.004: yamaha,  0.004: chalon,  0.004: concerné,  0.003: chaînes,  0.003: poneys,  0.003: prévert\n",
      "\n",
      "=== topic #37\n",
      "0.006: 6e,  0.005: a,  0.004: 5e,  0.004: virenque,  0.004: 2e,  0.004: 3e,  0.004: dopage,  0.004: 9e,  0.003: 4e,  0.003: préfet\n",
      "\n",
      "=== topic #38\n",
      "0.006: a,  0.004: 3e,  0.004: 4e,  0.004: séries,  0.004: condamnés,  0.003: race,  0.003: miss,  0.003: saônois,  0.003: coupe,  0.003: parent\n",
      "\n",
      "=== topic #39\n",
      "0.006: attaché,  0.005: a,  0.004: becker,  0.003: hugues,  0.003: vues,  0.003: spinalienne,  0.003: pape,  0.003: dédé,  0.003: van,  0.003: complexes\n"
     ]
    }
   ],
   "source": [
    "for t in lda.show_topics(num_topics=num_topics, formatted=True, log = False):\n",
    "    print(\"\\n=== topic #{}\".format(t[0]))\n",
    "    print(t[1].replace('*', ': ').replace(' +',', ').replace('\"',''))\n"
   ]
  },
  {
   "cell_type": "code",
   "execution_count": 25,
   "metadata": {},
   "outputs": [
    {
     "data": {
      "text/plain": [
       "'0.006*\"attaché\" + 0.005*\"a\" + 0.004*\"becker\" + 0.003*\"hugues\" + 0.003*\"vues\" + 0.003*\"spinalienne\" + 0.003*\"pape\" + 0.003*\"dédé\" + 0.003*\"van\" + 0.003*\"complexes\"'"
      ]
     },
     "execution_count": 25,
     "metadata": {},
     "output_type": "execute_result"
    }
   ],
   "source": []
  },
  {
   "cell_type": "code",
   "execution_count": null,
   "metadata": {},
   "outputs": [],
   "source": [
    "# LSA\n",
    "\n",
    "tfidf = models.TfidfModel(corpus_gensim)\n",
    "\n",
    "corpus_tfidf = tfidf[corpus_gensim]\n",
    "\n",
    "lsi = models.LsiModel(corpus_tfidf , id2word=dictionary, num_topics=num_topics)\n",
    "for t in lsi.show_topics(num_topics=num_topics, formatted=True, log = False):\n",
    "    print(\"\\n=== topic #{}\".format(t[0]))\n",
    "    print(t[1].replace('*', ': ').replace(' +',', ').replace('\"',''))\n"
   ]
  },
  {
   "cell_type": "code",
   "execution_count": null,
   "metadata": {},
   "outputs": [],
   "source": []
  }
 ],
 "metadata": {
  "kernelspec": {
   "display_name": "Python 3",
   "language": "python",
   "name": "python3"
  },
  "language_info": {
   "codemirror_mode": {
    "name": "ipython",
    "version": 3
   },
   "file_extension": ".py",
   "mimetype": "text/x-python",
   "name": "python",
   "nbconvert_exporter": "python",
   "pygments_lexer": "ipython3",
   "version": "3.6.3"
  }
 },
 "nbformat": 4,
 "nbformat_minor": 2
}
