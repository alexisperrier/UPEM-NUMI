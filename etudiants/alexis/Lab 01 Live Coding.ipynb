{
 "cells": [
  {
   "cell_type": "code",
   "execution_count": 1,
   "metadata": {},
   "outputs": [],
   "source": [
    "import pandas as pd\n",
    "\n",
    "DATA_PATH = '../data/'\n",
    "filename  = 'estrepublicain_annee_1999.csv'\n",
    "\n",
    "df = pd.read_csv(DATA_PATH + filename)\n"
   ]
  },
  {
   "cell_type": "code",
   "execution_count": 2,
   "metadata": {},
   "outputs": [
    {
     "name": "stdout",
     "output_type": "stream",
     "text": [
      "= dimensions\n",
      "(30241, 1)\n",
      "= 5 premieres rangés\n",
      "                                                text\n",
      "0  André Bauer, le Bonhomme de St-Dié ; Alain Dag...\n",
      "1  Le Smash Entente Club de Lunéville (SECL) a re...\n",
      "2  En tout cas, du côté du PS Dole qui reste en c...\n",
      "3  « Le nombre des donneurs était en légère baiss...\n",
      "4  ELOYES._ Les Ramoncenais n'auront tenu qu'une ...\n",
      "= Noms des colonnes\n",
      "Index(['text'], dtype='object')\n"
     ]
    }
   ],
   "source": [
    "df\n",
    "print(\"= dimensions\")\n",
    "print(df.shape)\n",
    "print(\"= 5 premieres rangés\")\n",
    "print(df.head())\n",
    "print(\"= Noms des colonnes\")\n",
    "print(df.columns)\n"
   ]
  },
  {
   "cell_type": "code",
   "execution_count": 3,
   "metadata": {},
   "outputs": [
    {
     "data": {
      "text/plain": [
       "Index(['paragraphe'], dtype='object')"
      ]
     },
     "execution_count": 3,
     "metadata": {},
     "output_type": "execute_result"
    }
   ],
   "source": [
    "# Changer le nom de la colonne\n",
    "df.columns = ['paragraphe']\n",
    "df.columns"
   ]
  },
  {
   "cell_type": "code",
   "execution_count": 4,
   "metadata": {},
   "outputs": [
    {
     "data": {
      "text/plain": [
       "Index(['text'], dtype='object')"
      ]
     },
     "execution_count": 4,
     "metadata": {},
     "output_type": "execute_result"
    }
   ],
   "source": [
    "# puis renommer colonne en 'text'\n",
    "\n",
    "df.columns = ['text']\n",
    "df.columns"
   ]
  },
  {
   "cell_type": "code",
   "execution_count": 5,
   "metadata": {},
   "outputs": [
    {
     "name": "stdout",
     "output_type": "stream",
     "text": [
      "avant: (30241, 1)\n",
      "apres: (1000, 1)\n"
     ]
    }
   ],
   "source": [
    "# Ne prendre que les 1000 premieres rangées\n",
    "\n",
    "print(\"avant: {}\".format(df.shape))\n",
    "df = df[0:1000]\n",
    "\n",
    "print(\"apres: {}\".format(df.shape))\n",
    "\n"
   ]
  },
  {
   "cell_type": "code",
   "execution_count": 7,
   "metadata": {},
   "outputs": [
    {
     "name": "stdout",
     "output_type": "stream",
     "text": [
      "['les', 'médiateurs', 'confirment', '«', \"l'absence\", 'de', 'solution', 'parfaite', '»', '.']\n",
      "['les', 'médiateurs', 'confirment', '«', \"l'absence\", 'de', 'solution', 'parfaite', '».', '']\n"
     ]
    }
   ],
   "source": [
    "# Tokenization\n",
    "from nltk import word_tokenize\n",
    "\n",
    "# La phrase\n",
    "sentence = \"les médiateurs confirment « l'absence de solution parfaite ». \"\n",
    "\n",
    "tokens = word_tokenize(sentence)\n",
    "\n",
    "print(tokens)\n",
    "tokens_on_space = sentence.split(' ')\n",
    "print(tokens_on_space)\n"
   ]
  },
  {
   "cell_type": "code",
   "execution_count": 17,
   "metadata": {},
   "outputs": [
    {
     "name": "stdout",
     "output_type": "stream",
     "text": [
      "Liste original de signe de ponctuations\n",
      "\t!\"#$%&'()*+,-./:;<=>?@[\\]^_`{|}~\n",
      "{'!': ' ', '\"': ' ', '#': ' ', '$': ' ', '%': ' ', '&': ' ', \"'\": ' ', '(': ' ', ')': ' ', '*': ' ', '+': ' ', ',': ' ', '-': ' ', '.': ' ', '/': ' ', ':': ' ', ';': ' ', '<': ' ', '=': ' ', '>': ' ', '?': ' ', '@': ' ', '[': ' ', '\\\\': ' ', ']': ' ', '^': ' ', '_': ' ', '`': ' ', '{': ' ', '|': ' ', '}': ' ', '~': ' ', '«': ' ', '»': ' '}\n",
      "les médiateurs confirment « l'absence de solution parfaite ». \n",
      "les médiateurs confirment   l absence de solution parfaite    \n"
     ]
    }
   ],
   "source": [
    "# ponctuation\n",
    "\n",
    "import string\n",
    "\n",
    "print(\"Liste original de signe de ponctuations\")\n",
    "print(\"\\t{}\".format(string.punctuation))\n",
    "\n",
    "sentence = \"les médiateurs confirment « l'absence de solution parfaite ». \"\n",
    "punctuation_chars = string.punctuation + \"«»\"\n",
    "\n",
    "#  Construction d'un dict { '~':' ', '$': ' ', ... }\n",
    "dict_ponctuation = {}\n",
    "for k in punctuation_chars:\n",
    "    dict_ponctuation[k] = ' '\n",
    "\n",
    "print(dict_ponctuation)\n",
    "\n",
    "# # L'operateur de translation\n",
    "translator = str.maketrans(dict_ponctuation)\n",
    "\n",
    "new_sentence = sentence.translate(translator)\n",
    "print(sentence)\n",
    "print(new_sentence)\n"
   ]
  },
  {
   "cell_type": "code",
   "execution_count": 33,
   "metadata": {},
   "outputs": [
    {
     "name": "stdout",
     "output_type": "stream",
     "text": [
      "['les', 'médiateurs', 'confirment', 'l', 'absence', 'de', 'solution', 'parfaite']\n",
      "['médiateurs', 'confirment', 'absence', 'solution', 'parfaite']\n"
     ]
    }
   ],
   "source": [
    "# stopwords\n",
    "tokens = word_tokenize(new_sentence)\n",
    "print(tokens)\n",
    "\n",
    "from nltk.corpus import stopwords\n",
    "\n",
    "\n",
    "# print(\"=== stopwords - français:\")\n",
    "# print(sorted(stopwords.words('french')))\n",
    "\n",
    "list_stopwords = stopwords.words('french') + ['les', 'de']\n",
    "\n",
    "# # equivalent:\n",
    "# stopwords = stopwords.words('french')\n",
    "# stopwords.append('les')\n",
    "# stopwords.append('de')\n",
    "\n",
    "\n",
    "# \n",
    "tokens_sans_stopwords = [w for w in tokens if (w not in list_stopwords) ]\n",
    "\n",
    "## Equivalent \n",
    "tokens_sans_stopwords = []\n",
    "for w in tokens:\n",
    "    if w not in list_stopwords:\n",
    "        tokens_sans_stopwords.append(w)\n",
    "\n",
    "\n",
    "\n",
    "print(tokens_sans_stopwords)\n"
   ]
  },
  {
   "cell_type": "code",
   "execution_count": 39,
   "metadata": {},
   "outputs": [
    {
     "data": {
      "text/html": [
       "<div>\n",
       "<style scoped>\n",
       "    .dataframe tbody tr th:only-of-type {\n",
       "        vertical-align: middle;\n",
       "    }\n",
       "\n",
       "    .dataframe tbody tr th {\n",
       "        vertical-align: top;\n",
       "    }\n",
       "\n",
       "    .dataframe thead th {\n",
       "        text-align: right;\n",
       "    }\n",
       "</style>\n",
       "<table border=\"1\" class=\"dataframe\">\n",
       "  <thead>\n",
       "    <tr style=\"text-align: right;\">\n",
       "      <th></th>\n",
       "      <th>text</th>\n",
       "      <th>text_no_punctuation</th>\n",
       "    </tr>\n",
       "  </thead>\n",
       "  <tbody>\n",
       "    <tr>\n",
       "      <th>0</th>\n",
       "      <td>André Bauer, le Bonhomme de St-Dié ; Alain Dag...</td>\n",
       "      <td>André Bauer  le Bonhomme de St Dié   Alain Dag...</td>\n",
       "    </tr>\n",
       "    <tr>\n",
       "      <th>1</th>\n",
       "      <td>Le Smash Entente Club de Lunéville (SECL) a re...</td>\n",
       "      <td>Le Smash Entente Club de Lunéville  SECL  a re...</td>\n",
       "    </tr>\n",
       "    <tr>\n",
       "      <th>2</th>\n",
       "      <td>En tout cas, du côté du PS Dole qui reste en c...</td>\n",
       "      <td>En tout cas  du côté du PS Dole qui reste en c...</td>\n",
       "    </tr>\n",
       "    <tr>\n",
       "      <th>3</th>\n",
       "      <td>« Le nombre des donneurs était en légère baiss...</td>\n",
       "      <td>Le nombre des donneurs était en légère baiss...</td>\n",
       "    </tr>\n",
       "    <tr>\n",
       "      <th>4</th>\n",
       "      <td>ELOYES._ Les Ramoncenais n'auront tenu qu'une ...</td>\n",
       "      <td>ELOYES   Les Ramoncenais n auront tenu qu une ...</td>\n",
       "    </tr>\n",
       "  </tbody>\n",
       "</table>\n",
       "</div>"
      ],
      "text/plain": [
       "                                                text  \\\n",
       "0  André Bauer, le Bonhomme de St-Dié ; Alain Dag...   \n",
       "1  Le Smash Entente Club de Lunéville (SECL) a re...   \n",
       "2  En tout cas, du côté du PS Dole qui reste en c...   \n",
       "3  « Le nombre des donneurs était en légère baiss...   \n",
       "4  ELOYES._ Les Ramoncenais n'auront tenu qu'une ...   \n",
       "\n",
       "                                 text_no_punctuation  \n",
       "0  André Bauer  le Bonhomme de St Dié   Alain Dag...  \n",
       "1  Le Smash Entente Club de Lunéville  SECL  a re...  \n",
       "2  En tout cas  du côté du PS Dole qui reste en c...  \n",
       "3    Le nombre des donneurs était en légère baiss...  \n",
       "4  ELOYES   Les Ramoncenais n auront tenu qu une ...  "
      ]
     },
     "execution_count": 39,
     "metadata": {},
     "output_type": "execute_result"
    }
   ],
   "source": [
    "# Enlevons la ponctuation\n",
    "\n",
    "df['text_no_punctuation'] = df.text.apply(lambda \n",
    "    r : ( r.translate(translator) ) \n",
    ")\n",
    "df.head()\n",
    "\n"
   ]
  },
  {
   "cell_type": "code",
   "execution_count": 40,
   "metadata": {},
   "outputs": [
    {
     "data": {
      "text/html": [
       "<div>\n",
       "<style scoped>\n",
       "    .dataframe tbody tr th:only-of-type {\n",
       "        vertical-align: middle;\n",
       "    }\n",
       "\n",
       "    .dataframe tbody tr th {\n",
       "        vertical-align: top;\n",
       "    }\n",
       "\n",
       "    .dataframe thead th {\n",
       "        text-align: right;\n",
       "    }\n",
       "</style>\n",
       "<table border=\"1\" class=\"dataframe\">\n",
       "  <thead>\n",
       "    <tr style=\"text-align: right;\">\n",
       "      <th></th>\n",
       "      <th>text</th>\n",
       "      <th>text_no_punctuation</th>\n",
       "      <th>tokens_all</th>\n",
       "    </tr>\n",
       "  </thead>\n",
       "  <tbody>\n",
       "    <tr>\n",
       "      <th>0</th>\n",
       "      <td>André Bauer, le Bonhomme de St-Dié ; Alain Dag...</td>\n",
       "      <td>André Bauer  le Bonhomme de St Dié   Alain Dag...</td>\n",
       "      <td>[andré, bauer, le, bonhomme, de, st, dié, alai...</td>\n",
       "    </tr>\n",
       "    <tr>\n",
       "      <th>1</th>\n",
       "      <td>Le Smash Entente Club de Lunéville (SECL) a re...</td>\n",
       "      <td>Le Smash Entente Club de Lunéville  SECL  a re...</td>\n",
       "      <td>[le, smash, entente, club, de, lunéville, secl...</td>\n",
       "    </tr>\n",
       "    <tr>\n",
       "      <th>2</th>\n",
       "      <td>En tout cas, du côté du PS Dole qui reste en c...</td>\n",
       "      <td>En tout cas  du côté du PS Dole qui reste en c...</td>\n",
       "      <td>[en, tout, cas, du, côté, du, ps, dole, qui, r...</td>\n",
       "    </tr>\n",
       "    <tr>\n",
       "      <th>3</th>\n",
       "      <td>« Le nombre des donneurs était en légère baiss...</td>\n",
       "      <td>Le nombre des donneurs était en légère baiss...</td>\n",
       "      <td>[le, nombre, des, donneurs, était, en, légère,...</td>\n",
       "    </tr>\n",
       "    <tr>\n",
       "      <th>4</th>\n",
       "      <td>ELOYES._ Les Ramoncenais n'auront tenu qu'une ...</td>\n",
       "      <td>ELOYES   Les Ramoncenais n auront tenu qu une ...</td>\n",
       "      <td>[eloyes, les, ramoncenais, n, auront, tenu, qu...</td>\n",
       "    </tr>\n",
       "  </tbody>\n",
       "</table>\n",
       "</div>"
      ],
      "text/plain": [
       "                                                text  \\\n",
       "0  André Bauer, le Bonhomme de St-Dié ; Alain Dag...   \n",
       "1  Le Smash Entente Club de Lunéville (SECL) a re...   \n",
       "2  En tout cas, du côté du PS Dole qui reste en c...   \n",
       "3  « Le nombre des donneurs était en légère baiss...   \n",
       "4  ELOYES._ Les Ramoncenais n'auront tenu qu'une ...   \n",
       "\n",
       "                                 text_no_punctuation  \\\n",
       "0  André Bauer  le Bonhomme de St Dié   Alain Dag...   \n",
       "1  Le Smash Entente Club de Lunéville  SECL  a re...   \n",
       "2  En tout cas  du côté du PS Dole qui reste en c...   \n",
       "3    Le nombre des donneurs était en légère baiss...   \n",
       "4  ELOYES   Les Ramoncenais n auront tenu qu une ...   \n",
       "\n",
       "                                          tokens_all  \n",
       "0  [andré, bauer, le, bonhomme, de, st, dié, alai...  \n",
       "1  [le, smash, entente, club, de, lunéville, secl...  \n",
       "2  [en, tout, cas, du, côté, du, ps, dole, qui, r...  \n",
       "3  [le, nombre, des, donneurs, était, en, légère,...  \n",
       "4  [eloyes, les, ramoncenais, n, auront, tenu, qu...  "
      ]
     },
     "execution_count": 40,
     "metadata": {},
     "output_type": "execute_result"
    }
   ],
   "source": [
    "# Tokenizer\n",
    "\n",
    "df['tokens_all']  = df.text_no_punctuation.apply(\n",
    "    lambda r : word_tokenize(r.lower())\n",
    ")\n",
    "\n",
    "df.head()"
   ]
  },
  {
   "cell_type": "code",
   "execution_count": 45,
   "metadata": {},
   "outputs": [
    {
     "data": {
      "text/html": [
       "<div>\n",
       "<style scoped>\n",
       "    .dataframe tbody tr th:only-of-type {\n",
       "        vertical-align: middle;\n",
       "    }\n",
       "\n",
       "    .dataframe tbody tr th {\n",
       "        vertical-align: top;\n",
       "    }\n",
       "\n",
       "    .dataframe thead th {\n",
       "        text-align: right;\n",
       "    }\n",
       "</style>\n",
       "<table border=\"1\" class=\"dataframe\">\n",
       "  <thead>\n",
       "    <tr style=\"text-align: right;\">\n",
       "      <th></th>\n",
       "      <th>text</th>\n",
       "      <th>text_no_punctuation</th>\n",
       "      <th>tokens_all</th>\n",
       "      <th>tokens</th>\n",
       "    </tr>\n",
       "  </thead>\n",
       "  <tbody>\n",
       "    <tr>\n",
       "      <th>0</th>\n",
       "      <td>André Bauer, le Bonhomme de St-Dié ; Alain Dag...</td>\n",
       "      <td>André Bauer  le Bonhomme de St Dié   Alain Dag...</td>\n",
       "      <td>[andré, bauer, le, bonhomme, de, st, dié, alai...</td>\n",
       "      <td>[andré, bauer, bonhomme, st, dié, alain, dagos...</td>\n",
       "    </tr>\n",
       "    <tr>\n",
       "      <th>1</th>\n",
       "      <td>Le Smash Entente Club de Lunéville (SECL) a re...</td>\n",
       "      <td>Le Smash Entente Club de Lunéville  SECL  a re...</td>\n",
       "      <td>[le, smash, entente, club, de, lunéville, secl...</td>\n",
       "      <td>[smash, entente, club, lunéville, secl, a, rep...</td>\n",
       "    </tr>\n",
       "    <tr>\n",
       "      <th>2</th>\n",
       "      <td>En tout cas, du côté du PS Dole qui reste en c...</td>\n",
       "      <td>En tout cas  du côté du PS Dole qui reste en c...</td>\n",
       "      <td>[en, tout, cas, du, côté, du, ps, dole, qui, r...</td>\n",
       "      <td>[tout, cas, côté, ps, dole, reste, course, acc...</td>\n",
       "    </tr>\n",
       "    <tr>\n",
       "      <th>3</th>\n",
       "      <td>« Le nombre des donneurs était en légère baiss...</td>\n",
       "      <td>Le nombre des donneurs était en légère baiss...</td>\n",
       "      <td>[le, nombre, des, donneurs, était, en, légère,...</td>\n",
       "      <td>[nombre, donneurs, légère, baisse, lors, derni...</td>\n",
       "    </tr>\n",
       "    <tr>\n",
       "      <th>4</th>\n",
       "      <td>ELOYES._ Les Ramoncenais n'auront tenu qu'une ...</td>\n",
       "      <td>ELOYES   Les Ramoncenais n auront tenu qu une ...</td>\n",
       "      <td>[eloyes, les, ramoncenais, n, auront, tenu, qu...</td>\n",
       "      <td>[eloyes, ramoncenais, tenu, heure, face, réser...</td>\n",
       "    </tr>\n",
       "  </tbody>\n",
       "</table>\n",
       "</div>"
      ],
      "text/plain": [
       "                                                text  \\\n",
       "0  André Bauer, le Bonhomme de St-Dié ; Alain Dag...   \n",
       "1  Le Smash Entente Club de Lunéville (SECL) a re...   \n",
       "2  En tout cas, du côté du PS Dole qui reste en c...   \n",
       "3  « Le nombre des donneurs était en légère baiss...   \n",
       "4  ELOYES._ Les Ramoncenais n'auront tenu qu'une ...   \n",
       "\n",
       "                                 text_no_punctuation  \\\n",
       "0  André Bauer  le Bonhomme de St Dié   Alain Dag...   \n",
       "1  Le Smash Entente Club de Lunéville  SECL  a re...   \n",
       "2  En tout cas  du côté du PS Dole qui reste en c...   \n",
       "3    Le nombre des donneurs était en légère baiss...   \n",
       "4  ELOYES   Les Ramoncenais n auront tenu qu une ...   \n",
       "\n",
       "                                          tokens_all  \\\n",
       "0  [andré, bauer, le, bonhomme, de, st, dié, alai...   \n",
       "1  [le, smash, entente, club, de, lunéville, secl...   \n",
       "2  [en, tout, cas, du, côté, du, ps, dole, qui, r...   \n",
       "3  [le, nombre, des, donneurs, était, en, légère,...   \n",
       "4  [eloyes, les, ramoncenais, n, auront, tenu, qu...   \n",
       "\n",
       "                                              tokens  \n",
       "0  [andré, bauer, bonhomme, st, dié, alain, dagos...  \n",
       "1  [smash, entente, club, lunéville, secl, a, rep...  \n",
       "2  [tout, cas, côté, ps, dole, reste, course, acc...  \n",
       "3  [nombre, donneurs, légère, baisse, lors, derni...  \n",
       "4  [eloyes, ramoncenais, tenu, heure, face, réser...  "
      ]
     },
     "execution_count": 45,
     "metadata": {},
     "output_type": "execute_result"
    }
   ],
   "source": [
    "# remove stopwords\n",
    "\n",
    "def remove_stopword(tokens):\n",
    "     return [w for w in tokens if (w not in list_stopwords) ]\n",
    "\n",
    "# Verifier que ca marche\n",
    "remove_stopword(tokens)\n",
    "\n",
    "# appliquer a la dataframe\n",
    "\n",
    "df['tokens'] = df.tokens_all.apply(\n",
    "    lambda tks : remove_stopword(tks) \n",
    ")\n",
    "\n",
    "df.head()"
   ]
  },
  {
   "cell_type": "code",
   "execution_count": 51,
   "metadata": {},
   "outputs": [
    {
     "data": {
      "text/plain": [
       "array([ \"Heureusement, l'affaire ne relève en rien du trafic. L'avocat de la défense fait remarquer qu'il s'agit en tout et pour tout de trente kilos de viande, d'ailleurs isolés du reste du stock, soit 6 pâtés de canard en croûtes pâtissiers, 12 taboulés et 3 mousses de canard. Juste un casse-croûte, quand la société en est à 2000 livraisons et trente tonnes vendues chaque semaine, pour un chiffre d'affaires de 30 MF annuels. « Les dates de péremption sont calculées au plus juste. Or, les produits incriminés étaient périmés d'un jour, ou d'une semaine maximum. Ils étaient encore tout à fait consommables. Et les congeler juste avant la date de péremption, c'est ce que font toutes les ménagères en gérant leur frigo ! »\",\n",
       "       'Heureusement  l affaire ne relève en rien du trafic  L avocat de la défense fait remarquer qu il s agit en tout et pour tout de trente kilos de viande  d ailleurs isolés du reste du stock  soit 6 pâtés de canard en croûtes pâtissiers  12 taboulés et 3 mousses de canard  Juste un casse croûte  quand la société en est à 2000 livraisons et trente tonnes vendues chaque semaine  pour un chiffre d affaires de 30 MF annuels    Les dates de péremption sont calculées au plus juste  Or  les produits incriminés étaient périmés d un jour  ou d une semaine maximum  Ils étaient encore tout à fait consommables  Et les congeler juste avant la date de péremption  c est ce que font toutes les ménagères en gérant leur frigo    ',\n",
       "       list(['heureusement', 'l', 'affaire', 'ne', 'relève', 'en', 'rien', 'du', 'trafic', 'l', 'avocat', 'de', 'la', 'défense', 'fait', 'remarquer', 'qu', 'il', 's', 'agit', 'en', 'tout', 'et', 'pour', 'tout', 'de', 'trente', 'kilos', 'de', 'viande', 'd', 'ailleurs', 'isolés', 'du', 'reste', 'du', 'stock', 'soit', '6', 'pâtés', 'de', 'canard', 'en', 'croûtes', 'pâtissiers', '12', 'taboulés', 'et', '3', 'mousses', 'de', 'canard', 'juste', 'un', 'casse', 'croûte', 'quand', 'la', 'société', 'en', 'est', 'à', '2000', 'livraisons', 'et', 'trente', 'tonnes', 'vendues', 'chaque', 'semaine', 'pour', 'un', 'chiffre', 'd', 'affaires', 'de', '30', 'mf', 'annuels', 'les', 'dates', 'de', 'péremption', 'sont', 'calculées', 'au', 'plus', 'juste', 'or', 'les', 'produits', 'incriminés', 'étaient', 'périmés', 'd', 'un', 'jour', 'ou', 'd', 'une', 'semaine', 'maximum', 'ils', 'étaient', 'encore', 'tout', 'à', 'fait', 'consommables', 'et', 'les', 'congeler', 'juste', 'avant', 'la', 'date', 'de', 'péremption', 'c', 'est', 'ce', 'que', 'font', 'toutes', 'les', 'ménagères', 'en', 'gérant', 'leur', 'frigo']),\n",
       "       list(['heureusement', 'affaire', 'relève', 'rien', 'trafic', 'avocat', 'défense', 'fait', 'remarquer', 'agit', 'tout', 'tout', 'trente', 'kilos', 'viande', 'ailleurs', 'isolés', 'reste', 'stock', '6', 'pâtés', 'canard', 'croûtes', 'pâtissiers', '12', 'taboulés', '3', 'mousses', 'canard', 'juste', 'casse', 'croûte', 'quand', 'société', '2000', 'livraisons', 'trente', 'tonnes', 'vendues', 'chaque', 'semaine', 'chiffre', 'affaires', '30', 'mf', 'annuels', 'dates', 'péremption', 'calculées', 'plus', 'juste', 'or', 'produits', 'incriminés', 'périmés', 'jour', 'semaine', 'maximum', 'ils', 'encore', 'tout', 'fait', 'consommables', 'congeler', 'juste', 'avant', 'date', 'péremption', 'font', 'toutes', 'ménagères', 'gérant', 'frigo'])], dtype=object)"
      ]
     },
     "execution_count": 51,
     "metadata": {},
     "output_type": "execute_result"
    }
   ],
   "source": [
    "df.loc[5].values"
   ]
  },
  {
   "cell_type": "code",
   "execution_count": 52,
   "metadata": {},
   "outputs": [
    {
     "data": {
      "text/plain": [
       "RangeIndex(start=0, stop=1000, step=1)"
      ]
     },
     "execution_count": 52,
     "metadata": {},
     "output_type": "execute_result"
    }
   ],
   "source": []
  },
  {
   "cell_type": "code",
   "execution_count": null,
   "metadata": {},
   "outputs": [],
   "source": []
  }
 ],
 "metadata": {
  "kernelspec": {
   "display_name": "Python 3",
   "language": "python",
   "name": "python3"
  },
  "language_info": {
   "codemirror_mode": {
    "name": "ipython",
    "version": 3
   },
   "file_extension": ".py",
   "mimetype": "text/x-python",
   "name": "python",
   "nbconvert_exporter": "python",
   "pygments_lexer": "ipython3",
   "version": "3.6.3"
  }
 },
 "nbformat": 4,
 "nbformat_minor": 2
}
