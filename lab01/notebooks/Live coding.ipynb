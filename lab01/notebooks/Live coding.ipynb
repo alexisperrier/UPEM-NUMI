{
 "cells": [
  {
   "cell_type": "code",
   "execution_count": 1,
   "metadata": {
    "collapsed": true
   },
   "outputs": [],
   "source": [
    "import pandas as pd\n",
    "\n",
    "DATA_PATH = '../data/'\n",
    "filename  = 'estrepublicain_annee_1999.csv'\n",
    "\n",
    "df = pd.read_csv(DATA_PATH + filename)\n"
   ]
  },
  {
   "cell_type": "code",
   "execution_count": 5,
   "metadata": {},
   "outputs": [
    {
     "data": {
      "text/plain": [
       "(30241, 1)"
      ]
     },
     "execution_count": 5,
     "metadata": {},
     "output_type": "execute_result"
    }
   ],
   "source": [
    "df.shape\n",
    "df.head()\n",
    "df.tail()"
   ]
  },
  {
   "cell_type": "code",
   "execution_count": 10,
   "metadata": {},
   "outputs": [
    {
     "data": {
      "text/plain": [
       "0        1156\n",
       "1         704\n",
       "2         638\n",
       "3         740\n",
       "4         683\n",
       "5         718\n",
       "6        1286\n",
       "7        1484\n",
       "8         673\n",
       "9         710\n",
       "10        747\n",
       "11        588\n",
       "12        715\n",
       "13        613\n",
       "14        713\n",
       "15        762\n",
       "16       1093\n",
       "17        683\n",
       "18        560\n",
       "19        733\n",
       "20        784\n",
       "21        887\n",
       "22        614\n",
       "23        789\n",
       "24        825\n",
       "25        712\n",
       "26        580\n",
       "27        446\n",
       "28        793\n",
       "29        777\n",
       "         ... \n",
       "30211     636\n",
       "30212     840\n",
       "30213     641\n",
       "30214     637\n",
       "30215     662\n",
       "30216     579\n",
       "30217     776\n",
       "30218     955\n",
       "30219     734\n",
       "30220     576\n",
       "30221     695\n",
       "30222     668\n",
       "30223     717\n",
       "30224    1300\n",
       "30225     952\n",
       "30226     656\n",
       "30227     544\n",
       "30228     926\n",
       "30229     898\n",
       "30230     624\n",
       "30231     627\n",
       "30232     737\n",
       "30233     638\n",
       "30234     688\n",
       "30235     748\n",
       "30236     600\n",
       "30237     687\n",
       "30238    1002\n",
       "30239     644\n",
       "30240     735\n",
       "Name: text, Length: 30241, dtype: int64"
      ]
     },
     "execution_count": 10,
     "metadata": {},
     "output_type": "execute_result"
    }
   ],
   "source": [
    "df[df.text.str.contains('football') ]\n",
    "dfdf.text.apply(lambda d : len(d))"
   ]
  },
  {
   "cell_type": "code",
   "execution_count": null,
   "metadata": {
    "collapsed": true
   },
   "outputs": [],
   "source": []
  }
 ],
 "metadata": {
  "kernelspec": {
   "display_name": "Python 3",
   "language": "python",
   "name": "python3"
  },
  "language_info": {
   "codemirror_mode": {
    "name": "ipython",
    "version": 3
   },
   "file_extension": ".py",
   "mimetype": "text/x-python",
   "name": "python",
   "nbconvert_exporter": "python",
   "pygments_lexer": "ipython3",
   "version": "3.6.2"
  }
 },
 "nbformat": 4,
 "nbformat_minor": 2
}
