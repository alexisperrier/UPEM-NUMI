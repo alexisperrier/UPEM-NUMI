{
 "cells": [
  {
   "cell_type": "markdown",
   "metadata": {},
   "source": [
    "# De nouveaux outils pour traiter le texte + visualisation\n",
    "\n",
    "## Spacy.io\n",
    "\n",
    "[Spacy.io](https://spacy.io) est une superbe librarie open source pour traiter le texte. Elle offre\n",
    "\n",
    "* POS\n",
    "* NER\n",
    "* Sentiment analysis\n",
    "* ...\n",
    "* Word2Vec\n",
    "\n",
    "\n",
    "## Plot.ly\n",
    "\n",
    "[Plot.ly](https://plot.ly) est une superbe librarie de visualization python open source ou payante. Rivalisant avec tableau. \n",
    "\n",
    "Autres lib de visualisation en python : matplotlib, bokeh\n",
    "\n",
    "\n",
    "\n"
   ]
  },
  {
   "cell_type": "code",
   "execution_count": 2,
   "metadata": {},
   "outputs": [
    {
     "name": "stdout",
     "output_type": "stream",
     "text": [
      "Apple 0 5 ORG\n",
      "U.K. 27 31 GPE\n",
      "$1 billion 44 54 MONEY\n"
     ]
    }
   ],
   "source": [
    "import spacy\n",
    "\n",
    "nlp = spacy.load('en')\n",
    "doc= nlp(u'Apple is looking at buying U.K. startup for $1 billion')\n",
    "\n",
    "for ent in doc.ents:\n",
    "    print(ent.text, ent.start_char, ent.end_char, ent.label_)\n"
   ]
  },
  {
   "cell_type": "markdown",
   "metadata": {},
   "source": [
    "# Appliquer sur la dataframe\n",
    "\n",
    "par exemple pour identifier les ORG\n",
    "\n",
    "\n"
   ]
  },
  {
   "cell_type": "code",
   "execution_count": 1,
   "metadata": {},
   "outputs": [
    {
     "name": "stdout",
     "output_type": "stream",
     "text": [
      "(6696, 14)\n"
     ]
    }
   ],
   "source": [
    "import pandas as pd\n",
    "\n",
    "df = pd.read_csv('../data/fbget_sample_05.csv')\n",
    "df.dropna(subset = ['message_clean'], inplace = True)\n",
    "print(df.shape)\n",
    "# Extraire toutes les orgs et les personnes\n",
    "\n"
   ]
  },
  {
   "cell_type": "code",
   "execution_count": 5,
   "metadata": {},
   "outputs": [
    {
     "ename": "NameError",
     "evalue": "name 'uniq' is not defined",
     "output_type": "error",
     "traceback": [
      "\u001b[0;31m---------------------------------------------------------------------------\u001b[0m",
      "\u001b[0;31mNameError\u001b[0m                                 Traceback (most recent call last)",
      "\u001b[0;32m<ipython-input-5-d0afb1cb891a>\u001b[0m in \u001b[0;36m<module>\u001b[0;34m()\u001b[0m\n\u001b[1;32m     23\u001b[0m \u001b[0;31m#                 entities.append((str(ent), ent.label_))\u001b[0m\u001b[0;34m\u001b[0m\u001b[0;34m\u001b[0m\u001b[0m\n\u001b[1;32m     24\u001b[0m \u001b[0;34m\u001b[0m\u001b[0m\n\u001b[0;32m---> 25\u001b[0;31m \u001b[0mprint\u001b[0m\u001b[0;34m(\u001b[0m\u001b[0msorted\u001b[0m\u001b[0;34m(\u001b[0m\u001b[0muniq\u001b[0m\u001b[0;34m(\u001b[0m\u001b[0mpersons\u001b[0m\u001b[0;34m)\u001b[0m\u001b[0;34m)\u001b[0m\u001b[0;34m)\u001b[0m\u001b[0;34m\u001b[0m\u001b[0m\n\u001b[0m",
      "\u001b[0;31mNameError\u001b[0m: name 'uniq' is not defined"
     ]
    }
   ],
   "source": [
    "persons = []\n",
    "organizations = []\n",
    "\n",
    "for i,d in df[0:1500].iterrows():\n",
    "\n",
    "    doc = nlp(d.message)\n",
    "\n",
    "    if len(doc.ents) > 0:\n",
    "        for ent in doc.ents:\n",
    "            if ent.label_ == 'PERSON':\n",
    "                persons.append(str(ent))\n",
    "            elif ent.label_ == 'ORG':\n",
    "                organizations.append(str(ent))\n",
    "\n",
    "                \n",
    "                \n",
    "#             elif ent.label_ == 'GPE':\n",
    "#                 GPE.append(str(ent))\n",
    "#             elif ent.label_ == 'NORP':\n",
    "#                 NORP.append(str(ent))\n",
    "            # all the other entities that might make sense\n",
    "#             elif (ent.label_ not in ['CARDINAL', 'ORDINAL', 'PERCENT','DATE','TIME']) :\n",
    "#                 entities.append((str(ent), ent.label_))\n",
    "\n",
    "\n"
   ]
  },
  {
   "cell_type": "code",
   "execution_count": 6,
   "metadata": {},
   "outputs": [
    {
     "name": "stdout",
     "output_type": "stream",
     "text": [
      "[' ', '  ', '  Meg', ' \"', ' AHAHAHAHA', ' Ave Imperator', ' Charlie Baker', ' Clinton’s', ' Cruz', \" Cruz'\", ' Dicks', ' Fox', ' Frans Timmermans', ' Hillary Clinton', ' Of', ' Telling', ' The Left', ' The Sith Star Wars', ' Trump', ' Whyte', '#Bill', '#BillClinton', '27 and29)', '9/11', '9/11 - He', '>Trump', 'A. She', 'ABRAHAM LINCOLN', 'Abdullazeez Red', 'Abraham Lincoln', 'Adam', 'Adam Cain Kolbábek', 'Adam J', \"Adam J.Meek's\", 'Adam Lanza', 'Adam Perkowski', 'Adams Jones', 'Adolf Hitler', 'Agender', 'Aka spy', 'Al Frankin', 'Al Gore', 'Al Nusra', 'Al Sharpton', 'Al-Fitnah', 'Aleksa Prelic', 'Aleppo', 'Alex', 'Allen', 'Alright', 'Alt', 'Alt Right', 'Alt-Right', 'Alton Sterling', 'Amanda E. Knight', 'America’s', 'Amour', 'América Latina', 'Anders Behring Breivik', 'Anderson', 'Andrew', 'Andrew Engeldinger', 'Andrew Jackson', 'Andrew McDowell', 'Ang Lee', 'Angel Merkel', 'Angela Merkel', 'Angus', 'Angus \"', 'Angus Evans', 'Anthony Lewis Hacker', 'Anthony Senecal', 'Anthony Teel', 'Antichrist', \"Antonio Gramsci's\", 'April Moran', 'Asad', 'Assad', 'Atleast', 'Audrey Lina Martinez', 'Australian Trump', 'Autarky', 'Avinash Hingorani', 'Azad Afif', 'Azeem Malik', 'Azlan Halloran', 'B. You', 'BACK', 'BAD', 'BETTER', 'BUILD', 'Bahahahahahaha', 'Balls Back', 'Ban', 'Bananas', 'Bankrupt 4', 'Bankruptsy', 'Barbara Tretola', 'Barron', 'Barry Goldwater', 'Bashir Alzayat', 'Batman', 'Becuase', 'Ben', 'Ben Carson', 'Ben Koehnen', 'Ben Sasse Mass.', 'Ben Shapiro', 'Bengazi', 'Benghazi', 'Benjamin', 'Berkley', 'Berlin', 'Bernie', 'Bernie Sanders', 'Bernie Sanders Unblock', 'Betty', 'Bianca Christine Muñoz', 'Bias', 'Bible', 'Biden', 'Bill', 'Bill Clinton', 'Bill King', 'Bin Laden Determined', \"Black America's\", 'Black American', 'Black Americans', 'Black Lives', 'Black on', 'Blackman', 'Blake', 'Blake Broussard', 'Blake Wilson', 'Blue', 'BoE', 'Bob', 'Bob Truehaft', 'Bobby Bologna', 'Bogdan Sirant', 'Bongdingle Simmers', 'Boo Hoo', 'Borderline', 'Bowl', 'Brad', 'Brandon Nicholas Wentzel', 'Brasil-implementação', 'Brett', 'Brexit', 'Brian', 'Brian Mulroney', 'Britbros', 'Bro', 'Brock', 'Brock Landers', 'Brown', 'Bruce', 'Bullies Trying', 'Bullshit', 'Burnie', 'Bush', 'CAN', 'COUNTRY', 'Cali', 'Caliph', 'Cameron', 'Cameron Carlson', 'Carl', 'Carlos Curbelo', 'Carlos Salinas', 'Carol Feligno', 'Carry', 'Carson', 'Carter', 'Castro', 'Cecil Lansdowne', 'Chad Sweet', 'Chance Duvall', 'Charles', 'Charles Bennett', 'Charles Gonzalez', 'Charley Dannielle', 'Chase Murphy', 'Chertoff', 'Chretien', 'Chris', 'Chris Inglesby', 'Chris Miller', 'Chris Vance', 'Christ', 'Christianity', 'Christobol Colon', 'Christopher Conway', 'Chuck', 'Chuck Schemer', 'Chuck Woolery', 'Chump', 'Clint', 'Clinton', 'Clintons', 'Clinton’s', 'Cluelessnes', 'Coach', 'Cole Azevedo', 'Cole Max', 'Commie', 'Communism', 'Condoleezza Rice', 'Connor', 'Contribute', 'Craig’s', 'Crawling', 'Creed', 'Crooked Hillary', 'Cruz', 'Cuckerberg', 'Curiel', 'D Trump', 'D. Trump', 'DONALD', 'DONALD TRUMP', \"DONALD TRUMP'S\", 'DRUMS BEAT WILDLY', 'Dad', \"Daddy Trump's\", 'Dai', 'Damion Davis', 'Damm', 'Dan Curtis', 'Daniel', 'Daniel Skafte', 'Danika Lee', 'Danny Zunno', 'Danta Dadka', 'Dante Silvestro', 'Darko Marković', 'Darling', 'Darren Greer', 'Darren Pelletier', 'Dave Rubin', 'David Bernstein', 'David Cameron', 'David M. Phillips', 'David Neumark', 'David Ristuccia', 'De doo', 'Deacu Bogdan', 'Deborah Tucker', 'Decay', 'Deceit', 'Dem', 'Demicrips', 'Demmies', 'Denis Skovorodnikov', 'Dennis', 'Dennis Chase', 'Derek Luis Sanedrac', 'Devan', 'Devan Evans', 'Devil', 'Devon B. Bertram', 'Devon Tracy', 'Dios la', 'Dita Sullivan', 'Djihadis', 'Dodd', 'Don', 'Donald', 'Donald  ', 'Donald J Trump', 'Donald J Trump - Legendary Persuader - RRRUUU - 7/7', 'Donald J. Trump', 'Donald Trump', 'Donald Trump - FUTURE POTUS - on', 'Donald Trump November', 'Donald Trump Republican', \"Donald Trump's\", 'Donald’s', 'Doono', 'Douglas Williams', 'Dr', 'Drew', 'Drone Bombings', \"Dumbass Sheep's\", 'Duterte', 'Duvall', 'Duy Nguyen', 'Ed Snowden', 'Edith Gertrude', 'Edmund Hillary', 'Edson Covarrubias', 'Elect HilLIARy', 'Elect Samm', 'Elisabeth Barker', 'Elizabeth', 'Ellen', 'Ellis', 'Emilio Castañeda Hard', 'Emperor God Trump', 'Emperor Trump', 'Emporer', 'Epstein', 'Eric', 'Erik Rivas', 'Erik Thomas', 'Ernst Rohm', 'Erwin von Schwarzdorn', 'Estados Comunistas', 'Este', 'Esther', 'Euros', 'Evans', 'Ewok', 'FRAUD Bernie Sanders', 'Facebook', 'Fafsa', 'Falconer', 'Fame', 'Father', 'Father President', 'Ferguson', 'Fiorina', 'Fitnah', 'Forbes', 'Fox', 'Foxx', 'Franco', 'Frank', 'Frank Fritz', 'Franklin Roosevelt', 'Franklyn', 'Franklyn Thomas Morin', 'Franz', 'Ft Hood', 'Fuck', 'Fuck Khorne', \"Fuck Off'\", 'Fuck Sanders', 'Fuck Trump', 'Fuhk Daht', 'GOD', 'GOOD', 'Gabrielle Giffords', 'Gaddafi', 'Gaon', 'Garanteed', 'Garcia', 'Gary Stephen Bailey', 'Gary Tedder', 'Gene', 'Generalissimus', 'George', 'George Blanda', 'George Bush', 'George Bush Sr', 'George Clooney', 'George H. W. Bush', 'George Hennard', 'George R.R. Martin', 'George Soros', 'George W. Bush', \"George W. Bush's\", \"George W.'s\", 'George Washington', 'Gigi Dixon', 'Gino Dushku', 'Glad', 'Glad The Woman Slapped', 'Glad Trump', 'Glaswegians', 'Glenn', 'Glenn Beck', 'Glenn Merto', 'Globalist', 'Globalists', 'God', 'God Bless', 'God Given', 'God Trump', 'God-Emperor', 'Goldwater', 'Gon', 'Google', 'Google France', 'Govt', 'Gracias', 'Grandbabies', 'Grandfather', 'Grant', 'Graça Salgueiro - Foro de São', 'Greenblatt', 'Greg Trotter', 'Grover Cleveland', 'Guru', 'Guy', 'HILLARY', 'HILLARY    ', 'HILLARY CLINTON', 'Haha', 'Haha Jermaine', 'Hahahahaha', 'Hahahhahahahahahaha Lmao', 'Happy Birthday', 'Haree Hardiq', 'Hassan', 'Hassidic', 'Hayden', 'Heidi', 'Heidi Cruz', 'Heinrich von Coudenhove-Kalergi', 'Hell Communism', 'Hellen Keller', 'Henri', 'Henry V', \"Henry VIII's\", 'Henry Winkler', 'Hero', 'Hilary', 'Hilary to', 'Hillary', 'Hillary  #', 'Hillary  Clinton', 'Hillary \"the', 'Hillary -', 'Hillary 4 - Hilary', 'Hillary Clinton', 'Hillary ca', \"Hillary hasn't\", 'Hillary the right', 'Hillary won(not', 'Hillary-voting', 'Hillarys', 'Hillarywho', 'Hillary’s law', 'Hilliary', 'Hitler', 'Holds Validity', 'Holmes', 'Holy Lord God', 'Honestly', 'Hongrui', 'Hood', 'Horus Lupercal', 'Huffington', 'Hussein', 'Hypocrite Hillary', 'I Marcus Wilson', 'IF Trump', 'Idinkoo ka', 'Idk man', 'Illiterate', 'Illuminati', 'Isaac', 'Isis', 'Islam', \"Islam hasn't\", 'Islamica', 'Islamist', 'Israelites', 'Ivana', 'Izzy', 'J. TRUMP', 'JOHN F. KENNEDY', 'JOHN LENNON', 'Jaallayaal Waxaan', 'Jack Daniel', 'Jack Daniels', 'Jack Whyte', 'Jacob', 'Jacob Göranson', 'Jai Jyoti', 'Jair Bolsonaro', 'Jake Pietras', 'James Daniel Simpson', 'James Garfield', 'James Holmes', 'James Hubert', 'James Pough', 'James Ussher', 'Jane Addams', 'Jane T', 'Jared Lee Loughner', 'Jarl', 'Jasiel Delgado', 'Jason Fredieu', 'Javier', 'Jay Inslee', 'Jay Kyda', 'Jeb', 'Jeb Bush', \"Jeb Bush's\", 'Jebs', 'Jeff Epstein', 'Jeff Neily', 'Jeffrey Epstein', 'Jennifer Johnson Everything', 'Jensen', \"Jeremiah Wright's\", 'Jesus', 'Jesus Christ', 'Jihadists', 'Jill Stein', 'Joanna Southcott', 'Job Loss', 'Jodo Kast', 'Jodo Kast Romanians', 'Joe', 'Joe Biden', 'Joe Chiffers', 'Joe McCarthy', 'Joel Sandhu', 'John', \"John Brennan's\", 'John F. Kennedy', 'John Hancock', 'John Kasich', 'John Martin', 'John P Howard', 'John Sandman', 'John Tessitore', 'Johnson', 'Joker', 'Jon Stewart', 'Jonathan Branch', 'Jonathan Greenblatt', 'Jonathan Leibowitz', 'Jonathan Weisman', 'Jordan Knorr', 'Jorge Ramos', 'Jose', 'Jose Eas Rosa', 'Joseph Sabia', 'Josephine Ingrassia', 'Josh', 'Josh Adams', 'Josh Eisman', 'Joshua', 'Juanita', 'Juanita Broaddrick', 'Juanita Broadrick', 'Judeo', 'Judy Floyd', 'Jus Soli', 'Justified', 'Justin', 'Justin Amash', 'Justin Murphy', 'KASICH', 'KHAN', 'KIDS', 'Kafir', 'Kalergi', 'Kallergis', 'Kancun', 'Karl Marx', 'Kasich', 'Kate Couric', 'Kazahstan', 'Keith Welch', 'Kek Wills', 'Kelly', 'Kelvy Rene Iturralde', 'Kevin', 'Khorne', 'Kill Shot - destroy', 'Killary', 'King', 'Kiwi', 'Kmart', 'Koran', 'Kris', 'Kurt Evans', 'Kyle', 'Kühl Assad', 'LEGALS', 'LITTLE GIRL', 'La Raza', 'Laissez', 'Larry', 'Larry Asbrook', 'Larry King', 'Latifa', 'Latinos', 'Law', 'Lawd', 'Lawrence Root', 'Lawyer', 'Left', 'Legioneers', 'Lenin', 'Leon M Kaiser', 'Leon Trotsky', 'Leste Europeu', 'Lester', 'Lester Holy', 'Levant', 'Levaquin', 'Liam', 'Liam Betit', 'Libs do', 'Lily', 'Lindsey Graham', 'Lmao', 'Lmfao', 'Lo', 'Lo unico', 'Lockheed Martin', 'Lodge B’nai B’rith', 'Logan Mountford', 'Lol', 'Lol Mexico', 'Lololol', 'Lopez', 'Lopez Rosario', 'Lord', 'Louie Huffenreuter', 'Lucious Fox', 'Luis Gutierrez', 'Luis Ramirez Romo', 'Luke', 'Lyin Ted', 'Lynsee Rae', 'MAKE', 'MALCOLM X', 'MAYBE', 'MEMEING', 'MEN', 'MEXICO RAISED', 'MORRIS', 'MOST', 'Ma', 'Maajid Nawaz', 'Maharlikan', 'Makarov', 'Man', 'Mana', 'Manifestos', 'Mao', 'Mar', 'Marco', 'Marco Rubio', 'Marcos', 'Mariam', 'Mariam Magnuson', 'Marilyn Monroe', 'Mark', 'Mark Buerschaper', 'Mark Kunkel', 'Mark Menegus', 'Mark Osterloh', 'Mark Rich', 'Mark Wilson', 'Mark Zucheberg', 'Markarth Incident', 'Marlene Arseneault', \"Mart'in\", 'Martial Law', 'Martin', 'Martin Luther King Jr.', \"Martin O'Malley\", 'Martín Zampaglione', 'Marx', 'Mary', 'MaryAnne Malec', 'Mason Henne', 'Mass', 'Masters', 'Matt', 'Matt Doel', 'Matt Max They', 'Matt Shaw - in', 'Max Warburg', 'May Trump', 'McCain', 'McCarthy', 'McConnell', 'Megyn Kelly', 'Mein Kampf', 'Mercado', 'Merkel', 'Mesothelioma', 'Meteora', 'Michael Brown', 'Michael Chertoff', 'Michael Dowd', 'Michael J. Hicks', 'Michael Nelson', 'Michael Ramstedt', 'Michael Ramstedt Psssst', 'Michael Wayne Graves', 'Micheal', 'Micheal Brown', 'Michelle', 'Michelle Fields', 'Miek', 'Miguel Lopez', 'Mihai Rusu', 'Mike', 'Mike Cernovich),her', 'Mike Hardison', 'Mike Lee', 'Mike Swierk', 'Mike Wolfe', 'Miley Cyrus', 'Militia', 'Militsiya', 'Milo', 'Milo Yiannopoulos', 'Mimir', 'Minor', 'Mirko Christoph', 'Mitch McConnell', 'Mitchell', 'Mitsu Aoyama', 'Mitt Romney', 'Mohammed', 'Moldova', 'Mongoloid', 'Mongols', 'Monica Lewinsky', 'Monks', 'Moon', 'Mooniac', 'Moron', 'Moses', 'Mother', 'Mrs Clinton', 'Muhammad', 'Muhammed', 'Mulroney', 'Murdock Murdock', 'Murika', 'Murrica', 'Mussolini', 'Muzzies', 'Myself', 'Nate Hanford', 'Nate Silver', 'Nathaniel so', 'Nazi', 'Nazi Germany', 'Nazionalsozialist', 'Nazis', 'Neil Cavuto', 'Neumark', 'Neurosyphilis', 'Newt', 'Nicholas Stanford', 'Nick', 'Nigel', 'Nikki Haley', 'Nino infirmity', 'Nixon', 'Norman Lepoff', 'Norse Mythology', 'OJ Lopez', 'Obama', 'Obama HATES', 'Obama ai', 'Obama done', 'Obama is of', 'Obama(maybe', 'Obama’s', 'Ocar Vanberg', 'Odin', 'Offtopic', 'Omar', 'Op', 'Opt Friend', 'Oulanem', 'Outlaw Lobbying', 'PARTY', 'PHYLLIS SCHLAFLY', 'PLEASE READ', 'Paaaaaaaauuul', 'Paaaauuul', 'Page', 'Pages', 'Pam Bausmith Naber', 'Parkinson', 'Party', 'Pastor', 'Patch', 'Patrick', 'Patrick Mascari', 'Patrick Sherrill', 'Paul', 'Paul Revere', 'Paul Ryan', \"Paul Ryan's\", 'Paul Zhaurov', 'Peg MUST', 'Pell', 'Pence', 'Penn', 'Pepe', 'Perkins v. Elg', 'Pete', 'Peter', 'Peter Damasco', 'Peter Ilyich Tchaikovsky', 'Peter Schweitzer', 'Peter Switzer', 'Phil', 'Philweb', 'Phyllis', 'Pierre', 'Pig', 'Pitt John', 'Platter', 'Pneumonia', 'Politics', 'Politifact', 'Posen', 'Poverty Evidence', 'Power', 'Princess Diana', 'Prophet', 'Proud', 'Ps', 'Puertorriqueños', 'Putin', 'Qarannimada Somaliyeed', 'Queen Catherine', 'Quran', 'READ PLEASE', 'ROBERT F. KENNEDY', 'Racisim', 'Radicalismo Político', 'Ragwel Meaning', 'Ramadan', \"Ramadan Logo'\", 'Ramzan Kadirov', 'Rand Paul', 'Randal Sen', 'Rape', 'Rapids', 'Rasul Allah', 'Reagan', 'Rebecca Leighann Graham', \"Recover Ling-Ling's\", 'Reddit', 'Reich', 'Reich Church', 'Religious Text', 'República Popular da China', 'Reyes', 'Rice', 'Rich', 'Richard Ashton', 'Richard Burkhauser', 'Richard Cassiday', 'Richard Coudenhove Kalergi', 'Richard Simmons', 'Ricko', 'Ride', 'Rob Espinoza', 'Robert', 'Robert Bentley', 'Robert Kahn', 'Robert Pennington', 'Robert Zoellick', 'Robin Williams', 'Rofl Trump', 'Ron Paul', 'Ronald Reagan', 'Roosevelt', 'Rose Law', 'Rosie', \"Rosie O'Donnell\", 'Rothschild', 'Rothschilds', 'Ruben', 'Rubio', 'Rules For Radicals', 'Rupert Murdoch', 'Rush Limbaugh', 'Rwandan', 'SAVE', 'Sadam', 'Saddam Hussein', 'Saddam Hussein Ultralight', 'Saint Elizabeth Seton', 'Saint-Saëns', 'Sam Harris', 'Samuel', 'Samuel Robert', 'San Marcos', 'Sanders', 'Sanguinius', 'Sarah Palin', 'Sarcasm', 'Saudi Arabis', 'Saul Alinksy', 'Saul Alinsky', \"Saul Alinsky's\", 'Schlafly', 'Schmidt', 'Scott', 'Sean', 'Seco Jacob Amos Frank Green', 'Secret E-Mails', 'Senecal', 'Sergio', 'Sergio Legaspi', 'Shane Seemann', 'Shanks', 'Sharia', 'Sharia Law', 'Sharon Allen Strickland', 'Shaun King', 'Sheegayaa', 'Shirkuna', 'Shirley Temple', 'Shit', 'Shkreli', 'Sick', 'Sir', 'Siyaasadda Gurracan', 'Skrillex', 'Skyrim', 'Slavery', 'Smh', 'Smith', 'Socialism', 'Somethings', 'Soros', 'Soundbite Zombies', 'Stadiums', 'Starbucks', 'Steam', 'Stephan J. Cox', 'Stephen Sicard Hey', 'Steve Staymates', 'Steven \"Lets', 'Steven Crowder', 'Steven Fry', 'Stfu', 'Stop', 'Stormcloaks', 'Street', 'Strife', 'Strong Trump', 'Stump', 'Sturla Roysland', 'Sturmabteilung', 'Sue Alan Rawlings', 'Sung', 'Sung Kim', 'Super Pac', 'Super Pacs', 'Sweet', 'Sweet Jesus Pray', 'Sweet co-', 'Sympathizes w', 'THAT', 'TIM KAINE', 'TRUMP', 'TRUMP Supporters', 'TRUMP TRAIN', 'TRUMP TRUMP TRUMP', 'Tal', 'Tamara Dodd', 'Tamriel', 'Tbh', 'Ted', 'Ted Cavalli', 'Ted Country', 'Ted Cruz', 'Ted Cruz \"', \"Ted Cruz's\", 'Ted Kennedy', 'Ted a', 'Ted on', 'Teddy Roosevelt', 'Teniendo', 'Teresa Barnwell', 'Terrence', 'That \"King of the Hill\"', 'Thom Well', 'Thom Weustink', 'Thomas', 'Thomas Jefferson', 'Thomas More', 'Thomas Paine', 'Tim', 'Tim Berners-Lee', 'Tim Kaine', 'Tom', 'Tom Anderson Wut', 'Tom Pappert', 'Tony', 'Travelgate', 'Trovsky', 'Trudeau', 'Truly', 'Trump', 'Trump :D Thursday', 'Trump Bernie', 'Trump Casinos', 'Trump Dumf', 'Trump Groups', 'Trump LOSES', 'Trump Steaks', 'Trump Support', 'Trump Supporters', 'Trump Tower', 'Trump Vodka', 'Trump\" BLM', 'Trump-Supporting', 'Trumps VP', 'Trump’s', 'Trust Fox', 'Ttyl', 'Turkserbs', 'Tyler Lutz', 'Tyranny', 'Ulysses Grant', 'Ut Ecclesiam', 'Vade', 'Valora', 'Verito', 'Vida', 'Vince Foster', 'Vinton Cerf', 'Vito', 'Vladimir Putin', 'Vol', 'Voting Trump', 'WANT', \"WE'D ALREADY\", 'WHAT', 'WRITING', 'Waaaa', 'Wallace', 'Warhammer', 'Warhammer 40.000', 'Warren', 'Wascher', 'Waxaan', 'Wayne \"Debt Machine', 'Weed', 'Wehrmacht', 'Whilst', 'White', 'White Guilt', 'Whitewater', 'Whitney Houston', 'Whoopi Goldberg', 'Wikileaks', 'Will Rogers', 'William', 'William Wallace', 'William Wascher', 'Windhelm', 'Winston Churchill', 'Wise', 'Wise Leader\".Yeah', 'Woah', 'Wong Kim Ark', 'Woodrow Wilson', 'Woody Allen', 'Wrong Blake', 'Wu Tang Clan', 'Xiomara', 'Xiomara Zoe Cortes', 'YET HILLARY', 'YT PPL', 'YU', 'YU QUICKER', 'Yall', 'Yeh Dil', 'Yiannopoulos', 'YouTube', 'Yousaf Pathan', 'Yusuf Ali', 'Z', 'ZAALIM KHAN', 'Zach', 'Zane Cofield', 'Zeifman', 'Zionists Trump', 'Zuckerbergs', 'a Marine', 'al-in-', 'al-yamin', 'dicks', 'durbin', 'health-- George Washington', 'hillary', 'libby', '¿De', 'África', '’90s', '’s']\n"
     ]
    }
   ],
   "source": [
    "print(sorted(list(set((persons)))))"
   ]
  },
  {
   "cell_type": "code",
   "execution_count": 8,
   "metadata": {},
   "outputs": [
    {
     "name": "stdout",
     "output_type": "stream",
     "text": [
      "[' ', ' New York', ' Shabbat Shalom', '>Openly', '>Pro', 'AA-dolf Hit', 'AALIYAH', 'AALS', 'ABC', 'ABORTION', 'ABUSED', 'ADL', 'ADM', 'ADM Rights', 'AGAIN', 'AGAINST A DECENT - COUNTRY', 'AIPAC', 'AKA', 'AMERICAN', 'ANOTHER CHANCE', 'ANYTHING', 'APPARENTLY', 'APPLY', 'ARPANET', 'ARSony   ', 'Al Qaeda', 'Al-Qaeda', \"Alzheimer's\", 'American Pride', 'American Samoa', 'Americas', 'Amnesty', 'Anarchy, Communism', 'Anglo-Saxon', 'Anti Racism', 'Anti-Nazi', 'Anti-Trump', 'Antichrist', 'Apostates & Martyrdom', 'Apostle', \"App't\", 'Apple', 'Arabic', 'Army', 'Aryanism, Nordic/Euro', 'Asad', 'Auschwitz', 'Axis', 'Az-Zalimun', 'BAD SEEDS', 'BAM', 'BANANAS', 'BB', 'BBC', 'BBC UNFAIRLY', 'BC', 'BLM', 'BOB', 'BOT K BADSHA BOT', 'BP', 'BREAKING', 'BTW Muslim', 'Bank of America', 'Barack Obama', 'Barnwell', 'Barrack Obama is,\"The Antichrist', 'Batman', 'Bb', 'Beholding', 'Bell Hero', 'Bernie', 'Bernie Mac', 'Bernie Madoff', 'Bernie Sanders', 'Best', 'Better', 'Big Banks', 'Bills', 'Black', 'Blm', 'Blowbama', 'Borderlines', \"Brayan Carranza's\", 'Brown Pride\"', 'Brussel', 'Bush & Chaney Jesus H Christ', 'CAUCAS', 'CAUCUS', 'CENTRALISATION', 'CEO', 'CERN', 'CIA', 'CIPRO', 'CLINTONS', 'CNA', 'CNN', 'CONGRATS', 'CONSTANT', 'CONTROLS', 'COURAGE', 'CRIMINALS', 'CRUZ', 'CSM', 'CUCK', 'Cara', 'Carrier', 'Cash & Cobain', 'Caucasoid', 'Cause', 'Central', 'Chad Feanny Communist', 'Chaika', 'Chelsea', 'Chelsea Handler', 'Childrens', 'Christ', 'Christ Like', 'Christian School', 'Christian Sharia', 'Christianity', 'Christrianity', 'Christs', 'Cis Males', 'Cite “Natural Born Citizen', 'Citizen', 'Citizen Parents - Venus', 'Citizens', 'Citizenship', 'Clinton Cash', 'Clinton Foundation', \"Clinton News Network's\", 'Clintons', 'Cocaine', 'Columbia', 'Comcast', 'Commonwealth', 'Communism', 'Congress', 'Conservative Republican', 'Coreia', 'Countries', 'Country', 'Courage', 'Court', 'Coyotes', 'Crazy', 'Crazy Bernie', 'Criminal', 'Criminal Justice Degree', 'Crush', 'Cruz', 'DACA', 'DAPA', 'DC', 'DEAD', 'DEATH', 'DEEP', 'DEFINITELY', 'DHS', 'DNA', 'DNC', 'DNVP', 'DO LADIES AND GENTLEMEN', 'DOUBLE', 'DPRK', 'DVD', 'Dalka', 'Dana Kulakowski', 'Dana Kulakowski COUCH', 'Darien Gabriel Vargas Shitlords', 'Dark Master', 'Darth Sidious', 'Deacu Bogdan', 'Dean Jung', 'Decent People', 'Defamation', 'Defense', 'Delegate ... State', 'Demand Hillary Clinton', 'Deputy U.S. Trade', 'Deus Ex Machina', 'Deviates', 'Dhiso Ciidanka Amniga', 'Dishonest Media', 'Disrespected', 'Dominick Fragale', 'Dominion', 'Dorchester,', 'Downtown Los Angeles', 'Drumf on Tv', 'Duke', 'Duterte', 'EBT', 'EBT/Insurance', 'EIC', 'EPIC', 'EU', 'EVERYDAY', 'EVERYONE', 'EVERYWHERE', 'EXACTLY', 'Eddas of Þrumpicæ', 'Elders', 'Electrolux', 'Elvis & m Jackson', 'Embassy', 'Embry-Riddle', 'Emory University', 'Emperor', 'Empire', 'Entre', 'Ergo', 'Ernst', 'Establishment', 'Ethical Rules', 'Evade, Escape', 'F.B.I.', 'FACTS', 'FAFSA', 'FALSE Flag', 'FB', 'FBI', 'FDA', 'FELONY', 'FINALLY', \"FQ's\", 'FTPO', 'FUCK U UP', 'Facebook', 'Faith', 'Family', 'Farmers', 'Fascism', 'Fascist Italy', 'Federal Agent', 'First Lady', 'Fluoroquinolone', 'Ford', 'Former Bernie', 'Forsure', 'Foundation', 'Fox', 'Fox News', 'Freikorps', 'GE', 'GINI', 'GMAC', 'GOD', 'GOOD', 'GOP', 'GPA', 'GTFO', 'Galaxy', 'Games Workshop', 'Geesisan', 'Gender Fluid', 'Genghis', 'German Nazi Party', 'German Workers', 'Giant', 'Giorgio Armani', 'Give Social Security', 'Global Organisation', 'Globalist', 'Globalists', 'Go Check DangerandPlay.com', 'God Emperor Kanzler', 'God Emperor Trump', 'Goldman Sachs', 'Goldman-sachs', 'Google', 'Google Japan', 'Google Trump University', 'Great Crusade', 'Gulfstream Aerospace', 'H1-B', 'HAHA', 'HAVE WE FORGOTTEN', 'HELL', 'HELPED', 'HILARIOUS', 'HISPANICS', 'HUGE', 'HUMAN', 'Hahaha', 'Halliburton', 'Hammerfell', 'Hard Working', 'Hard Working Pawn    ', 'Harper', 'Heavy Metal Sweden', 'Hell', 'Hil-Dog', 'Hill', 'Hillar', 'Hillaries', 'Hillary', 'Hillary,\"The Whore Of Babylon', 'Hillarys', 'Hillarys VP', 'Hitlary', 'Holiday Inn', 'Hollywood', 'Homeland Security', 'Horseman', 'House', 'Humiliare', \"Hèr Führèr Trump's\", 'ICU', 'IDF', 'IDK', \"IE UK's\", 'IG', 'ILLEGAL', 'IM A', 'IMO', 'INTENTIONALLY', 'IQ', 'IRL', 'IRS', 'ISIS', 'ISIS Regime of Iran', 'Idgaf', 'Idiots', 'Illegal Mexican Immigrants', 'Imam', 'Imperial', 'Imperial Legion', 'Imperium', 'Instagram,', 'International', 'Ireland England', 'Islam', 'Islamic Studies', 'Islamification of', 'Isreal', \"It's Weaponry\", 'Ivana', 'Iyadaan wax u', 'Izzy Bell', 'JUMP', 'Jaallayaal Ciidamada Amisom Amnigayaga', 'Jaallayaal,', 'Jesus', 'Jesus The Christ', \"Jesus'\", 'Jews', 'Judeo-Christian', 'Julius Colettis Difference', 'KARMA', 'KGB', 'KKK', 'KKKlan', 'Kebab', 'Kremlin', 'Krypt Keeper Bernie', 'LAPD', 'LEO', 'LEVAQUIN', 'LEVAQUIN & AVELOX CRIPPLE & KILL', 'LGBT', 'LGBTQABCDEFG', 'LIE', 'LIE LIE', 'LIFE', 'LIONS', 'LLC', 'LNP.', 'LOL', 'Labor', 'Lack of Education', 'Landmark Legal Foundation', 'Left', 'Legal Satisfied Customers', 'Lego', 'Liberal Party', 'Libtards', 'Life', 'Live', \"Luby's\", 'Lucky', 'Lyin', 'MAGA', 'MAJORITY', 'MAKE AMERICA', 'MINDGAMES', 'MORALS', 'MORE', 'MRA', 'MRAP', 'MSM', 'MSNBC', 'Mafia', 'Main Stream', 'Mandate of Palestine', 'Maori', 'Marco', 'Marine', 'Marko Barauna Pezelj', 'Master of Mankind', 'Matrix', 'McDonald', 'McDonalds', 'Medicaid', 'Mein Kampf', 'Members of Congress', 'Men Vs Women', 'Messiah', 'Mexicam-American', 'Mic Unblock', 'Microsoft', 'Middle Eastern', 'Middle Eastern Hiroshima', 'Mogadishu - Ever', 'Mongol', 'Monsanto', 'Mother Fuckers', 'Mother Teresa', 'Mp', 'Murder Inc.', 'Mussolini', 'My Business Unblock ATTN', 'NAFTA', 'NATO', 'NAWABZADA', 'NBC', 'NCLR', 'NDTS', 'NEED', 'NO FALL Demand', 'NORMAL', 'NORWAY', 'NOW', 'NRA', 'NSA', 'NSDAP', 'NSGWP', 'NWO', 'NYT', 'National Socialism', 'National Socialism (German', 'National Socialist', 'Nationalsozialistische Deutsche Arbeiterpartei', 'Natives', 'Natural Born Citizen', 'Navy', 'Nazi', 'Nazi Germany', 'Nazis', 'Nazism', 'Negroid', 'Neighborhood Watch', 'Never Trumpers', 'New North Pakistan', 'New World Order', 'Next', 'Nihilism', 'Nintendo', 'Noelson Norman Danneskjöld', 'Nord', 'Nords', 'Normal', 'Noway', 'Nurgle', \"O'Malley\", 'OARNGE', 'OBAMA', 'OBAMACARE', 'OMG', 'ONE BAJILLION', 'OP', 'OPINON', 'OSHA', 'OTHER', 'OWN', 'Obama', 'Obamacare', 'Odin', 'Odinism,', 'Ole US', 'Oligarchy', 'Oracle', 'Osama', 'P.S. I', 'P.S. the', 'PAAAAAAUUUUULLL', 'PAID', 'PBS', 'PEACE', 'PERIOD', 'PMC-s', 'POCKET', 'POTUS', 'PRECISELY', 'PRO', 'PTSD', 'Palestine', 'Palouse Psychiatry & Behavioral Health Clinic', 'Pan-European', 'Pan-Germanism', 'Parathyroidism', 'Parkinson', 'Parliament', 'Patriots', 'Paulita', 'Pearson', 'Pension', 'People', 'Pepe', 'Phase 1', 'Pocahontas', 'Policy', 'Porsche', 'Pre-WWI United States', 'Presumptive Republican Nominee', 'Pro-Trump', 'Progressives', 'Pullman', 'Pullman Regional Hospital', 'Putins party(Единая Россия', 'RACE', 'RACIST', 'RAPIDLY', 'REALLY', 'RECORDS', 'REEEE', 'REMF', 'RIGGED', 'RINO', 'RNC', 'Red Terror', 'Reddit,', 'Republican Party', 'Resistance Force', 'Reuters', 'Ricko', 'Rohit Patnaik True', 'Run Over Decent', 'Rwandan', 'Rwandan Genocide Survivor', 'SA', 'SCOTUS', 'SDLRLA', 'SHIT', 'SJW', 'SJW Culture', 'SJW.exe', 'SOLVING', 'SOS', 'SSI', 'STILL', 'STOLEN', 'STP', 'SUCH', 'SUV', 'SWAT', 'Sadie', 'Safaaarad', 'San Bernandino', 'Sanders', 'Sanguinius', 'Semi-Trucks', 'Senate', 'Seung - Hui Cho', 'Shacab', 'Shallow', 'Sharciga', 'Sharia Law', 'Sheriff', 'Shillary', 'Shoulda', 'Sierra Blanca’s', 'Skyrim', 'Social', 'Social Democracy Democratic Socialism', 'Socialism', 'Socrates', 'Sodom', 'Space Marine', 'Sputnik News', 'Star-Child', 'State', 'State Department', 'State Education', 'States of America', 'Suffocation', 'Suicide', 'Summa', 'Supreme Court', 'Synthol', 'T Shirt Co', 'TBH', 'TCP', 'THAT', 'THE COMMON', 'THE FUCK UP', 'THE GOD-EMPEROR', 'THE GUN', 'THE KIDS TABLE', 'THE SAME', 'THE TRASH OF LIBERALS', 'THE TRUMP TRAIN', 'THE WALL THOSE', 'THE WHITE HOUSE', 'THEIR', 'THEMSELVES & cheaper', 'THEY', 'THIS', 'TODAY', 'TPP', 'TREASON', 'TRUE', 'TRUMP & HIS FAMILY', 'TRUMP GROUPS', 'TRUMPSTER', 'Tax Dollars', 'Tech Unblock Omeleto Unblock Broad City', 'Tenacity, Drive', 'Teresa Barnwell', 'Texas State', 'Thalmor', 'The 51st Templer', 'The Alt Right', 'The Apprentice', 'The Aspen Institute', 'The Atlantic Unblock HuffPost Women Unblock BuzzFeed Unblock BuzzFeed Video Unblock', 'The Atlas of Beauty Unblock', 'The Australian Liberty Alliance', 'The Brit Renaissance Policy Institute', 'The Bureau of Engraving and Printing', 'The Christian Right', 'The Coudenhove-Kalergi', 'The Crisis', 'The Daily Stormer', 'The Democratic party', 'The Emperor of Mankind', 'The Filthy', 'The French', 'The Future', 'The God Emperor', 'The Government TAKE s', 'The Huffington Post', 'The Huffington Post Unblock', 'The Members Pay', 'The Muslim Brotherhood', 'The New Testament', 'The New York Times', 'The President', 'The Vatican city', 'The Welfare Queens', 'The White Women', 'The World Great', 'Their Mother s', 'Third World', 'This Anniversary of', 'Time', 'Top Notch Creepy', 'Transmission Control Protocol', 'Treacy Smile Gutierrez', 'Treaty of Guadalupe Hidalgo', 'Troll', 'Trump Airlines', 'Trump T Shirts', 'Trump Territory', 'Trump University', 'Trumpers', 'Truth', 'Tumblerina', 'U N S T U', 'U SMOKING', 'U.N.', 'U.S. District Court', 'U.S. Soil', 'U.S.A.', 'U.S.A. Inc', 'UKIP', 'UN', 'UP TO', 'UR IGNORANCE', 'USA', 'USA Watch', 'USA-centric', 'USC', 'USSR', 'USSR(see', 'USTR', 'Ulfric', 'Ultimate Good', 'Unify', 'Union Station', 'United', 'Unity', 'Univision', 'Univision News', 'União Soviética', 'Ur American Indians', 'VA', 'VERIFIED', 'Valid', 'Villa Somalia Ajnabi Degannaado', 'Votes', 'Voting', \"WASN'T\", 'WAY OR', 'WILL', 'WIN - SHE', 'WMD', 'WORLD', 'WORLD OR', 'WOW', 'WRONG W', 'WSU', 'WTC', 'WTF', 'WWI', 'WWI Germany', 'Walgreen', 'Walls', 'Walmart', 'Walt Disney', 'Warhammer 40k', 'Washington Post', 'Wayne Enterprises', \"Wendy's\", 'Western Civilisation', 'Western Civilization', 'Western Culture', 'Western Union', 'Westward', 'Wetbacks', 'White', 'White European Culture', 'White House', 'White Vs Black', 'WhiteWater', 'Wikipedia', 'World', 'X,', 'YELLS', 'YOU', 'YUGE', 'YUUUGEST', 'Yahoo Japan', 'YouTube', 'Yourselves', 'a High School Gymnasium', 'a Marxist Communist', 'a Muslim Majority', 'a REAL Muslim', 'a Socialist Communist', 'bernie', 'her Secret Service', 'his Power', \"o'malley\", 'state', 'tThey', 'the Adeptus Astartes', 'the Advanced Research Projects Agency Network', 'the Alt Right', 'the American Black', 'the American Brotherhood', 'the American Nationalism', 'the American Navy', 'the American Oligarchy', 'the Arkansas Childr', 'the Armed Forces', 'the Associated Press', 'the Association of American Law Schools', 'the Attorney General', 'the Attorney General of', 'the Bangor Daily News', 'the Bank of Mexico', 'the Bigger Picture', 'the Birth Certificate', 'the California Communist Party', 'the Catholic Church', 'the Chertoff Group', 'the Clinton Foundation', 'the Clinton Library', 'the Coal Miners', 'the Communist Party', 'the Congressional Record', 'the Crazy Witch', 'the Crony Capitalism', 'the D.C. Bar', 'the Dark Ages', 'the Democratic Party', 'the Dream Child', 'the Economist Group', 'the European Union', 'the Federal Reserve', 'the Federal Trade Commission', 'the Federalist EU', 'the First Lady', 'the Frankfurt School', 'the Hegelian Dialectic', 'the Heritage Foundation', 'the House of Representatives', 'the Immigration & Checkpoints Authority', 'the International Emergency Economic Powers Act', 'the Islamic Brotherhood', 'the Italian Socialist Party', 'the Leftist Media', 'the Legal Services Board of', 'the Lincoln Bedroom', 'the Long Knives', 'the Main Stream Media', 'the Man Emperor of', 'the Martial Law', 'the Million Student March', 'the Muslim Brotherhood', 'the National Council of La Raza', 'the National Reich Church', 'the National Security Council', 'the National Socialist', \"the National Socialist German Workers' Party\", 'the National Socialists’ antiSemitic', 'the Nazi Party', 'the Nazi Symbol', 'the Nazionalsozialistische Deutsche Arbeiterpartie', 'the New Testament', 'the New York State', 'the New York Times', 'the OG Bulwark of', 'the Oval Office', 'the Pax Judaica', 'the People', 'the People’s', 'the Political Pipe Pipers', 'the Presidential Election', 'the Prophet Mohammed', 'the Rat Hole', 'the Regressive Left', 'the Republican party', 'the Royal Family', 'the Salvation Army', 'the San Diego La Raza Lawyers Association', 'the Second World War', 'the Secret Service', 'the Southside on', 'the State Department', 'the State of New York', 'the Supreme Court', 'the Tea Party', 'the Treaty of', 'the Trump Organization', 'the Trump Train', 'the Trump Train Trump', 'the Twentieth Century', 'the U.S. Department of Defense', 'the U.S. General Election', 'the United Kingdom', 'the United Kingdom United Kingdom', 'the United Nations', 'the University of Arkansas Law School', 'the Victory Park', 'the Vince Foster', 'the Volkswagen Bug', 'the Warmaster Horus', 'the Western Hemisphere', 'the White House', 'the White Men', 'the White Race', 'the World Wide Web', 'the World by Ussher', 'the Zodiac Killer', 'the leftist Council', 'u.s', '’re a', '’re a Muslim']\n"
     ]
    }
   ],
   "source": [
    "print(sorted(list(set(organizations))))"
   ]
  },
  {
   "cell_type": "markdown",
   "metadata": {},
   "source": [
    "# Part of Speech Tagging\n",
    "\n",
    "et lemmatization!\n",
    "\n"
   ]
  },
  {
   "cell_type": "code",
   "execution_count": 10,
   "metadata": {},
   "outputs": [
    {
     "name": "stdout",
     "output_type": "stream",
     "text": [
      " token: That \t\t lemma: that \t POS: tag DET  \n",
      " token: 's \t\t lemma: be \t POS: tag VERB  \n",
      " token: not \t\t lemma: not \t POS: tag ADV  \n",
      " token: a \t\t lemma: a \t POS: tag DET  \n",
      " token: viable \t\t lemma: viable \t POS: tag ADJ  \n",
      " token: torture \t\t lemma: torture \t POS: tag NOUN  \n",
      " token: method \t\t lemma: method \t POS: tag NOUN  \n",
      " token: . \t\t lemma: . \t POS: tag PUNCT  \n",
      " token: Not \t\t lemma: not \t POS: tag ADV  \n",
      " token: only \t\t lemma: only \t POS: tag ADV  \n",
      " token: does \t\t lemma: do \t POS: tag VERB  \n",
      " token: the \t\t lemma: the \t POS: tag DET  \n",
      " token: subject \t\t lemma: subject \t POS: tag NOUN  \n",
      " token: go \t\t lemma: go \t POS: tag VERB  \n",
      " token: into \t\t lemma: into \t POS: tag ADP  \n",
      " token: shock \t\t lemma: shock \t POS: tag NOUN  \n",
      " token: and \t\t lemma: and \t POS: tag CCONJ  \n",
      " token: pass \t\t lemma: pass \t POS: tag VERB  \n",
      " token: out \t\t lemma: out \t POS: tag PART  \n",
      " token: , \t\t lemma: , \t POS: tag PUNCT  \n",
      " token: but \t\t lemma: but \t POS: tag CCONJ  \n",
      " token: at \t\t lemma: at \t POS: tag ADP  \n",
      " token: levels \t\t lemma: level \t POS: tag NOUN  \n",
      " token: of \t\t lemma: of \t POS: tag ADP  \n",
      " token: extreme \t\t lemma: extreme \t POS: tag ADJ  \n",
      " token: pain \t\t lemma: pain \t POS: tag NOUN  \n",
      " token: they \t\t lemma: -PRON- \t POS: tag PRON  \n",
      " token: tend \t\t lemma: tend \t POS: tag VERB  \n",
      " token: to \t\t lemma: to \t POS: tag PART  \n",
      " token: lie \t\t lemma: lie \t POS: tag VERB  \n",
      " token: . \t\t lemma: . \t POS: tag PUNCT  \n",
      " token:   \t\t lemma:   \t POS: tag SPACE  \n",
      " token: Torture \t\t lemma: torture \t POS: tag NOUN  \n",
      " token: is \t\t lemma: be \t POS: tag VERB  \n",
      " token: more \t\t lemma: more \t POS: tag ADV  \n",
      " token: psychological \t\t lemma: psychological \t POS: tag ADJ  \n",
      " token: with \t\t lemma: with \t POS: tag ADP  \n",
      " token: physical \t\t lemma: physical \t POS: tag ADJ  \n",
      " token: undertones \t\t lemma: undertone \t POS: tag NOUN  \n",
      " token: . \t\t lemma: . \t POS: tag PUNCT  \n",
      " token:   \t\t lemma:   \t POS: tag SPACE  \n",
      " token: That \t\t lemma: that \t POS: tag DET  \n",
      " token: 's \t\t lemma: be \t POS: tag VERB  \n",
      " token: why \t\t lemma: why \t POS: tag ADV  \n",
      " token: waterboarding \t\t lemma: waterboarding \t POS: tag NOUN  \n",
      " token: works \t\t lemma: work \t POS: tag NOUN  \n",
      " token: , \t\t lemma: , \t POS: tag PUNCT  \n",
      " token: it \t\t lemma: -PRON- \t POS: tag PRON  \n",
      " token: very \t\t lemma: very \t POS: tag ADV  \n",
      " token: painful \t\t lemma: painful \t POS: tag ADJ  \n",
      " token: but \t\t lemma: but \t POS: tag CCONJ  \n",
      " token: it \t\t lemma: -PRON- \t POS: tag PRON  \n",
      " token: 's \t\t lemma: be \t POS: tag VERB  \n",
      " token: even \t\t lemma: even \t POS: tag ADV  \n",
      " token: more \t\t lemma: more \t POS: tag ADV  \n",
      " token: frightening \t\t lemma: frightening \t POS: tag ADJ  \n",
      " token: . \t\t lemma: . \t POS: tag PUNCT  \n",
      " token:   \t\t lemma:   \t POS: tag SPACE  \n",
      " token: You \t\t lemma: -PRON- \t POS: tag PRON  \n",
      " token: brain \t\t lemma: brain \t POS: tag NOUN  \n",
      " token: throws \t\t lemma: throw \t POS: tag VERB  \n",
      " token: a \t\t lemma: a \t POS: tag DET  \n",
      " token: really \t\t lemma: really \t POS: tag ADV  \n",
      " token: big \t\t lemma: big \t POS: tag ADJ  \n",
      " token: fit \t\t lemma: fit \t POS: tag NOUN  \n",
      " token: when \t\t lemma: when \t POS: tag ADV  \n",
      " token: it \t\t lemma: -PRON- \t POS: tag PRON  \n",
      " token: thinks \t\t lemma: think \t POS: tag VERB  \n",
      " token: you \t\t lemma: -PRON- \t POS: tag PRON  \n",
      " token: 're \t\t lemma: be \t POS: tag VERB  \n",
      " token: drowning \t\t lemma: drown \t POS: tag VERB  \n",
      " token: . \t\t lemma: . \t POS: tag PUNCT  \n",
      " token:   \t\t lemma:   \t POS: tag SPACE  \n",
      " token: I \t\t lemma: -PRON- \t POS: tag PRON  \n",
      " token: 'm \t\t lemma: be \t POS: tag VERB  \n",
      " token: order \t\t lemma: order \t POS: tag NOUN  \n",
      " token: to \t\t lemma: to \t POS: tag PART  \n",
      " token: make \t\t lemma: make \t POS: tag VERB  \n",
      " token: someone \t\t lemma: someone \t POS: tag NOUN  \n",
      " token: talk \t\t lemma: talk \t POS: tag VERB  \n",
      " token: to \t\t lemma: to \t POS: tag PART  \n",
      " token: have \t\t lemma: have \t POS: tag VERB  \n",
      " token: to \t\t lemma: to \t POS: tag PART  \n",
      " token: either \t\t lemma: either \t POS: tag CCONJ  \n",
      " token: make \t\t lemma: make \t POS: tag VERB  \n",
      " token: them \t\t lemma: -PRON- \t POS: tag PRON  \n",
      " token: fear \t\t lemma: fear \t POS: tag VERB  \n",
      " token: you \t\t lemma: -PRON- \t POS: tag PRON  \n",
      " token: more \t\t lemma: more \t POS: tag ADV  \n",
      " token: than \t\t lemma: than \t POS: tag ADP  \n",
      " token: the \t\t lemma: the \t POS: tag DET  \n",
      " token: person \t\t lemma: person \t POS: tag NOUN  \n",
      " token: whose \t\t lemma: whose \t POS: tag ADJ  \n",
      " token: information \t\t lemma: information \t POS: tag NOUN  \n",
      " token: they \t\t lemma: -PRON- \t POS: tag PRON  \n",
      " token: 're \t\t lemma: be \t POS: tag VERB  \n",
      " token: protecting \t\t lemma: protect \t POS: tag VERB  \n",
      " token: or \t\t lemma: or \t POS: tag CCONJ  \n",
      " token: break \t\t lemma: break \t POS: tag VERB  \n",
      " token: their \t\t lemma: -PRON- \t POS: tag ADJ  \n",
      " token: spirit \t\t lemma: spirit \t POS: tag NOUN  \n",
      " token: so \t\t lemma: so \t POS: tag ADP  \n",
      " token: they \t\t lemma: -PRON- \t POS: tag PRON  \n",
      " token: just \t\t lemma: just \t POS: tag ADV  \n",
      " token: do \t\t lemma: do \t POS: tag VERB  \n",
      " token: n't \t\t lemma: not \t POS: tag ADV  \n",
      " token: care \t\t lemma: care \t POS: tag VERB  \n",
      " token: anymore \t\t lemma: anymore \t POS: tag ADV  \n",
      " token: . \t\t lemma: . \t POS: tag PUNCT  \n"
     ]
    }
   ],
   "source": [
    "\n",
    "# Exemple sur un message\n",
    "\n",
    "text = df.loc[10].message\n",
    "# print(text)\n",
    "doc = nlp(text)\n",
    "\n",
    "for token in doc:\n",
    "    print(\" token: {} \\t\\t lemma: {} \\t POS: tag {}  \".format(token, token.lemma_, token.pos_))\n"
   ]
  },
  {
   "cell_type": "code",
   "execution_count": 5,
   "metadata": {},
   "outputs": [
    {
     "data": {
      "text/plain": [
       "array(['2016-01-11 00:36:48', '2016-01-09 19:50:11', '2016-01-09 20:44:26',\n",
       "       '2016-02-20 17:03:57', '2016-02-20 15:54:52'], dtype=object)"
      ]
     },
     "execution_count": 5,
     "metadata": {},
     "output_type": "execute_result"
    }
   ],
   "source": [
    "df.columns\n",
    "df['created_at'].head().values"
   ]
  },
  {
   "cell_type": "code",
   "execution_count": 23,
   "metadata": {},
   "outputs": [],
   "source": [
    "from dateutil.parser import parse\n",
    "\n",
    "df['year_month'] = df['created_at'].apply(lambda d : \"{0}-{1:02d}\".format(parse(d).year, parse(d).month)   )\n"
   ]
  },
  {
   "cell_type": "code",
   "execution_count": 24,
   "metadata": {},
   "outputs": [
    {
     "data": {
      "text/plain": [
       "0    2016-01\n",
       "1    2016-01\n",
       "2    2016-01\n",
       "3    2016-02\n",
       "4    2016-02\n",
       "Name: year_month, dtype: object"
      ]
     },
     "execution_count": 24,
     "metadata": {},
     "output_type": "execute_result"
    }
   ],
   "source": [
    "df.year_month.head()"
   ]
  },
  {
   "cell_type": "code",
   "execution_count": 17,
   "metadata": {},
   "outputs": [
    {
     "data": {
      "text/plain": [
       "0       2016-1\n",
       "1       2016-1\n",
       "2       2016-1\n",
       "3       2016-2\n",
       "4       2016-2\n",
       "5       2016-2\n",
       "6       2016-2\n",
       "7       2016-2\n",
       "8       2016-2\n",
       "9       2016-2\n",
       "10      2016-3\n",
       "11      2016-2\n",
       "12      2016-2\n",
       "13      2016-4\n",
       "14      2016-4\n",
       "15      2016-4\n",
       "16      2016-4\n",
       "17      2016-4\n",
       "18      2016-4\n",
       "19      2016-4\n",
       "20      2016-4\n",
       "21      2016-4\n",
       "22      2016-4\n",
       "23      2016-4\n",
       "24      2016-4\n",
       "25      2016-4\n",
       "26      2016-4\n",
       "27      2016-4\n",
       "28      2016-4\n",
       "29      2016-4\n",
       "         ...  \n",
       "6668    2017-8\n",
       "6669    2017-8\n",
       "6670    2017-8\n",
       "6671    2017-8\n",
       "6672    2017-8\n",
       "6673    2017-8\n",
       "6674    2017-8\n",
       "6675    2017-8\n",
       "6676    2017-8\n",
       "6677    2017-8\n",
       "6678    2017-8\n",
       "6679    2017-8\n",
       "6680    2017-8\n",
       "6681    2017-8\n",
       "6682    2017-8\n",
       "6683    2017-9\n",
       "6684    2017-8\n",
       "6685    2017-8\n",
       "6686    2017-8\n",
       "6687    2017-8\n",
       "6688    2017-8\n",
       "6689    2017-8\n",
       "6690    2017-8\n",
       "6691    2017-8\n",
       "6692    2017-8\n",
       "6693    2017-8\n",
       "6694    2017-8\n",
       "6695    2017-8\n",
       "6696    2017-8\n",
       "6697    2017-8\n",
       "Name: year_month, Length: 6696, dtype: object"
      ]
     },
     "execution_count": 17,
     "metadata": {},
     "output_type": "execute_result"
    }
   ],
   "source": [
    "df.year_month"
   ]
  },
  {
   "cell_type": "code",
   "execution_count": null,
   "metadata": {},
   "outputs": [],
   "source": []
  }
 ],
 "metadata": {
  "kernelspec": {
   "display_name": "Python 3",
   "language": "python",
   "name": "python3"
  },
  "language_info": {
   "codemirror_mode": {
    "name": "ipython",
    "version": 3
   },
   "file_extension": ".py",
   "mimetype": "text/x-python",
   "name": "python",
   "nbconvert_exporter": "python",
   "pygments_lexer": "ipython3",
   "version": "3.6.3"
  }
 },
 "nbformat": 4,
 "nbformat_minor": 2
}
