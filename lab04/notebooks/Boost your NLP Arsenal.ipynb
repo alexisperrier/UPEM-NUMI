{
 "cells": [
  {
   "cell_type": "markdown",
   "metadata": {},
   "source": [
    "# De nouveaux outils pour traiter le texte + visualisation\n",
    "\n",
    "## Spacy.io\n",
    "\n",
    "[Spacy.io](https://spacy.io) est une superbe librarie open source pour traiter le texte. Elle offre\n",
    "\n",
    "* POS\n",
    "* NER\n",
    "* Sentiment analysis\n",
    "* ...\n",
    "* Word2Vec\n",
    "\n",
    "\n",
    "## Plot.ly\n",
    "\n",
    "[Plot.ly](https://plot.ly) est une superbe librarie de visualization python open source ou payante. Rivalisant avec tableau. \n",
    "\n",
    "Autres lib de visualisation en python : matplotlib, bokeh\n",
    "\n",
    "\n",
    "\n"
   ]
  },
  {
   "cell_type": "code",
   "execution_count": null,
   "metadata": {},
   "outputs": [],
   "source": []
  }
 ],
 "metadata": {
  "kernelspec": {
   "display_name": "Python 3",
   "language": "python",
   "name": "python3"
  },
  "language_info": {
   "codemirror_mode": {
    "name": "ipython",
    "version": 3
   },
   "file_extension": ".py",
   "mimetype": "text/x-python",
   "name": "python",
   "nbconvert_exporter": "python",
   "pygments_lexer": "ipython3",
   "version": "3.6.3"
  }
 },
 "nbformat": 4,
 "nbformat_minor": 2
}
